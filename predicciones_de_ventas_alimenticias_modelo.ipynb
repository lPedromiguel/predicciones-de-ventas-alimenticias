{
  "cells": [
    {
      "cell_type": "code",
      "execution_count": 1,
      "metadata": {
        "id": "S0CU9ZNl4tuB"
      },
      "outputs": [],
      "source": [
        "import pandas as pd"
      ]
    },
    {
      "cell_type": "code",
      "execution_count": 2,
      "metadata": {
        "id": "-hOxarit6HgI"
      },
      "outputs": [],
      "source": [
        "import io\n",
        "df2 = pd.read_csv(r'C:\\Users\\pedro\\Desktop\\Data Science\\python_intro\\Base_de_Datos_Proyecto1\\sales_predictions.csv')"
      ]
    },
    {
      "cell_type": "code",
      "execution_count": 3,
      "metadata": {
        "colab": {
          "base_uri": "https://localhost:8080/",
          "height": 357
        },
        "id": "g6IIDZSj-w29",
        "outputId": "8c45c650-ba77-4c8b-9544-f0af17fbf7c0"
      },
      "outputs": [
        {
          "data": {
            "text/html": [
              "<div>\n",
              "<style scoped>\n",
              "    .dataframe tbody tr th:only-of-type {\n",
              "        vertical-align: middle;\n",
              "    }\n",
              "\n",
              "    .dataframe tbody tr th {\n",
              "        vertical-align: top;\n",
              "    }\n",
              "\n",
              "    .dataframe thead th {\n",
              "        text-align: right;\n",
              "    }\n",
              "</style>\n",
              "<table border=\"1\" class=\"dataframe\">\n",
              "  <thead>\n",
              "    <tr style=\"text-align: right;\">\n",
              "      <th></th>\n",
              "      <th>Item_Identifier</th>\n",
              "      <th>Item_Weight</th>\n",
              "      <th>Item_Fat_Content</th>\n",
              "      <th>Item_Visibility</th>\n",
              "      <th>Item_Type</th>\n",
              "      <th>Item_MRP</th>\n",
              "      <th>Outlet_Identifier</th>\n",
              "      <th>Outlet_Establishment_Year</th>\n",
              "      <th>Outlet_Size</th>\n",
              "      <th>Outlet_Location_Type</th>\n",
              "      <th>Outlet_Type</th>\n",
              "      <th>Item_Outlet_Sales</th>\n",
              "    </tr>\n",
              "  </thead>\n",
              "  <tbody>\n",
              "    <tr>\n",
              "      <th>0</th>\n",
              "      <td>FDA15</td>\n",
              "      <td>9.30</td>\n",
              "      <td>Low Fat</td>\n",
              "      <td>0.016047</td>\n",
              "      <td>Dairy</td>\n",
              "      <td>249.8092</td>\n",
              "      <td>OUT049</td>\n",
              "      <td>1999</td>\n",
              "      <td>Medium</td>\n",
              "      <td>Tier 1</td>\n",
              "      <td>Supermarket Type1</td>\n",
              "      <td>3735.1380</td>\n",
              "    </tr>\n",
              "    <tr>\n",
              "      <th>1</th>\n",
              "      <td>DRC01</td>\n",
              "      <td>5.92</td>\n",
              "      <td>Regular</td>\n",
              "      <td>0.019278</td>\n",
              "      <td>Soft Drinks</td>\n",
              "      <td>48.2692</td>\n",
              "      <td>OUT018</td>\n",
              "      <td>2009</td>\n",
              "      <td>Medium</td>\n",
              "      <td>Tier 3</td>\n",
              "      <td>Supermarket Type2</td>\n",
              "      <td>443.4228</td>\n",
              "    </tr>\n",
              "    <tr>\n",
              "      <th>2</th>\n",
              "      <td>FDN15</td>\n",
              "      <td>17.50</td>\n",
              "      <td>Low Fat</td>\n",
              "      <td>0.016760</td>\n",
              "      <td>Meat</td>\n",
              "      <td>141.6180</td>\n",
              "      <td>OUT049</td>\n",
              "      <td>1999</td>\n",
              "      <td>Medium</td>\n",
              "      <td>Tier 1</td>\n",
              "      <td>Supermarket Type1</td>\n",
              "      <td>2097.2700</td>\n",
              "    </tr>\n",
              "    <tr>\n",
              "      <th>3</th>\n",
              "      <td>FDX07</td>\n",
              "      <td>19.20</td>\n",
              "      <td>Regular</td>\n",
              "      <td>0.000000</td>\n",
              "      <td>Fruits and Vegetables</td>\n",
              "      <td>182.0950</td>\n",
              "      <td>OUT010</td>\n",
              "      <td>1998</td>\n",
              "      <td>NaN</td>\n",
              "      <td>Tier 3</td>\n",
              "      <td>Grocery Store</td>\n",
              "      <td>732.3800</td>\n",
              "    </tr>\n",
              "    <tr>\n",
              "      <th>4</th>\n",
              "      <td>NCD19</td>\n",
              "      <td>8.93</td>\n",
              "      <td>Low Fat</td>\n",
              "      <td>0.000000</td>\n",
              "      <td>Household</td>\n",
              "      <td>53.8614</td>\n",
              "      <td>OUT013</td>\n",
              "      <td>1987</td>\n",
              "      <td>High</td>\n",
              "      <td>Tier 3</td>\n",
              "      <td>Supermarket Type1</td>\n",
              "      <td>994.7052</td>\n",
              "    </tr>\n",
              "  </tbody>\n",
              "</table>\n",
              "</div>"
            ],
            "text/plain": [
              "  Item_Identifier  Item_Weight Item_Fat_Content  Item_Visibility  \\\n",
              "0           FDA15         9.30          Low Fat         0.016047   \n",
              "1           DRC01         5.92          Regular         0.019278   \n",
              "2           FDN15        17.50          Low Fat         0.016760   \n",
              "3           FDX07        19.20          Regular         0.000000   \n",
              "4           NCD19         8.93          Low Fat         0.000000   \n",
              "\n",
              "               Item_Type  Item_MRP Outlet_Identifier  \\\n",
              "0                  Dairy  249.8092            OUT049   \n",
              "1            Soft Drinks   48.2692            OUT018   \n",
              "2                   Meat  141.6180            OUT049   \n",
              "3  Fruits and Vegetables  182.0950            OUT010   \n",
              "4              Household   53.8614            OUT013   \n",
              "\n",
              "   Outlet_Establishment_Year Outlet_Size Outlet_Location_Type  \\\n",
              "0                       1999      Medium               Tier 1   \n",
              "1                       2009      Medium               Tier 3   \n",
              "2                       1999      Medium               Tier 1   \n",
              "3                       1998         NaN               Tier 3   \n",
              "4                       1987        High               Tier 3   \n",
              "\n",
              "         Outlet_Type  Item_Outlet_Sales  \n",
              "0  Supermarket Type1          3735.1380  \n",
              "1  Supermarket Type2           443.4228  \n",
              "2  Supermarket Type1          2097.2700  \n",
              "3      Grocery Store           732.3800  \n",
              "4  Supermarket Type1           994.7052  "
            ]
          },
          "execution_count": 3,
          "metadata": {},
          "output_type": "execute_result"
        }
      ],
      "source": [
        "df2.head()"
      ]
    },
    {
      "cell_type": "markdown",
      "metadata": {
        "id": "0g5N8pEKdhRA"
      },
      "source": [
        "1) ¿Cuántas filas y columnas?"
      ]
    },
    {
      "cell_type": "code",
      "execution_count": 4,
      "metadata": {
        "colab": {
          "base_uri": "https://localhost:8080/"
        },
        "id": "j5K2PYsgdj_2",
        "outputId": "d4b88adb-9d81-4f0e-8ae8-bd4f63796041"
      },
      "outputs": [
        {
          "data": {
            "text/plain": [
              "(8523, 12)"
            ]
          },
          "execution_count": 4,
          "metadata": {},
          "output_type": "execute_result"
        }
      ],
      "source": [
        "df2.shape"
      ]
    },
    {
      "cell_type": "markdown",
      "metadata": {
        "id": "f1CzP0NSd8Ir"
      },
      "source": [
        "Filas, Colummnas\\\n",
        "8523, 12"
      ]
    },
    {
      "cell_type": "markdown",
      "metadata": {
        "id": "oTCG3Hn_d5pI"
      },
      "source": [
        "2) ¿Cuáles son los tipos de datos en cada variable?"
      ]
    },
    {
      "cell_type": "code",
      "execution_count": 5,
      "metadata": {
        "colab": {
          "base_uri": "https://localhost:8080/"
        },
        "id": "tM8RxWbFd6aR",
        "outputId": "c88456f2-376c-4aa2-cb41-ddaecba94a7d"
      },
      "outputs": [
        {
          "data": {
            "text/plain": [
              "Item_Identifier               object\n",
              "Item_Weight                  float64\n",
              "Item_Fat_Content              object\n",
              "Item_Visibility              float64\n",
              "Item_Type                     object\n",
              "Item_MRP                     float64\n",
              "Outlet_Identifier             object\n",
              "Outlet_Establishment_Year      int64\n",
              "Outlet_Size                   object\n",
              "Outlet_Location_Type          object\n",
              "Outlet_Type                   object\n",
              "Item_Outlet_Sales            float64\n",
              "dtype: object"
            ]
          },
          "execution_count": 5,
          "metadata": {},
          "output_type": "execute_result"
        }
      ],
      "source": [
        "df2.dtypes"
      ]
    },
    {
      "attachments": {},
      "cell_type": "markdown",
      "metadata": {
        "id": "zI2cJRize78j"
      },
      "source": [
        "3) ¿Hay duplicados? Si es el caso, eliminar algunos duplicados."
      ]
    },
    {
      "cell_type": "code",
      "execution_count": 6,
      "metadata": {
        "colab": {
          "base_uri": "https://localhost:8080/"
        },
        "id": "FCUGSJ8te8eE",
        "outputId": "2e109444-87b3-42ce-ef81-e2ee62c52748"
      },
      "outputs": [
        {
          "data": {
            "text/plain": [
              "0       False\n",
              "1       False\n",
              "2       False\n",
              "3       False\n",
              "4       False\n",
              "        ...  \n",
              "8518    False\n",
              "8519    False\n",
              "8520    False\n",
              "8521    False\n",
              "8522    False\n",
              "Length: 8523, dtype: bool"
            ]
          },
          "execution_count": 6,
          "metadata": {},
          "output_type": "execute_result"
        }
      ],
      "source": [
        "df2.duplicated()"
      ]
    },
    {
      "cell_type": "code",
      "execution_count": 7,
      "metadata": {
        "colab": {
          "base_uri": "https://localhost:8080/"
        },
        "id": "mgSg1OPkfYol",
        "outputId": "a92bbfbb-fc7f-43f2-dfa5-99ef3ce3e38a"
      },
      "outputs": [
        {
          "data": {
            "text/plain": [
              "0"
            ]
          },
          "execution_count": 7,
          "metadata": {},
          "output_type": "execute_result"
        }
      ],
      "source": [
        "df2.duplicated().sum()"
      ]
    },
    {
      "cell_type": "markdown",
      "metadata": {
        "id": "IB0YsGwYfgfN"
      },
      "source": [
        "No hay duplicados."
      ]
    },
    {
      "attachments": {},
      "cell_type": "markdown",
      "metadata": {
        "id": "y1Jchn6TfmNl"
      },
      "source": [
        "4) Identificar los valores faltantes."
      ]
    },
    {
      "cell_type": "code",
      "execution_count": 8,
      "metadata": {
        "colab": {
          "base_uri": "https://localhost:8080/"
        },
        "id": "d_vs3bVkfmmI",
        "outputId": "09b35fbe-6ce9-45b5-dc40-7eec4311aa65"
      },
      "outputs": [
        {
          "data": {
            "text/plain": [
              "Item_Identifier                 0\n",
              "Item_Weight                  1463\n",
              "Item_Fat_Content                0\n",
              "Item_Visibility                 0\n",
              "Item_Type                       0\n",
              "Item_MRP                        0\n",
              "Outlet_Identifier               0\n",
              "Outlet_Establishment_Year       0\n",
              "Outlet_Size                  2410\n",
              "Outlet_Location_Type            0\n",
              "Outlet_Type                     0\n",
              "Item_Outlet_Sales               0\n",
              "dtype: int64"
            ]
          },
          "execution_count": 8,
          "metadata": {},
          "output_type": "execute_result"
        }
      ],
      "source": [
        "df2.isna().sum()"
      ]
    },
    {
      "attachments": {},
      "cell_type": "markdown",
      "metadata": {
        "id": "yhoglSaAgSsY"
      },
      "source": [
        "5)Decidir cómo abordar los valores faltantes y cómo hacerlo. (Esto requiere sus criterios, así que expliquen su elección)."
      ]
    },
    {
      "cell_type": "code",
      "execution_count": 9,
      "metadata": {
        "colab": {
          "base_uri": "https://localhost:8080/",
          "height": 661
        },
        "id": "_1Kq4IGapFno",
        "outputId": "c5396596-fd8d-4120-b9e0-2c8507589d92"
      },
      "outputs": [
        {
          "data": {
            "text/html": [
              "<div>\n",
              "<style scoped>\n",
              "    .dataframe tbody tr th:only-of-type {\n",
              "        vertical-align: middle;\n",
              "    }\n",
              "\n",
              "    .dataframe tbody tr th {\n",
              "        vertical-align: top;\n",
              "    }\n",
              "\n",
              "    .dataframe thead th {\n",
              "        text-align: right;\n",
              "    }\n",
              "</style>\n",
              "<table border=\"1\" class=\"dataframe\">\n",
              "  <thead>\n",
              "    <tr style=\"text-align: right;\">\n",
              "      <th></th>\n",
              "      <th>Item_Identifier</th>\n",
              "      <th>Item_Weight</th>\n",
              "      <th>Item_Fat_Content</th>\n",
              "      <th>Item_Visibility</th>\n",
              "      <th>Item_Type</th>\n",
              "      <th>Item_MRP</th>\n",
              "      <th>Outlet_Identifier</th>\n",
              "      <th>Outlet_Establishment_Year</th>\n",
              "      <th>Outlet_Size</th>\n",
              "      <th>Outlet_Location_Type</th>\n",
              "      <th>Outlet_Type</th>\n",
              "      <th>Item_Outlet_Sales</th>\n",
              "    </tr>\n",
              "  </thead>\n",
              "  <tbody>\n",
              "    <tr>\n",
              "      <th>0</th>\n",
              "      <td>FDA15</td>\n",
              "      <td>9.300</td>\n",
              "      <td>Low Fat</td>\n",
              "      <td>0.016047</td>\n",
              "      <td>Dairy</td>\n",
              "      <td>249.8092</td>\n",
              "      <td>OUT049</td>\n",
              "      <td>1999</td>\n",
              "      <td>Medium</td>\n",
              "      <td>Tier 1</td>\n",
              "      <td>Supermarket Type1</td>\n",
              "      <td>3735.1380</td>\n",
              "    </tr>\n",
              "    <tr>\n",
              "      <th>1</th>\n",
              "      <td>DRC01</td>\n",
              "      <td>5.920</td>\n",
              "      <td>Regular</td>\n",
              "      <td>0.019278</td>\n",
              "      <td>Soft Drinks</td>\n",
              "      <td>48.2692</td>\n",
              "      <td>OUT018</td>\n",
              "      <td>2009</td>\n",
              "      <td>Medium</td>\n",
              "      <td>Tier 3</td>\n",
              "      <td>Supermarket Type2</td>\n",
              "      <td>443.4228</td>\n",
              "    </tr>\n",
              "    <tr>\n",
              "      <th>2</th>\n",
              "      <td>FDN15</td>\n",
              "      <td>17.500</td>\n",
              "      <td>Low Fat</td>\n",
              "      <td>0.016760</td>\n",
              "      <td>Meat</td>\n",
              "      <td>141.6180</td>\n",
              "      <td>OUT049</td>\n",
              "      <td>1999</td>\n",
              "      <td>Medium</td>\n",
              "      <td>Tier 1</td>\n",
              "      <td>Supermarket Type1</td>\n",
              "      <td>2097.2700</td>\n",
              "    </tr>\n",
              "    <tr>\n",
              "      <th>3</th>\n",
              "      <td>FDX07</td>\n",
              "      <td>19.200</td>\n",
              "      <td>Regular</td>\n",
              "      <td>0.000000</td>\n",
              "      <td>Fruits and Vegetables</td>\n",
              "      <td>182.0950</td>\n",
              "      <td>OUT010</td>\n",
              "      <td>1998</td>\n",
              "      <td>NaN</td>\n",
              "      <td>Tier 3</td>\n",
              "      <td>Grocery Store</td>\n",
              "      <td>732.3800</td>\n",
              "    </tr>\n",
              "    <tr>\n",
              "      <th>4</th>\n",
              "      <td>NCD19</td>\n",
              "      <td>8.930</td>\n",
              "      <td>Low Fat</td>\n",
              "      <td>0.000000</td>\n",
              "      <td>Household</td>\n",
              "      <td>53.8614</td>\n",
              "      <td>OUT013</td>\n",
              "      <td>1987</td>\n",
              "      <td>High</td>\n",
              "      <td>Tier 3</td>\n",
              "      <td>Supermarket Type1</td>\n",
              "      <td>994.7052</td>\n",
              "    </tr>\n",
              "    <tr>\n",
              "      <th>...</th>\n",
              "      <td>...</td>\n",
              "      <td>...</td>\n",
              "      <td>...</td>\n",
              "      <td>...</td>\n",
              "      <td>...</td>\n",
              "      <td>...</td>\n",
              "      <td>...</td>\n",
              "      <td>...</td>\n",
              "      <td>...</td>\n",
              "      <td>...</td>\n",
              "      <td>...</td>\n",
              "      <td>...</td>\n",
              "    </tr>\n",
              "    <tr>\n",
              "      <th>8518</th>\n",
              "      <td>FDF22</td>\n",
              "      <td>6.865</td>\n",
              "      <td>Low Fat</td>\n",
              "      <td>0.056783</td>\n",
              "      <td>Snack Foods</td>\n",
              "      <td>214.5218</td>\n",
              "      <td>OUT013</td>\n",
              "      <td>1987</td>\n",
              "      <td>High</td>\n",
              "      <td>Tier 3</td>\n",
              "      <td>Supermarket Type1</td>\n",
              "      <td>2778.3834</td>\n",
              "    </tr>\n",
              "    <tr>\n",
              "      <th>8519</th>\n",
              "      <td>FDS36</td>\n",
              "      <td>8.380</td>\n",
              "      <td>Regular</td>\n",
              "      <td>0.046982</td>\n",
              "      <td>Baking Goods</td>\n",
              "      <td>108.1570</td>\n",
              "      <td>OUT045</td>\n",
              "      <td>2002</td>\n",
              "      <td>NaN</td>\n",
              "      <td>Tier 2</td>\n",
              "      <td>Supermarket Type1</td>\n",
              "      <td>549.2850</td>\n",
              "    </tr>\n",
              "    <tr>\n",
              "      <th>8520</th>\n",
              "      <td>NCJ29</td>\n",
              "      <td>10.600</td>\n",
              "      <td>Low Fat</td>\n",
              "      <td>0.035186</td>\n",
              "      <td>Health and Hygiene</td>\n",
              "      <td>85.1224</td>\n",
              "      <td>OUT035</td>\n",
              "      <td>2004</td>\n",
              "      <td>Small</td>\n",
              "      <td>Tier 2</td>\n",
              "      <td>Supermarket Type1</td>\n",
              "      <td>1193.1136</td>\n",
              "    </tr>\n",
              "    <tr>\n",
              "      <th>8521</th>\n",
              "      <td>FDN46</td>\n",
              "      <td>7.210</td>\n",
              "      <td>Regular</td>\n",
              "      <td>0.145221</td>\n",
              "      <td>Snack Foods</td>\n",
              "      <td>103.1332</td>\n",
              "      <td>OUT018</td>\n",
              "      <td>2009</td>\n",
              "      <td>Medium</td>\n",
              "      <td>Tier 3</td>\n",
              "      <td>Supermarket Type2</td>\n",
              "      <td>1845.5976</td>\n",
              "    </tr>\n",
              "    <tr>\n",
              "      <th>8522</th>\n",
              "      <td>DRG01</td>\n",
              "      <td>14.800</td>\n",
              "      <td>Low Fat</td>\n",
              "      <td>0.044878</td>\n",
              "      <td>Soft Drinks</td>\n",
              "      <td>75.4670</td>\n",
              "      <td>OUT046</td>\n",
              "      <td>1997</td>\n",
              "      <td>Small</td>\n",
              "      <td>Tier 1</td>\n",
              "      <td>Supermarket Type1</td>\n",
              "      <td>765.6700</td>\n",
              "    </tr>\n",
              "  </tbody>\n",
              "</table>\n",
              "<p>8523 rows × 12 columns</p>\n",
              "</div>"
            ],
            "text/plain": [
              "     Item_Identifier  Item_Weight Item_Fat_Content  Item_Visibility  \\\n",
              "0              FDA15        9.300          Low Fat         0.016047   \n",
              "1              DRC01        5.920          Regular         0.019278   \n",
              "2              FDN15       17.500          Low Fat         0.016760   \n",
              "3              FDX07       19.200          Regular         0.000000   \n",
              "4              NCD19        8.930          Low Fat         0.000000   \n",
              "...              ...          ...              ...              ...   \n",
              "8518           FDF22        6.865          Low Fat         0.056783   \n",
              "8519           FDS36        8.380          Regular         0.046982   \n",
              "8520           NCJ29       10.600          Low Fat         0.035186   \n",
              "8521           FDN46        7.210          Regular         0.145221   \n",
              "8522           DRG01       14.800          Low Fat         0.044878   \n",
              "\n",
              "                  Item_Type  Item_MRP Outlet_Identifier  \\\n",
              "0                     Dairy  249.8092            OUT049   \n",
              "1               Soft Drinks   48.2692            OUT018   \n",
              "2                      Meat  141.6180            OUT049   \n",
              "3     Fruits and Vegetables  182.0950            OUT010   \n",
              "4                 Household   53.8614            OUT013   \n",
              "...                     ...       ...               ...   \n",
              "8518            Snack Foods  214.5218            OUT013   \n",
              "8519           Baking Goods  108.1570            OUT045   \n",
              "8520     Health and Hygiene   85.1224            OUT035   \n",
              "8521            Snack Foods  103.1332            OUT018   \n",
              "8522            Soft Drinks   75.4670            OUT046   \n",
              "\n",
              "      Outlet_Establishment_Year Outlet_Size Outlet_Location_Type  \\\n",
              "0                          1999      Medium               Tier 1   \n",
              "1                          2009      Medium               Tier 3   \n",
              "2                          1999      Medium               Tier 1   \n",
              "3                          1998         NaN               Tier 3   \n",
              "4                          1987        High               Tier 3   \n",
              "...                         ...         ...                  ...   \n",
              "8518                       1987        High               Tier 3   \n",
              "8519                       2002         NaN               Tier 2   \n",
              "8520                       2004       Small               Tier 2   \n",
              "8521                       2009      Medium               Tier 3   \n",
              "8522                       1997       Small               Tier 1   \n",
              "\n",
              "            Outlet_Type  Item_Outlet_Sales  \n",
              "0     Supermarket Type1          3735.1380  \n",
              "1     Supermarket Type2           443.4228  \n",
              "2     Supermarket Type1          2097.2700  \n",
              "3         Grocery Store           732.3800  \n",
              "4     Supermarket Type1           994.7052  \n",
              "...                 ...                ...  \n",
              "8518  Supermarket Type1          2778.3834  \n",
              "8519  Supermarket Type1           549.2850  \n",
              "8520  Supermarket Type1          1193.1136  \n",
              "8521  Supermarket Type2          1845.5976  \n",
              "8522  Supermarket Type1           765.6700  \n",
              "\n",
              "[8523 rows x 12 columns]"
            ]
          },
          "execution_count": 9,
          "metadata": {},
          "output_type": "execute_result"
        }
      ],
      "source": [
        "df2"
      ]
    },
    {
      "cell_type": "markdown",
      "metadata": {},
      "source": [
        "# **Outlet_Size**"
      ]
    },
    {
      "cell_type": "code",
      "execution_count": 10,
      "metadata": {
        "colab": {
          "base_uri": "https://localhost:8080/"
        },
        "id": "XkbGFp4JvJse",
        "outputId": "b4d90b65-2c7c-45b2-b9df-61479d1928bc"
      },
      "outputs": [
        {
          "data": {
            "text/plain": [
              "Outlet_Identifier\n",
              "OUT010      0\n",
              "OUT013    932\n",
              "OUT017      0\n",
              "OUT018    928\n",
              "OUT019    528\n",
              "OUT027    935\n",
              "OUT035    930\n",
              "OUT045      0\n",
              "OUT046    930\n",
              "OUT049    930\n",
              "Name: Outlet_Size, dtype: int64"
            ]
          },
          "execution_count": 10,
          "metadata": {},
          "output_type": "execute_result"
        }
      ],
      "source": [
        "df2.groupby('Outlet_Identifier')['Outlet_Size'].count()"
      ]
    },
    {
      "cell_type": "markdown",
      "metadata": {
        "id": "X7becdubw1M2"
      },
      "source": [
        "Los Outlet: OUT010,OUT017,OUT045. Carecen de tamano"
      ]
    },
    {
      "cell_type": "code",
      "execution_count": 11,
      "metadata": {
        "colab": {
          "base_uri": "https://localhost:8080/"
        },
        "id": "VmZEgWwZ5NoS",
        "outputId": "fb24faa9-8bea-4545-ef80-6b00950ed3cb"
      },
      "outputs": [
        {
          "data": {
            "text/plain": [
              "Outlet_Identifier  Outlet_Type      \n",
              "OUT010             Grocery Store           NaN\n",
              "OUT013             Supermarket Type1      High\n",
              "OUT017             Supermarket Type1       NaN\n",
              "OUT018             Supermarket Type2    Medium\n",
              "OUT019             Grocery Store         Small\n",
              "OUT027             Supermarket Type3    Medium\n",
              "OUT035             Supermarket Type1     Small\n",
              "OUT045             Supermarket Type1       NaN\n",
              "OUT046             Supermarket Type1     Small\n",
              "OUT049             Supermarket Type1    Medium\n",
              "Name: Outlet_Size, dtype: object"
            ]
          },
          "execution_count": 11,
          "metadata": {},
          "output_type": "execute_result"
        }
      ],
      "source": [
        "df2.groupby(['Outlet_Identifier','Outlet_Type'])['Outlet_Size'].max()"
      ]
    },
    {
      "cell_type": "code",
      "execution_count": 12,
      "metadata": {},
      "outputs": [
        {
          "data": {
            "text/plain": [
              "Outlet_Type        Outlet_Size\n",
              "Grocery Store      Small           528\n",
              "Supermarket Type1  Small          1860\n",
              "                   High            932\n",
              "                   Medium          930\n",
              "Supermarket Type2  Medium          928\n",
              "Supermarket Type3  Medium          935\n",
              "Name: Outlet_Size, dtype: int64"
            ]
          },
          "execution_count": 12,
          "metadata": {},
          "output_type": "execute_result"
        }
      ],
      "source": [
        "Frequency_Size= df2.groupby('Outlet_Type')['Outlet_Size'].value_counts()\n",
        "Frequency_Size"
      ]
    },
    {
      "cell_type": "markdown",
      "metadata": {},
      "source": [
        "El unico valor que  se repite en la categoria Grocery Store es 'Small'\n",
        "El valor que mas se repite en la categoria Supermarket Type 1 'Small'\n",
        "Basandonos en este analisis podemos imputar el Size Small para los tipos de Outlet 'Supermarket Type1' y 'Grocery Store '\n"
      ]
    },
    {
      "cell_type": "code",
      "execution_count": 13,
      "metadata": {},
      "outputs": [],
      "source": [
        "df2['Outlet_Size'].fillna('Small', inplace=True)"
      ]
    },
    {
      "cell_type": "code",
      "execution_count": 14,
      "metadata": {
        "colab": {
          "base_uri": "https://localhost:8080/"
        },
        "id": "kEIBrRpowG1V",
        "outputId": "11a4a276-0cc3-4ad4-f457-a3d6eae77b87"
      },
      "outputs": [
        {
          "data": {
            "text/plain": [
              "Outlet_Identifier  Outlet_Type      \n",
              "OUT010             Grocery Store         Small\n",
              "OUT013             Supermarket Type1      High\n",
              "OUT017             Supermarket Type1     Small\n",
              "OUT018             Supermarket Type2    Medium\n",
              "OUT019             Grocery Store         Small\n",
              "OUT027             Supermarket Type3    Medium\n",
              "OUT035             Supermarket Type1     Small\n",
              "OUT045             Supermarket Type1     Small\n",
              "OUT046             Supermarket Type1     Small\n",
              "OUT049             Supermarket Type1    Medium\n",
              "Name: Outlet_Size, dtype: object"
            ]
          },
          "execution_count": 14,
          "metadata": {},
          "output_type": "execute_result"
        }
      ],
      "source": [
        "df2.groupby(['Outlet_Identifier','Outlet_Type'])['Outlet_Size'].max()"
      ]
    },
    {
      "cell_type": "markdown",
      "metadata": {
        "id": "MUYwwvAcCyLG"
      },
      "source": [
        "# **Item_Weight**"
      ]
    },
    {
      "cell_type": "code",
      "execution_count": 15,
      "metadata": {
        "colab": {
          "base_uri": "https://localhost:8080/",
          "height": 661
        },
        "id": "5nxJFP8l2tFE",
        "outputId": "36dc0c19-d691-4db1-e56e-26b1ac6d5f27"
      },
      "outputs": [
        {
          "data": {
            "text/html": [
              "<div>\n",
              "<style scoped>\n",
              "    .dataframe tbody tr th:only-of-type {\n",
              "        vertical-align: middle;\n",
              "    }\n",
              "\n",
              "    .dataframe tbody tr th {\n",
              "        vertical-align: top;\n",
              "    }\n",
              "\n",
              "    .dataframe thead th {\n",
              "        text-align: right;\n",
              "    }\n",
              "</style>\n",
              "<table border=\"1\" class=\"dataframe\">\n",
              "  <thead>\n",
              "    <tr style=\"text-align: right;\">\n",
              "      <th></th>\n",
              "      <th>Item_Identifier</th>\n",
              "      <th>Item_Weight</th>\n",
              "      <th>Item_Fat_Content</th>\n",
              "      <th>Item_Visibility</th>\n",
              "      <th>Item_Type</th>\n",
              "      <th>Item_MRP</th>\n",
              "      <th>Outlet_Identifier</th>\n",
              "      <th>Outlet_Establishment_Year</th>\n",
              "      <th>Outlet_Size</th>\n",
              "      <th>Outlet_Location_Type</th>\n",
              "      <th>Outlet_Type</th>\n",
              "      <th>Item_Outlet_Sales</th>\n",
              "    </tr>\n",
              "  </thead>\n",
              "  <tbody>\n",
              "    <tr>\n",
              "      <th>7808</th>\n",
              "      <td>FDP40</td>\n",
              "      <td>4.555</td>\n",
              "      <td>Regular</td>\n",
              "      <td>0.034329</td>\n",
              "      <td>Frozen Foods</td>\n",
              "      <td>110.1544</td>\n",
              "      <td>OUT013</td>\n",
              "      <td>1987</td>\n",
              "      <td>High</td>\n",
              "      <td>Tier 3</td>\n",
              "      <td>Supermarket Type1</td>\n",
              "      <td>1230.3984</td>\n",
              "    </tr>\n",
              "    <tr>\n",
              "      <th>4430</th>\n",
              "      <td>FDP40</td>\n",
              "      <td>4.555</td>\n",
              "      <td>Regular</td>\n",
              "      <td>0.034357</td>\n",
              "      <td>Frozen Foods</td>\n",
              "      <td>112.6544</td>\n",
              "      <td>OUT046</td>\n",
              "      <td>1997</td>\n",
              "      <td>Small</td>\n",
              "      <td>Tier 1</td>\n",
              "      <td>Supermarket Type1</td>\n",
              "      <td>2684.5056</td>\n",
              "    </tr>\n",
              "    <tr>\n",
              "      <th>3489</th>\n",
              "      <td>FDP40</td>\n",
              "      <td>4.555</td>\n",
              "      <td>Regular</td>\n",
              "      <td>0.034351</td>\n",
              "      <td>Frozen Foods</td>\n",
              "      <td>112.7544</td>\n",
              "      <td>OUT035</td>\n",
              "      <td>2004</td>\n",
              "      <td>Small</td>\n",
              "      <td>Tier 2</td>\n",
              "      <td>Supermarket Type1</td>\n",
              "      <td>1789.6704</td>\n",
              "    </tr>\n",
              "    <tr>\n",
              "      <th>4400</th>\n",
              "      <td>FDP40</td>\n",
              "      <td>4.555</td>\n",
              "      <td>Regular</td>\n",
              "      <td>0.034411</td>\n",
              "      <td>Frozen Foods</td>\n",
              "      <td>111.3544</td>\n",
              "      <td>OUT049</td>\n",
              "      <td>1999</td>\n",
              "      <td>Medium</td>\n",
              "      <td>Tier 1</td>\n",
              "      <td>Supermarket Type1</td>\n",
              "      <td>1342.2528</td>\n",
              "    </tr>\n",
              "    <tr>\n",
              "      <th>3077</th>\n",
              "      <td>DRE12</td>\n",
              "      <td>4.590</td>\n",
              "      <td>Low Fat</td>\n",
              "      <td>0.070767</td>\n",
              "      <td>Soft Drinks</td>\n",
              "      <td>111.9860</td>\n",
              "      <td>OUT035</td>\n",
              "      <td>2004</td>\n",
              "      <td>Small</td>\n",
              "      <td>Tier 2</td>\n",
              "      <td>Supermarket Type1</td>\n",
              "      <td>792.3020</td>\n",
              "    </tr>\n",
              "    <tr>\n",
              "      <th>...</th>\n",
              "      <td>...</td>\n",
              "      <td>...</td>\n",
              "      <td>...</td>\n",
              "      <td>...</td>\n",
              "      <td>...</td>\n",
              "      <td>...</td>\n",
              "      <td>...</td>\n",
              "      <td>...</td>\n",
              "      <td>...</td>\n",
              "      <td>...</td>\n",
              "      <td>...</td>\n",
              "      <td>...</td>\n",
              "    </tr>\n",
              "    <tr>\n",
              "      <th>8485</th>\n",
              "      <td>DRK37</td>\n",
              "      <td>NaN</td>\n",
              "      <td>Low Fat</td>\n",
              "      <td>0.043792</td>\n",
              "      <td>Soft Drinks</td>\n",
              "      <td>189.0530</td>\n",
              "      <td>OUT027</td>\n",
              "      <td>1985</td>\n",
              "      <td>Medium</td>\n",
              "      <td>Tier 3</td>\n",
              "      <td>Supermarket Type3</td>\n",
              "      <td>6261.8490</td>\n",
              "    </tr>\n",
              "    <tr>\n",
              "      <th>8487</th>\n",
              "      <td>DRG13</td>\n",
              "      <td>NaN</td>\n",
              "      <td>Low Fat</td>\n",
              "      <td>0.037006</td>\n",
              "      <td>Soft Drinks</td>\n",
              "      <td>164.7526</td>\n",
              "      <td>OUT027</td>\n",
              "      <td>1985</td>\n",
              "      <td>Medium</td>\n",
              "      <td>Tier 3</td>\n",
              "      <td>Supermarket Type3</td>\n",
              "      <td>4111.3150</td>\n",
              "    </tr>\n",
              "    <tr>\n",
              "      <th>8488</th>\n",
              "      <td>NCN14</td>\n",
              "      <td>NaN</td>\n",
              "      <td>Low Fat</td>\n",
              "      <td>0.091473</td>\n",
              "      <td>Others</td>\n",
              "      <td>184.6608</td>\n",
              "      <td>OUT027</td>\n",
              "      <td>1985</td>\n",
              "      <td>Medium</td>\n",
              "      <td>Tier 3</td>\n",
              "      <td>Supermarket Type3</td>\n",
              "      <td>2756.4120</td>\n",
              "    </tr>\n",
              "    <tr>\n",
              "      <th>8490</th>\n",
              "      <td>FDU44</td>\n",
              "      <td>NaN</td>\n",
              "      <td>Regular</td>\n",
              "      <td>0.102296</td>\n",
              "      <td>Fruits and Vegetables</td>\n",
              "      <td>162.3552</td>\n",
              "      <td>OUT019</td>\n",
              "      <td>1985</td>\n",
              "      <td>Small</td>\n",
              "      <td>Tier 1</td>\n",
              "      <td>Grocery Store</td>\n",
              "      <td>487.3656</td>\n",
              "    </tr>\n",
              "    <tr>\n",
              "      <th>8504</th>\n",
              "      <td>NCN18</td>\n",
              "      <td>NaN</td>\n",
              "      <td>Low Fat</td>\n",
              "      <td>0.124111</td>\n",
              "      <td>Household</td>\n",
              "      <td>111.7544</td>\n",
              "      <td>OUT027</td>\n",
              "      <td>1985</td>\n",
              "      <td>Medium</td>\n",
              "      <td>Tier 3</td>\n",
              "      <td>Supermarket Type3</td>\n",
              "      <td>4138.6128</td>\n",
              "    </tr>\n",
              "  </tbody>\n",
              "</table>\n",
              "<p>8523 rows × 12 columns</p>\n",
              "</div>"
            ],
            "text/plain": [
              "     Item_Identifier  Item_Weight Item_Fat_Content  Item_Visibility  \\\n",
              "7808           FDP40        4.555          Regular         0.034329   \n",
              "4430           FDP40        4.555          Regular         0.034357   \n",
              "3489           FDP40        4.555          Regular         0.034351   \n",
              "4400           FDP40        4.555          Regular         0.034411   \n",
              "3077           DRE12        4.590          Low Fat         0.070767   \n",
              "...              ...          ...              ...              ...   \n",
              "8485           DRK37          NaN          Low Fat         0.043792   \n",
              "8487           DRG13          NaN          Low Fat         0.037006   \n",
              "8488           NCN14          NaN          Low Fat         0.091473   \n",
              "8490           FDU44          NaN          Regular         0.102296   \n",
              "8504           NCN18          NaN          Low Fat         0.124111   \n",
              "\n",
              "                  Item_Type  Item_MRP Outlet_Identifier  \\\n",
              "7808           Frozen Foods  110.1544            OUT013   \n",
              "4430           Frozen Foods  112.6544            OUT046   \n",
              "3489           Frozen Foods  112.7544            OUT035   \n",
              "4400           Frozen Foods  111.3544            OUT049   \n",
              "3077            Soft Drinks  111.9860            OUT035   \n",
              "...                     ...       ...               ...   \n",
              "8485            Soft Drinks  189.0530            OUT027   \n",
              "8487            Soft Drinks  164.7526            OUT027   \n",
              "8488                 Others  184.6608            OUT027   \n",
              "8490  Fruits and Vegetables  162.3552            OUT019   \n",
              "8504              Household  111.7544            OUT027   \n",
              "\n",
              "      Outlet_Establishment_Year Outlet_Size Outlet_Location_Type  \\\n",
              "7808                       1987        High               Tier 3   \n",
              "4430                       1997       Small               Tier 1   \n",
              "3489                       2004       Small               Tier 2   \n",
              "4400                       1999      Medium               Tier 1   \n",
              "3077                       2004       Small               Tier 2   \n",
              "...                         ...         ...                  ...   \n",
              "8485                       1985      Medium               Tier 3   \n",
              "8487                       1985      Medium               Tier 3   \n",
              "8488                       1985      Medium               Tier 3   \n",
              "8490                       1985       Small               Tier 1   \n",
              "8504                       1985      Medium               Tier 3   \n",
              "\n",
              "            Outlet_Type  Item_Outlet_Sales  \n",
              "7808  Supermarket Type1          1230.3984  \n",
              "4430  Supermarket Type1          2684.5056  \n",
              "3489  Supermarket Type1          1789.6704  \n",
              "4400  Supermarket Type1          1342.2528  \n",
              "3077  Supermarket Type1           792.3020  \n",
              "...                 ...                ...  \n",
              "8485  Supermarket Type3          6261.8490  \n",
              "8487  Supermarket Type3          4111.3150  \n",
              "8488  Supermarket Type3          2756.4120  \n",
              "8490      Grocery Store           487.3656  \n",
              "8504  Supermarket Type3          4138.6128  \n",
              "\n",
              "[8523 rows x 12 columns]"
            ]
          },
          "execution_count": 15,
          "metadata": {},
          "output_type": "execute_result"
        }
      ],
      "source": [
        "df2.sort_values('Item_Weight')"
      ]
    },
    {
      "cell_type": "markdown",
      "metadata": {
        "id": "8xbyxWAG7JDw"
      },
      "source": [
        "No existe una relación entre si falta un punto de datos y cualquier valor en el conjunto de datos (faltante u observado). Los datos faltantes son solo un subconjunto aleatorio de los datos. La ausencia no tiene nada que ver con ninguna otra variable. Por lo que para generar los valores faltantes se utilizara el proceso de imputacion de la media por 'Item_Type'"
      ]
    },
    {
      "cell_type": "code",
      "execution_count": 16,
      "metadata": {
        "colab": {
          "base_uri": "https://localhost:8080/",
          "height": 661
        },
        "id": "R5rPq20a7bRt",
        "outputId": "a7cdd834-fbc3-4a14-e6d4-ca002f63f991"
      },
      "outputs": [
        {
          "data": {
            "text/html": [
              "<div>\n",
              "<style scoped>\n",
              "    .dataframe tbody tr th:only-of-type {\n",
              "        vertical-align: middle;\n",
              "    }\n",
              "\n",
              "    .dataframe tbody tr th {\n",
              "        vertical-align: top;\n",
              "    }\n",
              "\n",
              "    .dataframe thead th {\n",
              "        text-align: right;\n",
              "    }\n",
              "</style>\n",
              "<table border=\"1\" class=\"dataframe\">\n",
              "  <thead>\n",
              "    <tr style=\"text-align: right;\">\n",
              "      <th></th>\n",
              "      <th>Item_Identifier</th>\n",
              "      <th>Item_Weight</th>\n",
              "      <th>Item_Fat_Content</th>\n",
              "      <th>Item_Visibility</th>\n",
              "      <th>Item_Type</th>\n",
              "      <th>Item_MRP</th>\n",
              "      <th>Outlet_Identifier</th>\n",
              "      <th>Outlet_Establishment_Year</th>\n",
              "      <th>Outlet_Size</th>\n",
              "      <th>Outlet_Location_Type</th>\n",
              "      <th>Outlet_Type</th>\n",
              "      <th>Item_Outlet_Sales</th>\n",
              "    </tr>\n",
              "  </thead>\n",
              "  <tbody>\n",
              "    <tr>\n",
              "      <th>4261</th>\n",
              "      <td>FDY36</td>\n",
              "      <td>12.30</td>\n",
              "      <td>Low Fat</td>\n",
              "      <td>0.009425</td>\n",
              "      <td>Baking Goods</td>\n",
              "      <td>74.8380</td>\n",
              "      <td>OUT049</td>\n",
              "      <td>1999</td>\n",
              "      <td>Medium</td>\n",
              "      <td>Tier 1</td>\n",
              "      <td>Supermarket Type1</td>\n",
              "      <td>1537.9980</td>\n",
              "    </tr>\n",
              "    <tr>\n",
              "      <th>5387</th>\n",
              "      <td>FDS60</td>\n",
              "      <td>20.85</td>\n",
              "      <td>Low Fat</td>\n",
              "      <td>0.032581</td>\n",
              "      <td>Baking Goods</td>\n",
              "      <td>180.0660</td>\n",
              "      <td>OUT018</td>\n",
              "      <td>2009</td>\n",
              "      <td>Medium</td>\n",
              "      <td>Tier 3</td>\n",
              "      <td>Supermarket Type2</td>\n",
              "      <td>2157.1920</td>\n",
              "    </tr>\n",
              "    <tr>\n",
              "      <th>5363</th>\n",
              "      <td>FDY48</td>\n",
              "      <td>14.00</td>\n",
              "      <td>Low Fat</td>\n",
              "      <td>0.023783</td>\n",
              "      <td>Baking Goods</td>\n",
              "      <td>104.0332</td>\n",
              "      <td>OUT045</td>\n",
              "      <td>2002</td>\n",
              "      <td>Small</td>\n",
              "      <td>Tier 2</td>\n",
              "      <td>Supermarket Type1</td>\n",
              "      <td>1435.4648</td>\n",
              "    </tr>\n",
              "    <tr>\n",
              "      <th>5362</th>\n",
              "      <td>FDZ48</td>\n",
              "      <td>17.75</td>\n",
              "      <td>Low Fat</td>\n",
              "      <td>0.076114</td>\n",
              "      <td>Baking Goods</td>\n",
              "      <td>111.4544</td>\n",
              "      <td>OUT045</td>\n",
              "      <td>2002</td>\n",
              "      <td>Small</td>\n",
              "      <td>Tier 2</td>\n",
              "      <td>Supermarket Type1</td>\n",
              "      <td>1006.6896</td>\n",
              "    </tr>\n",
              "    <tr>\n",
              "      <th>5354</th>\n",
              "      <td>FDN24</td>\n",
              "      <td>NaN</td>\n",
              "      <td>Low Fat</td>\n",
              "      <td>0.198317</td>\n",
              "      <td>Baking Goods</td>\n",
              "      <td>54.3956</td>\n",
              "      <td>OUT019</td>\n",
              "      <td>1985</td>\n",
              "      <td>Small</td>\n",
              "      <td>Tier 1</td>\n",
              "      <td>Grocery Store</td>\n",
              "      <td>272.9780</td>\n",
              "    </tr>\n",
              "    <tr>\n",
              "      <th>...</th>\n",
              "      <td>...</td>\n",
              "      <td>...</td>\n",
              "      <td>...</td>\n",
              "      <td>...</td>\n",
              "      <td>...</td>\n",
              "      <td>...</td>\n",
              "      <td>...</td>\n",
              "      <td>...</td>\n",
              "      <td>...</td>\n",
              "      <td>...</td>\n",
              "      <td>...</td>\n",
              "      <td>...</td>\n",
              "    </tr>\n",
              "    <tr>\n",
              "      <th>7353</th>\n",
              "      <td>FDC59</td>\n",
              "      <td>16.70</td>\n",
              "      <td>reg</td>\n",
              "      <td>0.091438</td>\n",
              "      <td>Starchy Foods</td>\n",
              "      <td>64.3168</td>\n",
              "      <td>OUT010</td>\n",
              "      <td>1998</td>\n",
              "      <td>Small</td>\n",
              "      <td>Tier 3</td>\n",
              "      <td>Grocery Store</td>\n",
              "      <td>127.8336</td>\n",
              "    </tr>\n",
              "    <tr>\n",
              "      <th>7363</th>\n",
              "      <td>FDE23</td>\n",
              "      <td>17.60</td>\n",
              "      <td>Regular</td>\n",
              "      <td>0.053482</td>\n",
              "      <td>Starchy Foods</td>\n",
              "      <td>47.8060</td>\n",
              "      <td>OUT017</td>\n",
              "      <td>2007</td>\n",
              "      <td>Small</td>\n",
              "      <td>Tier 2</td>\n",
              "      <td>Supermarket Type1</td>\n",
              "      <td>1071.9380</td>\n",
              "    </tr>\n",
              "    <tr>\n",
              "      <th>136</th>\n",
              "      <td>FDH35</td>\n",
              "      <td>NaN</td>\n",
              "      <td>Low Fat</td>\n",
              "      <td>0.059957</td>\n",
              "      <td>Starchy Foods</td>\n",
              "      <td>165.4526</td>\n",
              "      <td>OUT027</td>\n",
              "      <td>1985</td>\n",
              "      <td>Medium</td>\n",
              "      <td>Tier 3</td>\n",
              "      <td>Supermarket Type3</td>\n",
              "      <td>5262.4832</td>\n",
              "    </tr>\n",
              "    <tr>\n",
              "      <th>6723</th>\n",
              "      <td>FDG47</td>\n",
              "      <td>12.80</td>\n",
              "      <td>Low Fat</td>\n",
              "      <td>0.069606</td>\n",
              "      <td>Starchy Foods</td>\n",
              "      <td>261.9252</td>\n",
              "      <td>OUT035</td>\n",
              "      <td>2004</td>\n",
              "      <td>Small</td>\n",
              "      <td>Tier 2</td>\n",
              "      <td>Supermarket Type1</td>\n",
              "      <td>4984.1788</td>\n",
              "    </tr>\n",
              "    <tr>\n",
              "      <th>5237</th>\n",
              "      <td>FDB11</td>\n",
              "      <td>16.00</td>\n",
              "      <td>Low Fat</td>\n",
              "      <td>0.060971</td>\n",
              "      <td>Starchy Foods</td>\n",
              "      <td>226.2404</td>\n",
              "      <td>OUT045</td>\n",
              "      <td>2002</td>\n",
              "      <td>Small</td>\n",
              "      <td>Tier 2</td>\n",
              "      <td>Supermarket Type1</td>\n",
              "      <td>4725.8484</td>\n",
              "    </tr>\n",
              "  </tbody>\n",
              "</table>\n",
              "<p>8523 rows × 12 columns</p>\n",
              "</div>"
            ],
            "text/plain": [
              "     Item_Identifier  Item_Weight Item_Fat_Content  Item_Visibility  \\\n",
              "4261           FDY36        12.30          Low Fat         0.009425   \n",
              "5387           FDS60        20.85          Low Fat         0.032581   \n",
              "5363           FDY48        14.00          Low Fat         0.023783   \n",
              "5362           FDZ48        17.75          Low Fat         0.076114   \n",
              "5354           FDN24          NaN          Low Fat         0.198317   \n",
              "...              ...          ...              ...              ...   \n",
              "7353           FDC59        16.70              reg         0.091438   \n",
              "7363           FDE23        17.60          Regular         0.053482   \n",
              "136            FDH35          NaN          Low Fat         0.059957   \n",
              "6723           FDG47        12.80          Low Fat         0.069606   \n",
              "5237           FDB11        16.00          Low Fat         0.060971   \n",
              "\n",
              "          Item_Type  Item_MRP Outlet_Identifier  Outlet_Establishment_Year  \\\n",
              "4261   Baking Goods   74.8380            OUT049                       1999   \n",
              "5387   Baking Goods  180.0660            OUT018                       2009   \n",
              "5363   Baking Goods  104.0332            OUT045                       2002   \n",
              "5362   Baking Goods  111.4544            OUT045                       2002   \n",
              "5354   Baking Goods   54.3956            OUT019                       1985   \n",
              "...             ...       ...               ...                        ...   \n",
              "7353  Starchy Foods   64.3168            OUT010                       1998   \n",
              "7363  Starchy Foods   47.8060            OUT017                       2007   \n",
              "136   Starchy Foods  165.4526            OUT027                       1985   \n",
              "6723  Starchy Foods  261.9252            OUT035                       2004   \n",
              "5237  Starchy Foods  226.2404            OUT045                       2002   \n",
              "\n",
              "     Outlet_Size Outlet_Location_Type        Outlet_Type  Item_Outlet_Sales  \n",
              "4261      Medium               Tier 1  Supermarket Type1          1537.9980  \n",
              "5387      Medium               Tier 3  Supermarket Type2          2157.1920  \n",
              "5363       Small               Tier 2  Supermarket Type1          1435.4648  \n",
              "5362       Small               Tier 2  Supermarket Type1          1006.6896  \n",
              "5354       Small               Tier 1      Grocery Store           272.9780  \n",
              "...          ...                  ...                ...                ...  \n",
              "7353       Small               Tier 3      Grocery Store           127.8336  \n",
              "7363       Small               Tier 2  Supermarket Type1          1071.9380  \n",
              "136       Medium               Tier 3  Supermarket Type3          5262.4832  \n",
              "6723       Small               Tier 2  Supermarket Type1          4984.1788  \n",
              "5237       Small               Tier 2  Supermarket Type1          4725.8484  \n",
              "\n",
              "[8523 rows x 12 columns]"
            ]
          },
          "execution_count": 16,
          "metadata": {},
          "output_type": "execute_result"
        }
      ],
      "source": [
        "df2.sort_values('Item_Type')"
      ]
    },
    {
      "cell_type": "code",
      "execution_count": 17,
      "metadata": {
        "id": "BPqFGqU078pi"
      },
      "outputs": [],
      "source": [
        "df2['Item_Weight'].fillna(df2.groupby('Item_Type')['Item_Weight'].transform('mean'), inplace = True)"
      ]
    },
    {
      "cell_type": "code",
      "execution_count": 18,
      "metadata": {
        "colab": {
          "base_uri": "https://localhost:8080/",
          "height": 661
        },
        "id": "5yk572KG86nH",
        "outputId": "73ca28f6-e344-4075-de2f-9f4360f3cdbf"
      },
      "outputs": [
        {
          "data": {
            "text/html": [
              "<div>\n",
              "<style scoped>\n",
              "    .dataframe tbody tr th:only-of-type {\n",
              "        vertical-align: middle;\n",
              "    }\n",
              "\n",
              "    .dataframe tbody tr th {\n",
              "        vertical-align: top;\n",
              "    }\n",
              "\n",
              "    .dataframe thead th {\n",
              "        text-align: right;\n",
              "    }\n",
              "</style>\n",
              "<table border=\"1\" class=\"dataframe\">\n",
              "  <thead>\n",
              "    <tr style=\"text-align: right;\">\n",
              "      <th></th>\n",
              "      <th>Item_Identifier</th>\n",
              "      <th>Item_Weight</th>\n",
              "      <th>Item_Fat_Content</th>\n",
              "      <th>Item_Visibility</th>\n",
              "      <th>Item_Type</th>\n",
              "      <th>Item_MRP</th>\n",
              "      <th>Outlet_Identifier</th>\n",
              "      <th>Outlet_Establishment_Year</th>\n",
              "      <th>Outlet_Size</th>\n",
              "      <th>Outlet_Location_Type</th>\n",
              "      <th>Outlet_Type</th>\n",
              "      <th>Item_Outlet_Sales</th>\n",
              "    </tr>\n",
              "  </thead>\n",
              "  <tbody>\n",
              "    <tr>\n",
              "      <th>4261</th>\n",
              "      <td>FDY36</td>\n",
              "      <td>12.300000</td>\n",
              "      <td>Low Fat</td>\n",
              "      <td>0.009425</td>\n",
              "      <td>Baking Goods</td>\n",
              "      <td>74.8380</td>\n",
              "      <td>OUT049</td>\n",
              "      <td>1999</td>\n",
              "      <td>Medium</td>\n",
              "      <td>Tier 1</td>\n",
              "      <td>Supermarket Type1</td>\n",
              "      <td>1537.9980</td>\n",
              "    </tr>\n",
              "    <tr>\n",
              "      <th>5387</th>\n",
              "      <td>FDS60</td>\n",
              "      <td>20.850000</td>\n",
              "      <td>Low Fat</td>\n",
              "      <td>0.032581</td>\n",
              "      <td>Baking Goods</td>\n",
              "      <td>180.0660</td>\n",
              "      <td>OUT018</td>\n",
              "      <td>2009</td>\n",
              "      <td>Medium</td>\n",
              "      <td>Tier 3</td>\n",
              "      <td>Supermarket Type2</td>\n",
              "      <td>2157.1920</td>\n",
              "    </tr>\n",
              "    <tr>\n",
              "      <th>5363</th>\n",
              "      <td>FDY48</td>\n",
              "      <td>14.000000</td>\n",
              "      <td>Low Fat</td>\n",
              "      <td>0.023783</td>\n",
              "      <td>Baking Goods</td>\n",
              "      <td>104.0332</td>\n",
              "      <td>OUT045</td>\n",
              "      <td>2002</td>\n",
              "      <td>Small</td>\n",
              "      <td>Tier 2</td>\n",
              "      <td>Supermarket Type1</td>\n",
              "      <td>1435.4648</td>\n",
              "    </tr>\n",
              "    <tr>\n",
              "      <th>5362</th>\n",
              "      <td>FDZ48</td>\n",
              "      <td>17.750000</td>\n",
              "      <td>Low Fat</td>\n",
              "      <td>0.076114</td>\n",
              "      <td>Baking Goods</td>\n",
              "      <td>111.4544</td>\n",
              "      <td>OUT045</td>\n",
              "      <td>2002</td>\n",
              "      <td>Small</td>\n",
              "      <td>Tier 2</td>\n",
              "      <td>Supermarket Type1</td>\n",
              "      <td>1006.6896</td>\n",
              "    </tr>\n",
              "    <tr>\n",
              "      <th>5354</th>\n",
              "      <td>FDN24</td>\n",
              "      <td>12.277108</td>\n",
              "      <td>Low Fat</td>\n",
              "      <td>0.198317</td>\n",
              "      <td>Baking Goods</td>\n",
              "      <td>54.3956</td>\n",
              "      <td>OUT019</td>\n",
              "      <td>1985</td>\n",
              "      <td>Small</td>\n",
              "      <td>Tier 1</td>\n",
              "      <td>Grocery Store</td>\n",
              "      <td>272.9780</td>\n",
              "    </tr>\n",
              "    <tr>\n",
              "      <th>...</th>\n",
              "      <td>...</td>\n",
              "      <td>...</td>\n",
              "      <td>...</td>\n",
              "      <td>...</td>\n",
              "      <td>...</td>\n",
              "      <td>...</td>\n",
              "      <td>...</td>\n",
              "      <td>...</td>\n",
              "      <td>...</td>\n",
              "      <td>...</td>\n",
              "      <td>...</td>\n",
              "      <td>...</td>\n",
              "    </tr>\n",
              "    <tr>\n",
              "      <th>7353</th>\n",
              "      <td>FDC59</td>\n",
              "      <td>16.700000</td>\n",
              "      <td>reg</td>\n",
              "      <td>0.091438</td>\n",
              "      <td>Starchy Foods</td>\n",
              "      <td>64.3168</td>\n",
              "      <td>OUT010</td>\n",
              "      <td>1998</td>\n",
              "      <td>Small</td>\n",
              "      <td>Tier 3</td>\n",
              "      <td>Grocery Store</td>\n",
              "      <td>127.8336</td>\n",
              "    </tr>\n",
              "    <tr>\n",
              "      <th>7363</th>\n",
              "      <td>FDE23</td>\n",
              "      <td>17.600000</td>\n",
              "      <td>Regular</td>\n",
              "      <td>0.053482</td>\n",
              "      <td>Starchy Foods</td>\n",
              "      <td>47.8060</td>\n",
              "      <td>OUT017</td>\n",
              "      <td>2007</td>\n",
              "      <td>Small</td>\n",
              "      <td>Tier 2</td>\n",
              "      <td>Supermarket Type1</td>\n",
              "      <td>1071.9380</td>\n",
              "    </tr>\n",
              "    <tr>\n",
              "      <th>136</th>\n",
              "      <td>FDH35</td>\n",
              "      <td>13.690731</td>\n",
              "      <td>Low Fat</td>\n",
              "      <td>0.059957</td>\n",
              "      <td>Starchy Foods</td>\n",
              "      <td>165.4526</td>\n",
              "      <td>OUT027</td>\n",
              "      <td>1985</td>\n",
              "      <td>Medium</td>\n",
              "      <td>Tier 3</td>\n",
              "      <td>Supermarket Type3</td>\n",
              "      <td>5262.4832</td>\n",
              "    </tr>\n",
              "    <tr>\n",
              "      <th>6723</th>\n",
              "      <td>FDG47</td>\n",
              "      <td>12.800000</td>\n",
              "      <td>Low Fat</td>\n",
              "      <td>0.069606</td>\n",
              "      <td>Starchy Foods</td>\n",
              "      <td>261.9252</td>\n",
              "      <td>OUT035</td>\n",
              "      <td>2004</td>\n",
              "      <td>Small</td>\n",
              "      <td>Tier 2</td>\n",
              "      <td>Supermarket Type1</td>\n",
              "      <td>4984.1788</td>\n",
              "    </tr>\n",
              "    <tr>\n",
              "      <th>5237</th>\n",
              "      <td>FDB11</td>\n",
              "      <td>16.000000</td>\n",
              "      <td>Low Fat</td>\n",
              "      <td>0.060971</td>\n",
              "      <td>Starchy Foods</td>\n",
              "      <td>226.2404</td>\n",
              "      <td>OUT045</td>\n",
              "      <td>2002</td>\n",
              "      <td>Small</td>\n",
              "      <td>Tier 2</td>\n",
              "      <td>Supermarket Type1</td>\n",
              "      <td>4725.8484</td>\n",
              "    </tr>\n",
              "  </tbody>\n",
              "</table>\n",
              "<p>8523 rows × 12 columns</p>\n",
              "</div>"
            ],
            "text/plain": [
              "     Item_Identifier  Item_Weight Item_Fat_Content  Item_Visibility  \\\n",
              "4261           FDY36    12.300000          Low Fat         0.009425   \n",
              "5387           FDS60    20.850000          Low Fat         0.032581   \n",
              "5363           FDY48    14.000000          Low Fat         0.023783   \n",
              "5362           FDZ48    17.750000          Low Fat         0.076114   \n",
              "5354           FDN24    12.277108          Low Fat         0.198317   \n",
              "...              ...          ...              ...              ...   \n",
              "7353           FDC59    16.700000              reg         0.091438   \n",
              "7363           FDE23    17.600000          Regular         0.053482   \n",
              "136            FDH35    13.690731          Low Fat         0.059957   \n",
              "6723           FDG47    12.800000          Low Fat         0.069606   \n",
              "5237           FDB11    16.000000          Low Fat         0.060971   \n",
              "\n",
              "          Item_Type  Item_MRP Outlet_Identifier  Outlet_Establishment_Year  \\\n",
              "4261   Baking Goods   74.8380            OUT049                       1999   \n",
              "5387   Baking Goods  180.0660            OUT018                       2009   \n",
              "5363   Baking Goods  104.0332            OUT045                       2002   \n",
              "5362   Baking Goods  111.4544            OUT045                       2002   \n",
              "5354   Baking Goods   54.3956            OUT019                       1985   \n",
              "...             ...       ...               ...                        ...   \n",
              "7353  Starchy Foods   64.3168            OUT010                       1998   \n",
              "7363  Starchy Foods   47.8060            OUT017                       2007   \n",
              "136   Starchy Foods  165.4526            OUT027                       1985   \n",
              "6723  Starchy Foods  261.9252            OUT035                       2004   \n",
              "5237  Starchy Foods  226.2404            OUT045                       2002   \n",
              "\n",
              "     Outlet_Size Outlet_Location_Type        Outlet_Type  Item_Outlet_Sales  \n",
              "4261      Medium               Tier 1  Supermarket Type1          1537.9980  \n",
              "5387      Medium               Tier 3  Supermarket Type2          2157.1920  \n",
              "5363       Small               Tier 2  Supermarket Type1          1435.4648  \n",
              "5362       Small               Tier 2  Supermarket Type1          1006.6896  \n",
              "5354       Small               Tier 1      Grocery Store           272.9780  \n",
              "...          ...                  ...                ...                ...  \n",
              "7353       Small               Tier 3      Grocery Store           127.8336  \n",
              "7363       Small               Tier 2  Supermarket Type1          1071.9380  \n",
              "136       Medium               Tier 3  Supermarket Type3          5262.4832  \n",
              "6723       Small               Tier 2  Supermarket Type1          4984.1788  \n",
              "5237       Small               Tier 2  Supermarket Type1          4725.8484  \n",
              "\n",
              "[8523 rows x 12 columns]"
            ]
          },
          "execution_count": 18,
          "metadata": {},
          "output_type": "execute_result"
        }
      ],
      "source": [
        "df2.sort_values('Item_Type')"
      ]
    },
    {
      "attachments": {},
      "cell_type": "markdown",
      "metadata": {},
      "source": [
        "6) Confirmar que no hay valores faltantes después de abordarlos.\n",
        "\n"
      ]
    },
    {
      "cell_type": "code",
      "execution_count": 19,
      "metadata": {
        "colab": {
          "base_uri": "https://localhost:8080/"
        },
        "id": "nTYdC9FwCmPM",
        "outputId": "ffbfc67f-44f8-430d-b34b-ad3313084db2"
      },
      "outputs": [
        {
          "data": {
            "text/plain": [
              "Item_Identifier              0\n",
              "Item_Weight                  0\n",
              "Item_Fat_Content             0\n",
              "Item_Visibility              0\n",
              "Item_Type                    0\n",
              "Item_MRP                     0\n",
              "Outlet_Identifier            0\n",
              "Outlet_Establishment_Year    0\n",
              "Outlet_Size                  0\n",
              "Outlet_Location_Type         0\n",
              "Outlet_Type                  0\n",
              "Item_Outlet_Sales            0\n",
              "dtype: int64"
            ]
          },
          "execution_count": 19,
          "metadata": {},
          "output_type": "execute_result"
        }
      ],
      "source": [
        "df2.isna().sum()"
      ]
    },
    {
      "attachments": {},
      "cell_type": "markdown",
      "metadata": {},
      "source": [
        "Encontrar y arreglar alguna categoría inconsistente de datos"
      ]
    },
    {
      "cell_type": "code",
      "execution_count": 20,
      "metadata": {},
      "outputs": [],
      "source": [
        "def unique_values (dataframe):\n",
        "    unive_values_r=''\n",
        "    for columns in range(dataframe):\n",
        "      unive_values_r= dataframe[columns].unique\n",
        "    return unive_values_r"
      ]
    },
    {
      "cell_type": "code",
      "execution_count": 21,
      "metadata": {},
      "outputs": [
        {
          "data": {
            "text/plain": [
              "array(['FDA15', 'DRC01', 'FDN15', ..., 'NCF55', 'NCW30', 'NCW05'],\n",
              "      dtype=object)"
            ]
          },
          "execution_count": 21,
          "metadata": {},
          "output_type": "execute_result"
        }
      ],
      "source": [
        "df2['Item_Identifier'].unique()"
      ]
    },
    {
      "cell_type": "code",
      "execution_count": 22,
      "metadata": {},
      "outputs": [
        {
          "data": {
            "text/plain": [
              "array([ 9.3       ,  5.92      , 17.5       , 19.2       ,  8.93      ,\n",
              "       10.395     , 13.65      , 12.98787955, 16.2       , 11.8       ,\n",
              "       18.5       , 15.1       , 17.6       , 16.35      ,  9.        ,\n",
              "       11.40032787, 13.35      , 18.85      , 12.27710821, 14.6       ,\n",
              "       13.85      , 13.        ,  7.645     , 11.65      ,  5.925     ,\n",
              "       12.30570501, 19.25      , 18.6       , 18.7       , 17.85      ,\n",
              "       10.        , 13.22476938,  8.85      ,  9.8       , 13.6       ,\n",
              "       21.35      , 12.15      ,  6.42      , 19.6       , 15.85      ,\n",
              "       13.4260689 ,  7.39      , 10.195     ,  9.895     , 10.895     ,\n",
              "        7.905     ,  9.195     ,  8.365     ,  7.97      , 12.86706128,\n",
              "       17.7       , 19.35      ,  8.645     , 15.6       , 18.25      ,\n",
              "        7.855     ,  7.825     ,  8.39      , 12.85      , 19.        ,\n",
              "        5.905     ,  7.76      , 16.75      , 13.3847365 , 15.5       ,\n",
              "        6.055     , 12.76820225,  6.305     , 20.85      , 20.75      ,\n",
              "        8.895     , 19.7       ,  8.75      , 13.3       ,  8.31      ,\n",
              "       19.75      , 17.1       , 10.5       ,  6.635     , 11.84745989,\n",
              "       14.15      ,  8.89      , 12.81734421,  9.1       ,  7.5       ,\n",
              "       16.85      ,  7.485     , 11.6       , 12.65      , 20.25      ,\n",
              "        8.6       , 12.6       ,  8.88      , 20.5       , 13.5       ,\n",
              "       13.14231395,  7.235     , 13.69073077,  6.92      ,  8.02      ,\n",
              "       12.8       , 16.6       , 14.        , 16.        , 21.25      ,\n",
              "        7.365     , 18.35      ,  5.465     ,  7.27      ,  6.155     ,\n",
              "       19.5       , 15.2       , 14.5       , 13.1       , 12.3       ,\n",
              "       11.1       , 11.3       ,  5.75      , 11.35      ,  6.525     ,\n",
              "       10.3       ,  5.78      , 11.85      , 18.75      ,  5.26      ,\n",
              "       16.1       ,  9.5       , 13.8       , 14.65      ,  6.67      ,\n",
              "        6.11      , 17.2       ,  6.32      ,  4.88      ,  5.425     ,\n",
              "       13.85328467, 12.55284314, 14.1       ,  7.55      , 17.25      ,\n",
              "       12.        , 10.1       ,  7.785     , 13.15      ,  8.5       ,\n",
              "        7.63      ,  9.285     ,  7.975     , 15.7       ,  8.985     ,\n",
              "       20.35      ,  6.59      , 19.85      ,  6.26      , 18.2       ,\n",
              "        8.695     ,  7.075     ,  8.195     ,  7.09      ,  6.095     ,\n",
              "        6.15      ,  9.395     , 15.75      ,  7.475     ,  6.445     ,\n",
              "       19.1       , 15.        , 16.7       ,  7.07      ,  6.48      ,\n",
              "        9.695     , 11.15      ,  9.6       , 20.7       ,  5.5       ,\n",
              "        7.895     , 17.35      ,  7.285     ,  6.17      , 11.395     ,\n",
              "        7.71      , 12.1       , 14.35      ,  8.1       ,  8.05      ,\n",
              "       16.5       ,  6.785     ,  7.575     ,  7.47      , 15.25      ,\n",
              "        7.605     , 18.        , 21.2       ,  8.97      , 10.6       ,\n",
              "        6.865     , 10.8       , 15.15      , 18.1       , 11.34693627,\n",
              "        6.655     , 20.1       ,  7.935     , 15.35      , 12.35      ,\n",
              "        6.85      ,  8.775     , 14.85      ,  7.84      , 12.5       ,\n",
              "        8.325     ,  5.765     ,  5.985     , 14.3       ,  6.135     ,\n",
              "        8.51      ,  6.65      ,  5.695     ,  6.36      ,  8.3       ,\n",
              "        7.56      ,  8.71      ,  6.695     , 14.8       , 17.75      ,\n",
              "        8.575     ,  6.57      ,  8.68      ,  5.63      ,  9.13      ,\n",
              "        6.715     ,  5.82      ,  7.93      ,  5.        ,  7.445     ,\n",
              "        6.675     ,  8.18      ,  6.98      ,  7.435     , 20.6       ,\n",
              "        8.355     ,  8.975     , 20.2       ,  5.655     ,  5.175     ,\n",
              "       20.        ,  7.67      ,  4.785     ,  8.395     ,  6.175     ,\n",
              "        8.21      ,  5.845     ,  7.17      ,  8.785     ,  7.89      ,\n",
              "        5.32      ,  5.03      ,  8.945     ,  6.28      ,  7.565     ,\n",
              "        9.31      ,  7.02      ,  5.46      ,  6.13      ,  6.55      ,\n",
              "       17.        , 16.25      ,  5.15      ,  7.865     ,  6.575     ,\n",
              "        7.06      ,  5.785     ,  7.42      ,  6.235     ,  6.75      ,\n",
              "        5.86      ,  5.035     ,  6.38      ,  5.675     , 11.5       ,\n",
              "       21.        , 21.1       ,  4.61      ,  7.        ,  6.405     ,\n",
              "       14.7       ,  7.68      ,  8.185     ,  8.655     , 10.85      ,\n",
              "        8.42      ,  7.85      ,  4.59      ,  7.51      , 11.        ,\n",
              "        6.71      , 14.75      ,  7.59      ,  5.155     ,  6.365     ,\n",
              "        8.235     ,  5.365     ,  8.485     ,  7.535     ,  4.92      ,\n",
              "        6.385     ,  8.26      ,  7.945     ,  8.63      ,  9.21      ,\n",
              "        6.965     ,  8.905     ,  7.21      ,  7.3       ,  9.27      ,\n",
              "       10.695     ,  6.215     ,  7.405     ,  7.72      ,  6.115     ,\n",
              "        6.035     ,  6.78      , 15.3       ,  7.105     ,  7.52      ,\n",
              "        4.805     ,  6.425     ,  7.6       ,  6.61      ,  7.325     ,\n",
              "        8.115     ,  5.94      ,  5.635     ,  7.35      ,  5.825     ,\n",
              "        6.63      ,  7.05      ,  8.315     ,  6.8       ,  7.035     ,\n",
              "        8.96      ,  5.51      ,  8.43      ,  8.27      ,  7.81      ,\n",
              "        6.885     ,  5.44      ,  5.405     ,  4.635     , 10.65      ,\n",
              "        5.735     ,  6.465     ,  8.84      ,  7.75      ,  6.765     ,\n",
              "        9.065     ,  7.655     ,  4.615     ,  8.76      ,  7.1       ,\n",
              "        6.195     ,  5.615     ,  8.52      ,  7.26      ,  6.825     ,\n",
              "        5.325     ,  5.59      ,  5.88      ,  5.19      ,  6.985     ,\n",
              "        9.06      ,  6.69      ,  8.615     ,  7.275     ,  6.96      ,\n",
              "        9.17      ,  8.155     ,  5.73      ,  8.935     ,  8.92      ,\n",
              "        7.36      ,  7.64      ,  5.34      ,  7.22      ,  6.615     ,\n",
              "        6.76      ,  6.3       ,  5.98      ,  8.06      ,  6.44      ,\n",
              "        5.095     ,  8.8       ,  6.325     ,  7.31      ,  9.035     ,\n",
              "        9.105     ,  7.145     ,  4.905     ,  4.555     ,  8.        ,\n",
              "        7.315     ,  6.89      ,  5.945     ,  6.86      ,  6.935     ,\n",
              "        6.03      ,  7.725     ,  5.885     ,  7.155     ,  6.46      ,\n",
              "        5.48      ,  8.01      ,  5.8       ,  5.305     ,  6.905     ,\n",
              "        7.96      ,  5.11      ,  8.77      ,  7.685     ,  8.275     ,\n",
              "        8.38      ,  8.35      ,  9.42      ,  6.775     ,  6.4       ,\n",
              "        6.895     ,  5.485     ,  6.52      ,  8.67      ,  5.21      ,\n",
              "        5.4       ])"
            ]
          },
          "execution_count": 22,
          "metadata": {},
          "output_type": "execute_result"
        }
      ],
      "source": [
        "df2['Item_Weight'].unique()"
      ]
    },
    {
      "cell_type": "code",
      "execution_count": 23,
      "metadata": {},
      "outputs": [
        {
          "data": {
            "text/plain": [
              "array(['Low Fat', 'Regular', 'low fat', 'LF', 'reg'], dtype=object)"
            ]
          },
          "execution_count": 23,
          "metadata": {},
          "output_type": "execute_result"
        }
      ],
      "source": [
        "df2['Item_Fat_Content'].unique()"
      ]
    },
    {
      "cell_type": "code",
      "execution_count": 24,
      "metadata": {},
      "outputs": [],
      "source": [
        "df2.Item_Fat_Content= df2.Item_Fat_Content.replace({\"low fat\": \"Low Fat\", \"LF\": \"Low Fat\", \"reg\": \"Regular\"})\n"
      ]
    },
    {
      "cell_type": "code",
      "execution_count": 25,
      "metadata": {},
      "outputs": [
        {
          "data": {
            "text/plain": [
              "array(['Low Fat', 'Regular'], dtype=object)"
            ]
          },
          "execution_count": 25,
          "metadata": {},
          "output_type": "execute_result"
        }
      ],
      "source": [
        "df2['Item_Fat_Content'].unique()"
      ]
    },
    {
      "cell_type": "code",
      "execution_count": 26,
      "metadata": {},
      "outputs": [
        {
          "data": {
            "text/plain": [
              "array(['Dairy', 'Soft Drinks', 'Meat', 'Fruits and Vegetables',\n",
              "       'Household', 'Baking Goods', 'Snack Foods', 'Frozen Foods',\n",
              "       'Breakfast', 'Health and Hygiene', 'Hard Drinks', 'Canned',\n",
              "       'Breads', 'Starchy Foods', 'Others', 'Seafood'], dtype=object)"
            ]
          },
          "execution_count": 26,
          "metadata": {},
          "output_type": "execute_result"
        }
      ],
      "source": [
        "df2['Item_Type'].unique()"
      ]
    },
    {
      "cell_type": "code",
      "execution_count": 27,
      "metadata": {},
      "outputs": [
        {
          "data": {
            "text/plain": [
              "array([1999, 2009, 1998, 1987, 1985, 2002, 2007, 1997, 2004], dtype=int64)"
            ]
          },
          "execution_count": 27,
          "metadata": {},
          "output_type": "execute_result"
        }
      ],
      "source": [
        "df2['Outlet_Establishment_Year'].unique()"
      ]
    },
    {
      "cell_type": "code",
      "execution_count": 28,
      "metadata": {},
      "outputs": [
        {
          "data": {
            "text/plain": [
              "array(['OUT049', 'OUT018', 'OUT010', 'OUT013', 'OUT027', 'OUT045',\n",
              "       'OUT017', 'OUT046', 'OUT035', 'OUT019'], dtype=object)"
            ]
          },
          "execution_count": 28,
          "metadata": {},
          "output_type": "execute_result"
        }
      ],
      "source": [
        "df2['Outlet_Identifier'].unique()"
      ]
    },
    {
      "cell_type": "markdown",
      "metadata": {},
      "source": [
        "Solo se identifico inconsistencia en la columna 'Item_Fat_Content'"
      ]
    },
    {
      "attachments": {},
      "cell_type": "markdown",
      "metadata": {},
      "source": [
        "8) Para cualquier columna numérica, obtener las estadísticas resumidas para cada uno (mínimo, máximo y media)"
      ]
    },
    {
      "cell_type": "code",
      "execution_count": 29,
      "metadata": {},
      "outputs": [
        {
          "data": {
            "text/html": [
              "<div>\n",
              "<style scoped>\n",
              "    .dataframe tbody tr th:only-of-type {\n",
              "        vertical-align: middle;\n",
              "    }\n",
              "\n",
              "    .dataframe tbody tr th {\n",
              "        vertical-align: top;\n",
              "    }\n",
              "\n",
              "    .dataframe thead th {\n",
              "        text-align: right;\n",
              "    }\n",
              "</style>\n",
              "<table border=\"1\" class=\"dataframe\">\n",
              "  <thead>\n",
              "    <tr style=\"text-align: right;\">\n",
              "      <th></th>\n",
              "      <th>Item_Weight</th>\n",
              "      <th>Item_Visibility</th>\n",
              "      <th>Item_MRP</th>\n",
              "      <th>Outlet_Establishment_Year</th>\n",
              "      <th>Item_Outlet_Sales</th>\n",
              "    </tr>\n",
              "  </thead>\n",
              "  <tbody>\n",
              "    <tr>\n",
              "      <th>count</th>\n",
              "      <td>8523.000000</td>\n",
              "      <td>8523.000000</td>\n",
              "      <td>8523.000000</td>\n",
              "      <td>8523.000000</td>\n",
              "      <td>8523.000000</td>\n",
              "    </tr>\n",
              "    <tr>\n",
              "      <th>mean</th>\n",
              "      <td>12.857890</td>\n",
              "      <td>0.066132</td>\n",
              "      <td>140.992782</td>\n",
              "      <td>1997.831867</td>\n",
              "      <td>2181.288914</td>\n",
              "    </tr>\n",
              "    <tr>\n",
              "      <th>std</th>\n",
              "      <td>4.232804</td>\n",
              "      <td>0.051598</td>\n",
              "      <td>62.275067</td>\n",
              "      <td>8.371760</td>\n",
              "      <td>1706.499616</td>\n",
              "    </tr>\n",
              "    <tr>\n",
              "      <th>min</th>\n",
              "      <td>4.555000</td>\n",
              "      <td>0.000000</td>\n",
              "      <td>31.290000</td>\n",
              "      <td>1985.000000</td>\n",
              "      <td>33.290000</td>\n",
              "    </tr>\n",
              "    <tr>\n",
              "      <th>25%</th>\n",
              "      <td>9.310000</td>\n",
              "      <td>0.026989</td>\n",
              "      <td>93.826500</td>\n",
              "      <td>1987.000000</td>\n",
              "      <td>834.247400</td>\n",
              "    </tr>\n",
              "    <tr>\n",
              "      <th>50%</th>\n",
              "      <td>12.867061</td>\n",
              "      <td>0.053931</td>\n",
              "      <td>143.012800</td>\n",
              "      <td>1999.000000</td>\n",
              "      <td>1794.331000</td>\n",
              "    </tr>\n",
              "    <tr>\n",
              "      <th>75%</th>\n",
              "      <td>16.000000</td>\n",
              "      <td>0.094585</td>\n",
              "      <td>185.643700</td>\n",
              "      <td>2004.000000</td>\n",
              "      <td>3101.296400</td>\n",
              "    </tr>\n",
              "    <tr>\n",
              "      <th>max</th>\n",
              "      <td>21.350000</td>\n",
              "      <td>0.328391</td>\n",
              "      <td>266.888400</td>\n",
              "      <td>2009.000000</td>\n",
              "      <td>13086.964800</td>\n",
              "    </tr>\n",
              "  </tbody>\n",
              "</table>\n",
              "</div>"
            ],
            "text/plain": [
              "       Item_Weight  Item_Visibility     Item_MRP  Outlet_Establishment_Year  \\\n",
              "count  8523.000000      8523.000000  8523.000000                8523.000000   \n",
              "mean     12.857890         0.066132   140.992782                1997.831867   \n",
              "std       4.232804         0.051598    62.275067                   8.371760   \n",
              "min       4.555000         0.000000    31.290000                1985.000000   \n",
              "25%       9.310000         0.026989    93.826500                1987.000000   \n",
              "50%      12.867061         0.053931   143.012800                1999.000000   \n",
              "75%      16.000000         0.094585   185.643700                2004.000000   \n",
              "max      21.350000         0.328391   266.888400                2009.000000   \n",
              "\n",
              "       Item_Outlet_Sales  \n",
              "count        8523.000000  \n",
              "mean         2181.288914  \n",
              "std          1706.499616  \n",
              "min            33.290000  \n",
              "25%           834.247400  \n",
              "50%          1794.331000  \n",
              "75%          3101.296400  \n",
              "max         13086.964800  "
            ]
          },
          "execution_count": 29,
          "metadata": {},
          "output_type": "execute_result"
        }
      ],
      "source": [
        "df2.describe()"
      ]
    },
    {
      "cell_type": "markdown",
      "metadata": {},
      "source": [
        "Análisis estadístico"
      ]
    },
    {
      "cell_type": "code",
      "execution_count": 30,
      "metadata": {},
      "outputs": [],
      "source": [
        "import matplotlib.pyplot as plt"
      ]
    },
    {
      "cell_type": "code",
      "execution_count": 31,
      "metadata": {},
      "outputs": [],
      "source": [
        "import seaborn as sns"
      ]
    },
    {
      "cell_type": "code",
      "execution_count": 32,
      "metadata": {},
      "outputs": [],
      "source": [
        "from seaborn import distplot"
      ]
    },
    {
      "cell_type": "code",
      "execution_count": 33,
      "metadata": {},
      "outputs": [
        {
          "data": {
            "text/html": [
              "<div>\n",
              "<style scoped>\n",
              "    .dataframe tbody tr th:only-of-type {\n",
              "        vertical-align: middle;\n",
              "    }\n",
              "\n",
              "    .dataframe tbody tr th {\n",
              "        vertical-align: top;\n",
              "    }\n",
              "\n",
              "    .dataframe thead th {\n",
              "        text-align: right;\n",
              "    }\n",
              "</style>\n",
              "<table border=\"1\" class=\"dataframe\">\n",
              "  <thead>\n",
              "    <tr style=\"text-align: right;\">\n",
              "      <th></th>\n",
              "      <th>Item_Identifier</th>\n",
              "      <th>Item_Weight</th>\n",
              "      <th>Item_Fat_Content</th>\n",
              "      <th>Item_Visibility</th>\n",
              "      <th>Item_Type</th>\n",
              "      <th>Item_MRP</th>\n",
              "      <th>Outlet_Identifier</th>\n",
              "      <th>Outlet_Establishment_Year</th>\n",
              "      <th>Outlet_Size</th>\n",
              "      <th>Outlet_Location_Type</th>\n",
              "      <th>Outlet_Type</th>\n",
              "      <th>Item_Outlet_Sales</th>\n",
              "    </tr>\n",
              "  </thead>\n",
              "  <tbody>\n",
              "    <tr>\n",
              "      <th>0</th>\n",
              "      <td>FDA15</td>\n",
              "      <td>9.30</td>\n",
              "      <td>Low Fat</td>\n",
              "      <td>0.016047</td>\n",
              "      <td>Dairy</td>\n",
              "      <td>249.8092</td>\n",
              "      <td>OUT049</td>\n",
              "      <td>1999</td>\n",
              "      <td>Medium</td>\n",
              "      <td>Tier 1</td>\n",
              "      <td>Supermarket Type1</td>\n",
              "      <td>3735.1380</td>\n",
              "    </tr>\n",
              "    <tr>\n",
              "      <th>1</th>\n",
              "      <td>DRC01</td>\n",
              "      <td>5.92</td>\n",
              "      <td>Regular</td>\n",
              "      <td>0.019278</td>\n",
              "      <td>Soft Drinks</td>\n",
              "      <td>48.2692</td>\n",
              "      <td>OUT018</td>\n",
              "      <td>2009</td>\n",
              "      <td>Medium</td>\n",
              "      <td>Tier 3</td>\n",
              "      <td>Supermarket Type2</td>\n",
              "      <td>443.4228</td>\n",
              "    </tr>\n",
              "    <tr>\n",
              "      <th>2</th>\n",
              "      <td>FDN15</td>\n",
              "      <td>17.50</td>\n",
              "      <td>Low Fat</td>\n",
              "      <td>0.016760</td>\n",
              "      <td>Meat</td>\n",
              "      <td>141.6180</td>\n",
              "      <td>OUT049</td>\n",
              "      <td>1999</td>\n",
              "      <td>Medium</td>\n",
              "      <td>Tier 1</td>\n",
              "      <td>Supermarket Type1</td>\n",
              "      <td>2097.2700</td>\n",
              "    </tr>\n",
              "    <tr>\n",
              "      <th>3</th>\n",
              "      <td>FDX07</td>\n",
              "      <td>19.20</td>\n",
              "      <td>Regular</td>\n",
              "      <td>0.000000</td>\n",
              "      <td>Fruits and Vegetables</td>\n",
              "      <td>182.0950</td>\n",
              "      <td>OUT010</td>\n",
              "      <td>1998</td>\n",
              "      <td>Small</td>\n",
              "      <td>Tier 3</td>\n",
              "      <td>Grocery Store</td>\n",
              "      <td>732.3800</td>\n",
              "    </tr>\n",
              "    <tr>\n",
              "      <th>4</th>\n",
              "      <td>NCD19</td>\n",
              "      <td>8.93</td>\n",
              "      <td>Low Fat</td>\n",
              "      <td>0.000000</td>\n",
              "      <td>Household</td>\n",
              "      <td>53.8614</td>\n",
              "      <td>OUT013</td>\n",
              "      <td>1987</td>\n",
              "      <td>High</td>\n",
              "      <td>Tier 3</td>\n",
              "      <td>Supermarket Type1</td>\n",
              "      <td>994.7052</td>\n",
              "    </tr>\n",
              "  </tbody>\n",
              "</table>\n",
              "</div>"
            ],
            "text/plain": [
              "  Item_Identifier  Item_Weight Item_Fat_Content  Item_Visibility  \\\n",
              "0           FDA15         9.30          Low Fat         0.016047   \n",
              "1           DRC01         5.92          Regular         0.019278   \n",
              "2           FDN15        17.50          Low Fat         0.016760   \n",
              "3           FDX07        19.20          Regular         0.000000   \n",
              "4           NCD19         8.93          Low Fat         0.000000   \n",
              "\n",
              "               Item_Type  Item_MRP Outlet_Identifier  \\\n",
              "0                  Dairy  249.8092            OUT049   \n",
              "1            Soft Drinks   48.2692            OUT018   \n",
              "2                   Meat  141.6180            OUT049   \n",
              "3  Fruits and Vegetables  182.0950            OUT010   \n",
              "4              Household   53.8614            OUT013   \n",
              "\n",
              "   Outlet_Establishment_Year Outlet_Size Outlet_Location_Type  \\\n",
              "0                       1999      Medium               Tier 1   \n",
              "1                       2009      Medium               Tier 3   \n",
              "2                       1999      Medium               Tier 1   \n",
              "3                       1998       Small               Tier 3   \n",
              "4                       1987        High               Tier 3   \n",
              "\n",
              "         Outlet_Type  Item_Outlet_Sales  \n",
              "0  Supermarket Type1          3735.1380  \n",
              "1  Supermarket Type2           443.4228  \n",
              "2  Supermarket Type1          2097.2700  \n",
              "3      Grocery Store           732.3800  \n",
              "4  Supermarket Type1           994.7052  "
            ]
          },
          "execution_count": 33,
          "metadata": {},
          "output_type": "execute_result"
        }
      ],
      "source": [
        "df2.head()"
      ]
    },
    {
      "cell_type": "markdown",
      "metadata": {},
      "source": [
        "Histograma de 'Item_MRP' (Precio máximo de venta al público (precio de catálogo) del producto) Por tipo de productos y su contenido de grasa."
      ]
    },
    {
      "cell_type": "code",
      "execution_count": 34,
      "metadata": {},
      "outputs": [],
      "source": [
        "Medium = df2['Outlet_Size'] == 'Medium'\n",
        "Medium_df =df2 [Medium]"
      ]
    },
    {
      "cell_type": "code",
      "execution_count": 35,
      "metadata": {},
      "outputs": [],
      "source": [
        "High = df2['Outlet_Size'] == 'High'\n",
        "High_df =df2 [High]"
      ]
    },
    {
      "cell_type": "code",
      "execution_count": 36,
      "metadata": {},
      "outputs": [],
      "source": [
        "Small = df2['Outlet_Size'] == 'Small'\n",
        "Small_df =df2 [Small]"
      ]
    },
    {
      "cell_type": "code",
      "execution_count": 37,
      "metadata": {},
      "outputs": [
        {
          "data": {
            "image/png": "[encoded data removed]",
            "text/plain": [
              "<Figure size 720x360 with 2 Axes>"
            ]
          },
          "metadata": {
            "needs_background": "light"
          },
          "output_type": "display_data"
        }
      ],
      "source": [
        "sns.displot(data=Medium_df, x='Item_MRP', col='Item_Fat_Content');\n",
        "plt.rcParams.update({'font.size': 15}) "
      ]
    },
    {
      "cell_type": "markdown",
      "metadata": {},
      "source": [
        "Para las tiendas de size 'Medium' el precio de los productos Low Fat que mas se repite es 110.00, el precio que menos se repite es 70.00. Para los productos Regular Fat los precios que mas se repiten son 100.00 y 190.00, el precio que menos se repite es 250.00 "
      ]
    },
    {
      "cell_type": "code",
      "execution_count": 38,
      "metadata": {},
      "outputs": [
        {
          "data": {
            "image/png": "[encoded data removed]",
            "text/plain": [
              "<Figure size 720x360 with 2 Axes>"
            ]
          },
          "metadata": {
            "needs_background": "light"
          },
          "output_type": "display_data"
        }
      ],
      "source": [
        "sns.displot(data=Small_df, x='Item_MRP', col='Item_Fat_Content');"
      ]
    },
    {
      "cell_type": "markdown",
      "metadata": {},
      "source": [
        "Para las tiendas de size 'Small' el precio de los productos Low Fat que mas se repite es 120.00, el precio que menos se repite es 70.00. Para los productos Regular Fat el precios que mas se repite es 190, el precio que menos se repite es 70.00 "
      ]
    },
    {
      "cell_type": "code",
      "execution_count": 39,
      "metadata": {},
      "outputs": [
        {
          "data": {
            "image/png": "[encoded data removed]",
            "text/plain": [
              "<Figure size 720x360 with 2 Axes>"
            ]
          },
          "metadata": {
            "needs_background": "light"
          },
          "output_type": "display_data"
        }
      ],
      "source": [
        "sns.displot(data=High_df, x='Item_MRP', col='Item_Fat_Content');"
      ]
    },
    {
      "cell_type": "markdown",
      "metadata": {},
      "source": [
        "Para las tiendas de size 'High' el precio de los productos Low Fat que mas se repite es 110.00, el precio que menos se repite es 210.00. Para los productos Regular Fat el precios que mas se repite es 100.00, el precio que menos se repite es 200.00 "
      ]
    },
    {
      "cell_type": "markdown",
      "metadata": {},
      "source": [
        "En estas graficas se puede observar que los productos con 'Low Fat' son mas costosos que los productos con 'Regular' Fat. \n"
      ]
    },
    {
      "cell_type": "code",
      "execution_count": 40,
      "metadata": {},
      "outputs": [
        {
          "data": {
            "image/png": "[encoded data removed]",
            "text/plain": [
              "<Figure size 432x288 with 1 Axes>"
            ]
          },
          "metadata": {
            "needs_background": "light"
          },
          "output_type": "display_data"
        }
      ],
      "source": [
        "sns.boxplot(data=df2, x='Item_Visibility');"
      ]
    },
    {
      "cell_type": "markdown",
      "metadata": {},
      "source": [
        "El rango de visibilidad de los productos es de 0.00 hasta 0.20, la media de la visibilidad de todos los productos es de 0.05. Data importante para comprender que tan asequible visualmente estan para los consumidores los productos."
      ]
    },
    {
      "cell_type": "code",
      "execution_count": 41,
      "metadata": {},
      "outputs": [
        {
          "data": {
            "image/png": "[encoded data removed]",
            "text/plain": [
              "<Figure size 432x288 with 1 Axes>"
            ]
          },
          "metadata": {
            "needs_background": "light"
          },
          "output_type": "display_data"
        }
      ],
      "source": [
        "sns.boxplot(data=df2, x='Item_Weight');"
      ]
    },
    {
      "cell_type": "markdown",
      "metadata": {},
      "source": [
        "El rango de peso de los productos es de 4.00 hasta 22.00, la media de peso de todos los productos es de 13.00. Informacion importante para saber el peso que deben de poder sostener los anaqueles "
      ]
    },
    {
      "cell_type": "code",
      "execution_count": 42,
      "metadata": {},
      "outputs": [
        {
          "data": {
            "text/plain": [
              "<AxesSubplot:>"
            ]
          },
          "execution_count": 42,
          "metadata": {},
          "output_type": "execute_result"
        },
        {
          "data": {
            "image/png": "[encoded data removed]",
            "text/plain": [
              "<Figure size 432x288 with 2 Axes>"
            ]
          },
          "metadata": {
            "needs_background": "light"
          },
          "output_type": "display_data"
        }
      ],
      "source": [
        "corr = df2.corr()\n",
        "sns.heatmap(corr, cmap = 'Blues', annot = True)"
      ]
    },
    {
      "cell_type": "markdown",
      "metadata": {},
      "source": [
        "Hay una correlacion de 0.57 entre 'Item_Outlet_Sales' y ' Item_MRP. Esto significa que las ventas totales de un producto fluctuan en base a su precio (MRP)"
      ]
    },
    {
      "cell_type": "markdown",
      "metadata": {},
      "source": [
        "Propiedades de los productos y los puntos de venta que desempeñan un papel crucial en el aumento de las ventas."
      ]
    },
    {
      "cell_type": "code",
      "execution_count": 43,
      "metadata": {},
      "outputs": [
        {
          "data": {
            "text/html": [
              "<div>\n",
              "<style scoped>\n",
              "    .dataframe tbody tr th:only-of-type {\n",
              "        vertical-align: middle;\n",
              "    }\n",
              "\n",
              "    .dataframe tbody tr th {\n",
              "        vertical-align: top;\n",
              "    }\n",
              "\n",
              "    .dataframe thead th {\n",
              "        text-align: right;\n",
              "    }\n",
              "</style>\n",
              "<table border=\"1\" class=\"dataframe\">\n",
              "  <thead>\n",
              "    <tr style=\"text-align: right;\">\n",
              "      <th></th>\n",
              "      <th>Item_Identifier</th>\n",
              "      <th>Item_Weight</th>\n",
              "      <th>Item_Fat_Content</th>\n",
              "      <th>Item_Visibility</th>\n",
              "      <th>Item_Type</th>\n",
              "      <th>Item_MRP</th>\n",
              "      <th>Outlet_Identifier</th>\n",
              "      <th>Outlet_Establishment_Year</th>\n",
              "      <th>Outlet_Size</th>\n",
              "      <th>Outlet_Location_Type</th>\n",
              "      <th>Outlet_Type</th>\n",
              "      <th>Item_Outlet_Sales</th>\n",
              "    </tr>\n",
              "  </thead>\n",
              "  <tbody>\n",
              "    <tr>\n",
              "      <th>0</th>\n",
              "      <td>FDA15</td>\n",
              "      <td>9.30</td>\n",
              "      <td>Low Fat</td>\n",
              "      <td>0.016047</td>\n",
              "      <td>Dairy</td>\n",
              "      <td>249.8092</td>\n",
              "      <td>OUT049</td>\n",
              "      <td>1999</td>\n",
              "      <td>Medium</td>\n",
              "      <td>Tier 1</td>\n",
              "      <td>Supermarket Type1</td>\n",
              "      <td>3735.1380</td>\n",
              "    </tr>\n",
              "    <tr>\n",
              "      <th>1</th>\n",
              "      <td>DRC01</td>\n",
              "      <td>5.92</td>\n",
              "      <td>Regular</td>\n",
              "      <td>0.019278</td>\n",
              "      <td>Soft Drinks</td>\n",
              "      <td>48.2692</td>\n",
              "      <td>OUT018</td>\n",
              "      <td>2009</td>\n",
              "      <td>Medium</td>\n",
              "      <td>Tier 3</td>\n",
              "      <td>Supermarket Type2</td>\n",
              "      <td>443.4228</td>\n",
              "    </tr>\n",
              "    <tr>\n",
              "      <th>2</th>\n",
              "      <td>FDN15</td>\n",
              "      <td>17.50</td>\n",
              "      <td>Low Fat</td>\n",
              "      <td>0.016760</td>\n",
              "      <td>Meat</td>\n",
              "      <td>141.6180</td>\n",
              "      <td>OUT049</td>\n",
              "      <td>1999</td>\n",
              "      <td>Medium</td>\n",
              "      <td>Tier 1</td>\n",
              "      <td>Supermarket Type1</td>\n",
              "      <td>2097.2700</td>\n",
              "    </tr>\n",
              "    <tr>\n",
              "      <th>3</th>\n",
              "      <td>FDX07</td>\n",
              "      <td>19.20</td>\n",
              "      <td>Regular</td>\n",
              "      <td>0.000000</td>\n",
              "      <td>Fruits and Vegetables</td>\n",
              "      <td>182.0950</td>\n",
              "      <td>OUT010</td>\n",
              "      <td>1998</td>\n",
              "      <td>Small</td>\n",
              "      <td>Tier 3</td>\n",
              "      <td>Grocery Store</td>\n",
              "      <td>732.3800</td>\n",
              "    </tr>\n",
              "    <tr>\n",
              "      <th>4</th>\n",
              "      <td>NCD19</td>\n",
              "      <td>8.93</td>\n",
              "      <td>Low Fat</td>\n",
              "      <td>0.000000</td>\n",
              "      <td>Household</td>\n",
              "      <td>53.8614</td>\n",
              "      <td>OUT013</td>\n",
              "      <td>1987</td>\n",
              "      <td>High</td>\n",
              "      <td>Tier 3</td>\n",
              "      <td>Supermarket Type1</td>\n",
              "      <td>994.7052</td>\n",
              "    </tr>\n",
              "  </tbody>\n",
              "</table>\n",
              "</div>"
            ],
            "text/plain": [
              "  Item_Identifier  Item_Weight Item_Fat_Content  Item_Visibility  \\\n",
              "0           FDA15         9.30          Low Fat         0.016047   \n",
              "1           DRC01         5.92          Regular         0.019278   \n",
              "2           FDN15        17.50          Low Fat         0.016760   \n",
              "3           FDX07        19.20          Regular         0.000000   \n",
              "4           NCD19         8.93          Low Fat         0.000000   \n",
              "\n",
              "               Item_Type  Item_MRP Outlet_Identifier  \\\n",
              "0                  Dairy  249.8092            OUT049   \n",
              "1            Soft Drinks   48.2692            OUT018   \n",
              "2                   Meat  141.6180            OUT049   \n",
              "3  Fruits and Vegetables  182.0950            OUT010   \n",
              "4              Household   53.8614            OUT013   \n",
              "\n",
              "   Outlet_Establishment_Year Outlet_Size Outlet_Location_Type  \\\n",
              "0                       1999      Medium               Tier 1   \n",
              "1                       2009      Medium               Tier 3   \n",
              "2                       1999      Medium               Tier 1   \n",
              "3                       1998       Small               Tier 3   \n",
              "4                       1987        High               Tier 3   \n",
              "\n",
              "         Outlet_Type  Item_Outlet_Sales  \n",
              "0  Supermarket Type1          3735.1380  \n",
              "1  Supermarket Type2           443.4228  \n",
              "2  Supermarket Type1          2097.2700  \n",
              "3      Grocery Store           732.3800  \n",
              "4  Supermarket Type1           994.7052  "
            ]
          },
          "execution_count": 43,
          "metadata": {},
          "output_type": "execute_result"
        }
      ],
      "source": [
        "df2.head()"
      ]
    },
    {
      "cell_type": "markdown",
      "metadata": {},
      "source": [
        "-Gráfico de barras que representa una estimación de la tendencia central de las ventas de productos por tiendas."
      ]
    },
    {
      "cell_type": "code",
      "execution_count": 44,
      "metadata": {},
      "outputs": [
        {
          "data": {
            "image/png": "[encoded data removed]",
            "text/plain": [
              "<Figure size 864x432 with 1 Axes>"
            ]
          },
          "metadata": {
            "needs_background": "light"
          },
          "output_type": "display_data"
        }
      ],
      "source": [
        "plt.figure(figsize=(12,6))\n",
        "sns.barplot(x= 'Outlet_Identifier', y= 'Item_Outlet_Sales',  data= df2);\n",
        "\n"
      ]
    },
    {
      "cell_type": "markdown",
      "metadata": {},
      "source": [
        "La tienda OUT027 es la que tiene los ingresos totales por productos mas alto, basandonos en la estimación de la tendencia central de las ventas de la misma. Por otro lado la tienda que menos ingresos totales por producto tiene es la OUT010. "
      ]
    },
    {
      "cell_type": "markdown",
      "metadata": {},
      "source": [
        "-Gráfico de barras que representa las ventas totales de productos por tiendas."
      ]
    },
    {
      "cell_type": "code",
      "execution_count": 45,
      "metadata": {},
      "outputs": [
        {
          "data": {
            "image/png": "[encoded data removed]",
            "text/plain": [
              "<Figure size 1440x720 with 1 Axes>"
            ]
          },
          "metadata": {
            "needs_background": "light"
          },
          "output_type": "display_data"
        }
      ],
      "source": [
        "TOTAL_SALES_ID=df2.groupby(['Outlet_Identifier'])['Item_Outlet_Sales'].sum()\n",
        "TOTAL_SALES_ID.plot(x='Outlet_Identifier', y='Item_Outlet_Sales', kind= 'bar', figsize=(20,10));\n",
        "plt.rcParams.update({'font.size': 30}) "
      ]
    },
    {
      "cell_type": "code",
      "execution_count": 46,
      "metadata": {},
      "outputs": [
        {
          "data": {
            "text/plain": [
              "Outlet_Identifier  Outlet_Type      \n",
              "OUT010             Grocery Store         Small\n",
              "OUT013             Supermarket Type1      High\n",
              "OUT017             Supermarket Type1     Small\n",
              "OUT018             Supermarket Type2    Medium\n",
              "OUT019             Grocery Store         Small\n",
              "OUT027             Supermarket Type3    Medium\n",
              "OUT035             Supermarket Type1     Small\n",
              "OUT045             Supermarket Type1     Small\n",
              "OUT046             Supermarket Type1     Small\n",
              "OUT049             Supermarket Type1    Medium\n",
              "Name: Outlet_Size, dtype: object"
            ]
          },
          "execution_count": 46,
          "metadata": {},
          "output_type": "execute_result"
        }
      ],
      "source": [
        "df2.groupby(['Outlet_Identifier','Outlet_Type'])['Outlet_Size'].max()"
      ]
    },
    {
      "cell_type": "markdown",
      "metadata": {},
      "source": [
        "Los supermercados de 'Type 3' son los que mas ventas tienen, despues le siguen los supermercados de 'Type 1', mas abajo los supermercado de 'Type2', y por ultimo los 'Grocery Store'. "
      ]
    },
    {
      "cell_type": "code",
      "execution_count": 47,
      "metadata": {},
      "outputs": [
        {
          "data": {
            "text/html": [
              "<div>\n",
              "<style scoped>\n",
              "    .dataframe tbody tr th:only-of-type {\n",
              "        vertical-align: middle;\n",
              "    }\n",
              "\n",
              "    .dataframe tbody tr th {\n",
              "        vertical-align: top;\n",
              "    }\n",
              "\n",
              "    .dataframe thead th {\n",
              "        text-align: right;\n",
              "    }\n",
              "</style>\n",
              "<table border=\"1\" class=\"dataframe\">\n",
              "  <thead>\n",
              "    <tr style=\"text-align: right;\">\n",
              "      <th></th>\n",
              "      <th>Item_Identifier</th>\n",
              "      <th>Item_Weight</th>\n",
              "      <th>Item_Fat_Content</th>\n",
              "      <th>Item_Visibility</th>\n",
              "      <th>Item_Type</th>\n",
              "      <th>Item_MRP</th>\n",
              "      <th>Outlet_Identifier</th>\n",
              "      <th>Outlet_Establishment_Year</th>\n",
              "      <th>Outlet_Size</th>\n",
              "      <th>Outlet_Location_Type</th>\n",
              "      <th>Outlet_Type</th>\n",
              "      <th>Item_Outlet_Sales</th>\n",
              "      <th>Sold_Units</th>\n",
              "    </tr>\n",
              "  </thead>\n",
              "  <tbody>\n",
              "    <tr>\n",
              "      <th>0</th>\n",
              "      <td>FDA15</td>\n",
              "      <td>9.30</td>\n",
              "      <td>Low Fat</td>\n",
              "      <td>0.016047</td>\n",
              "      <td>Dairy</td>\n",
              "      <td>249.8092</td>\n",
              "      <td>OUT049</td>\n",
              "      <td>1999</td>\n",
              "      <td>Medium</td>\n",
              "      <td>Tier 1</td>\n",
              "      <td>Supermarket Type1</td>\n",
              "      <td>3735.1380</td>\n",
              "      <td>14.951963</td>\n",
              "    </tr>\n",
              "    <tr>\n",
              "      <th>1</th>\n",
              "      <td>DRC01</td>\n",
              "      <td>5.92</td>\n",
              "      <td>Regular</td>\n",
              "      <td>0.019278</td>\n",
              "      <td>Soft Drinks</td>\n",
              "      <td>48.2692</td>\n",
              "      <td>OUT018</td>\n",
              "      <td>2009</td>\n",
              "      <td>Medium</td>\n",
              "      <td>Tier 3</td>\n",
              "      <td>Supermarket Type2</td>\n",
              "      <td>443.4228</td>\n",
              "      <td>9.186454</td>\n",
              "    </tr>\n",
              "    <tr>\n",
              "      <th>2</th>\n",
              "      <td>FDN15</td>\n",
              "      <td>17.50</td>\n",
              "      <td>Low Fat</td>\n",
              "      <td>0.016760</td>\n",
              "      <td>Meat</td>\n",
              "      <td>141.6180</td>\n",
              "      <td>OUT049</td>\n",
              "      <td>1999</td>\n",
              "      <td>Medium</td>\n",
              "      <td>Tier 1</td>\n",
              "      <td>Supermarket Type1</td>\n",
              "      <td>2097.2700</td>\n",
              "      <td>14.809346</td>\n",
              "    </tr>\n",
              "    <tr>\n",
              "      <th>3</th>\n",
              "      <td>FDX07</td>\n",
              "      <td>19.20</td>\n",
              "      <td>Regular</td>\n",
              "      <td>0.000000</td>\n",
              "      <td>Fruits and Vegetables</td>\n",
              "      <td>182.0950</td>\n",
              "      <td>OUT010</td>\n",
              "      <td>1998</td>\n",
              "      <td>Small</td>\n",
              "      <td>Tier 3</td>\n",
              "      <td>Grocery Store</td>\n",
              "      <td>732.3800</td>\n",
              "      <td>4.021967</td>\n",
              "    </tr>\n",
              "    <tr>\n",
              "      <th>4</th>\n",
              "      <td>NCD19</td>\n",
              "      <td>8.93</td>\n",
              "      <td>Low Fat</td>\n",
              "      <td>0.000000</td>\n",
              "      <td>Household</td>\n",
              "      <td>53.8614</td>\n",
              "      <td>OUT013</td>\n",
              "      <td>1987</td>\n",
              "      <td>High</td>\n",
              "      <td>Tier 3</td>\n",
              "      <td>Supermarket Type1</td>\n",
              "      <td>994.7052</td>\n",
              "      <td>18.467868</td>\n",
              "    </tr>\n",
              "  </tbody>\n",
              "</table>\n",
              "</div>"
            ],
            "text/plain": [
              "  Item_Identifier  Item_Weight Item_Fat_Content  Item_Visibility  \\\n",
              "0           FDA15         9.30          Low Fat         0.016047   \n",
              "1           DRC01         5.92          Regular         0.019278   \n",
              "2           FDN15        17.50          Low Fat         0.016760   \n",
              "3           FDX07        19.20          Regular         0.000000   \n",
              "4           NCD19         8.93          Low Fat         0.000000   \n",
              "\n",
              "               Item_Type  Item_MRP Outlet_Identifier  \\\n",
              "0                  Dairy  249.8092            OUT049   \n",
              "1            Soft Drinks   48.2692            OUT018   \n",
              "2                   Meat  141.6180            OUT049   \n",
              "3  Fruits and Vegetables  182.0950            OUT010   \n",
              "4              Household   53.8614            OUT013   \n",
              "\n",
              "   Outlet_Establishment_Year Outlet_Size Outlet_Location_Type  \\\n",
              "0                       1999      Medium               Tier 1   \n",
              "1                       2009      Medium               Tier 3   \n",
              "2                       1999      Medium               Tier 1   \n",
              "3                       1998       Small               Tier 3   \n",
              "4                       1987        High               Tier 3   \n",
              "\n",
              "         Outlet_Type  Item_Outlet_Sales  Sold_Units  \n",
              "0  Supermarket Type1          3735.1380   14.951963  \n",
              "1  Supermarket Type2           443.4228    9.186454  \n",
              "2  Supermarket Type1          2097.2700   14.809346  \n",
              "3      Grocery Store           732.3800    4.021967  \n",
              "4  Supermarket Type1           994.7052   18.467868  "
            ]
          },
          "execution_count": 47,
          "metadata": {},
          "output_type": "execute_result"
        }
      ],
      "source": [
        "df=df2\n",
        "df['Sold_Units']=df['Item_Outlet_Sales']/df['Item_MRP']\n",
        "df['Sold_Units'].round(decimals=2)\n",
        "df.head()"
      ]
    },
    {
      "cell_type": "code",
      "execution_count": 48,
      "metadata": {},
      "outputs": [],
      "source": [
        "Type1 = df['Outlet_Type'] == 'Supermarket Type1'\n",
        "Type1_df =df [Type1]"
      ]
    },
    {
      "cell_type": "code",
      "execution_count": 49,
      "metadata": {},
      "outputs": [],
      "source": [
        "Type2 = df['Outlet_Type'] == 'Supermarket Type2'\n",
        "Type2_df =df [Type2]"
      ]
    },
    {
      "cell_type": "code",
      "execution_count": 50,
      "metadata": {},
      "outputs": [],
      "source": [
        "Type3 = df['Outlet_Type'] == 'Supermarket Type3'\n",
        "Type3_df =df [Type3]"
      ]
    },
    {
      "cell_type": "code",
      "execution_count": 51,
      "metadata": {},
      "outputs": [],
      "source": [
        "Grocery = df['Outlet_Type'] == 'Grocery Store'\n",
        "Grocery_df =df [Grocery]"
      ]
    },
    {
      "cell_type": "code",
      "execution_count": 52,
      "metadata": {},
      "outputs": [
        {
          "data": {
            "text/plain": [
              "Item_Type\n",
              "Baking Goods              9943.687764\n",
              "Breads                    3971.697765\n",
              "Breakfast                 1572.019650\n",
              "Canned                   10338.636977\n",
              "Dairy                    10121.445515\n",
              "Frozen Foods             12936.582569\n",
              "Fruits and Vegetables    19331.405072\n",
              "Hard Drinks               3321.842317\n",
              "Health and Hygiene        8057.552691\n",
              "Household                13836.714613\n",
              "Meat                      6553.540510\n",
              "Others                    2478.741999\n",
              "Seafood                   1047.291893\n",
              "Snack Foods              18718.673869\n",
              "Soft Drinks               6861.378368\n",
              "Starchy Foods             2381.904690\n",
              "Name: Sold_Units, dtype: float64"
            ]
          },
          "execution_count": 52,
          "metadata": {},
          "output_type": "execute_result"
        }
      ],
      "source": [
        "df.groupby(['Item_Type'])['Sold_Units'].sum()"
      ]
    },
    {
      "cell_type": "markdown",
      "metadata": {},
      "source": [
        "-Grafica de barras que muestra el TOTAL de unidades vendidas por tipo de producto. "
      ]
    },
    {
      "cell_type": "code",
      "execution_count": 53,
      "metadata": {},
      "outputs": [],
      "source": [
        "Total_Units=df.groupby(['Item_Type'])['Sold_Units'].sum()"
      ]
    },
    {
      "cell_type": "code",
      "execution_count": 54,
      "metadata": {},
      "outputs": [
        {
          "data": {
            "image/png": "[encoded data removed]",
            "text/plain": [
              "<Figure size 1440x720 with 1 Axes>"
            ]
          },
          "metadata": {
            "needs_background": "light"
          },
          "output_type": "display_data"
        }
      ],
      "source": [
        "Total_Units.plot(x='Item_Type', y='Sold_Units', kind= 'bar', figsize=(20,10));\n",
        "plt.rcParams.update({'font.size': 30}) "
      ]
    },
    {
      "cell_type": "code",
      "execution_count": 55,
      "metadata": {},
      "outputs": [
        {
          "data": {
            "image/png": "[encoded data removed]",
            "text/plain": [
              "<Figure size 1440x720 with 1 Axes>"
            ]
          },
          "metadata": {
            "needs_background": "light"
          },
          "output_type": "display_data"
        }
      ],
      "source": [
        "Total_Units.plot(x='Item_Type', y='Sold_Units', kind= 'bar', figsize=(20,10));\n",
        "plt.rcParams.update({'font.size': 30}) "
      ]
    },
    {
      "cell_type": "markdown",
      "metadata": {},
      "source": [
        "En este grafico de barras se puede apreciar como el tipo de producto que mas se vende son los 'Fruits and Vegetables'. El tipo de producto que menos se venden son los 'Seafood'."
      ]
    },
    {
      "cell_type": "markdown",
      "metadata": {},
      "source": [
        "-Grafico pastel que muestra la composicion de productos vendidos contra la categoria 'Item Fat Content' "
      ]
    },
    {
      "cell_type": "code",
      "execution_count": 56,
      "metadata": {},
      "outputs": [
        {
          "data": {
            "image/png": "[encoded data removed]",
            "text/plain": [
              "<Figure size 1440x720 with 1 Axes>"
            ]
          },
          "metadata": {},
          "output_type": "display_data"
        }
      ],
      "source": [
        "fat_content_df=df['Item_Fat_Content'].value_counts()\n",
        "fat_content_df.plot(x='Item_Fat_Content', kind= 'pie', figsize=(20,10), autopct='%1.1f%%');"
      ]
    },
    {
      "cell_type": "markdown",
      "metadata": {},
      "source": [
        "Como se observa en el grafico de pastel, un 64.7% de las unidades totales vendidas pertenencen a la categoria 'Low fat', el 35.3% restante pertenece a la categoria 'Regular'. se puede apreciar como la categoria de producto que mas se vende es la 'Low Fat'"
      ]
    },
    {
      "attachments": {},
      "cell_type": "markdown",
      "metadata": {},
      "source": [
        "Identificar el objetivo (X) y las características (y): Asignen la columna \"Item_Outlet_Sales\" somo el objetivo y el resto de las variables relevantes como el matriz de características.  Realicen un train test split "
      ]
    },
    {
      "cell_type": "code",
      "execution_count": 57,
      "metadata": {},
      "outputs": [],
      "source": [
        "import numpy as np\n",
        "from sklearn.preprocessing import StandardScaler, OneHotEncoder\n",
        "from sklearn.impute import SimpleImputer\n",
        "from sklearn.compose import make_column_transformer, make_column_selector\n",
        "from sklearn.pipeline import make_pipeline\n",
        "from sklearn.model_selection import train_test_split\n",
        "from sklearn import set_config\n",
        "set_config(display='diagram')"
      ]
    },
    {
      "cell_type": "code",
      "execution_count": 58,
      "metadata": {},
      "outputs": [
        {
          "data": {
            "text/html": [
              "<div>\n",
              "<style scoped>\n",
              "    .dataframe tbody tr th:only-of-type {\n",
              "        vertical-align: middle;\n",
              "    }\n",
              "\n",
              "    .dataframe tbody tr th {\n",
              "        vertical-align: top;\n",
              "    }\n",
              "\n",
              "    .dataframe thead th {\n",
              "        text-align: right;\n",
              "    }\n",
              "</style>\n",
              "<table border=\"1\" class=\"dataframe\">\n",
              "  <thead>\n",
              "    <tr style=\"text-align: right;\">\n",
              "      <th></th>\n",
              "      <th>Item_Identifier</th>\n",
              "      <th>Item_Weight</th>\n",
              "      <th>Item_Fat_Content</th>\n",
              "      <th>Item_Visibility</th>\n",
              "      <th>Item_Type</th>\n",
              "      <th>Item_MRP</th>\n",
              "      <th>Outlet_Identifier</th>\n",
              "      <th>Outlet_Establishment_Year</th>\n",
              "      <th>Outlet_Size</th>\n",
              "      <th>Outlet_Location_Type</th>\n",
              "      <th>Outlet_Type</th>\n",
              "      <th>Item_Outlet_Sales</th>\n",
              "      <th>Sold_Units</th>\n",
              "    </tr>\n",
              "  </thead>\n",
              "  <tbody>\n",
              "    <tr>\n",
              "      <th>0</th>\n",
              "      <td>FDA15</td>\n",
              "      <td>9.30</td>\n",
              "      <td>Low Fat</td>\n",
              "      <td>0.016047</td>\n",
              "      <td>Dairy</td>\n",
              "      <td>249.8092</td>\n",
              "      <td>OUT049</td>\n",
              "      <td>1999</td>\n",
              "      <td>Medium</td>\n",
              "      <td>Tier 1</td>\n",
              "      <td>Supermarket Type1</td>\n",
              "      <td>3735.1380</td>\n",
              "      <td>14.951963</td>\n",
              "    </tr>\n",
              "    <tr>\n",
              "      <th>1</th>\n",
              "      <td>DRC01</td>\n",
              "      <td>5.92</td>\n",
              "      <td>Regular</td>\n",
              "      <td>0.019278</td>\n",
              "      <td>Soft Drinks</td>\n",
              "      <td>48.2692</td>\n",
              "      <td>OUT018</td>\n",
              "      <td>2009</td>\n",
              "      <td>Medium</td>\n",
              "      <td>Tier 3</td>\n",
              "      <td>Supermarket Type2</td>\n",
              "      <td>443.4228</td>\n",
              "      <td>9.186454</td>\n",
              "    </tr>\n",
              "    <tr>\n",
              "      <th>2</th>\n",
              "      <td>FDN15</td>\n",
              "      <td>17.50</td>\n",
              "      <td>Low Fat</td>\n",
              "      <td>0.016760</td>\n",
              "      <td>Meat</td>\n",
              "      <td>141.6180</td>\n",
              "      <td>OUT049</td>\n",
              "      <td>1999</td>\n",
              "      <td>Medium</td>\n",
              "      <td>Tier 1</td>\n",
              "      <td>Supermarket Type1</td>\n",
              "      <td>2097.2700</td>\n",
              "      <td>14.809346</td>\n",
              "    </tr>\n",
              "    <tr>\n",
              "      <th>3</th>\n",
              "      <td>FDX07</td>\n",
              "      <td>19.20</td>\n",
              "      <td>Regular</td>\n",
              "      <td>0.000000</td>\n",
              "      <td>Fruits and Vegetables</td>\n",
              "      <td>182.0950</td>\n",
              "      <td>OUT010</td>\n",
              "      <td>1998</td>\n",
              "      <td>Small</td>\n",
              "      <td>Tier 3</td>\n",
              "      <td>Grocery Store</td>\n",
              "      <td>732.3800</td>\n",
              "      <td>4.021967</td>\n",
              "    </tr>\n",
              "    <tr>\n",
              "      <th>4</th>\n",
              "      <td>NCD19</td>\n",
              "      <td>8.93</td>\n",
              "      <td>Low Fat</td>\n",
              "      <td>0.000000</td>\n",
              "      <td>Household</td>\n",
              "      <td>53.8614</td>\n",
              "      <td>OUT013</td>\n",
              "      <td>1987</td>\n",
              "      <td>High</td>\n",
              "      <td>Tier 3</td>\n",
              "      <td>Supermarket Type1</td>\n",
              "      <td>994.7052</td>\n",
              "      <td>18.467868</td>\n",
              "    </tr>\n",
              "  </tbody>\n",
              "</table>\n",
              "</div>"
            ],
            "text/plain": [
              "  Item_Identifier  Item_Weight Item_Fat_Content  Item_Visibility  \\\n",
              "0           FDA15         9.30          Low Fat         0.016047   \n",
              "1           DRC01         5.92          Regular         0.019278   \n",
              "2           FDN15        17.50          Low Fat         0.016760   \n",
              "3           FDX07        19.20          Regular         0.000000   \n",
              "4           NCD19         8.93          Low Fat         0.000000   \n",
              "\n",
              "               Item_Type  Item_MRP Outlet_Identifier  \\\n",
              "0                  Dairy  249.8092            OUT049   \n",
              "1            Soft Drinks   48.2692            OUT018   \n",
              "2                   Meat  141.6180            OUT049   \n",
              "3  Fruits and Vegetables  182.0950            OUT010   \n",
              "4              Household   53.8614            OUT013   \n",
              "\n",
              "   Outlet_Establishment_Year Outlet_Size Outlet_Location_Type  \\\n",
              "0                       1999      Medium               Tier 1   \n",
              "1                       2009      Medium               Tier 3   \n",
              "2                       1999      Medium               Tier 1   \n",
              "3                       1998       Small               Tier 3   \n",
              "4                       1987        High               Tier 3   \n",
              "\n",
              "         Outlet_Type  Item_Outlet_Sales  Sold_Units  \n",
              "0  Supermarket Type1          3735.1380   14.951963  \n",
              "1  Supermarket Type2           443.4228    9.186454  \n",
              "2  Supermarket Type1          2097.2700   14.809346  \n",
              "3      Grocery Store           732.3800    4.021967  \n",
              "4  Supermarket Type1           994.7052   18.467868  "
            ]
          },
          "execution_count": 58,
          "metadata": {},
          "output_type": "execute_result"
        }
      ],
      "source": [
        "df.head()"
      ]
    },
    {
      "cell_type": "code",
      "execution_count": 59,
      "metadata": {},
      "outputs": [],
      "source": [
        "X = df.drop(['Item_Outlet_Sales', 'Item_Identifier','Outlet_Identifier','Item_Fat_Content','Sold_Units'], axis=1)\n",
        "y = df['Item_Outlet_Sales']\n",
        "\n",
        "#Train test Split\n",
        "X_train, X_test, y_train, y_test = train_test_split(X, y, random_state=42)"
      ]
    },
    {
      "attachments": {},
      "cell_type": "markdown",
      "metadata": {},
      "source": [
        "Crear un pipeline de preprocesamiento para preparar el conjunto de datos para el aprendizaje automático."
      ]
    },
    {
      "cell_type": "code",
      "execution_count": 60,
      "metadata": {},
      "outputs": [
        {
          "name": "stdout",
          "output_type": "stream",
          "text": [
            "<class 'pandas.core.frame.DataFrame'>\n",
            "RangeIndex: 8523 entries, 0 to 8522\n",
            "Data columns (total 13 columns):\n",
            " #   Column                     Non-Null Count  Dtype  \n",
            "---  ------                     --------------  -----  \n",
            " 0   Item_Identifier            8523 non-null   object \n",
            " 1   Item_Weight                8523 non-null   float64\n",
            " 2   Item_Fat_Content           8523 non-null   object \n",
            " 3   Item_Visibility            8523 non-null   float64\n",
            " 4   Item_Type                  8523 non-null   object \n",
            " 5   Item_MRP                   8523 non-null   float64\n",
            " 6   Outlet_Identifier          8523 non-null   object \n",
            " 7   Outlet_Establishment_Year  8523 non-null   int64  \n",
            " 8   Outlet_Size                8523 non-null   object \n",
            " 9   Outlet_Location_Type       8523 non-null   object \n",
            " 10  Outlet_Type                8523 non-null   object \n",
            " 11  Item_Outlet_Sales          8523 non-null   float64\n",
            " 12  Sold_Units                 8523 non-null   float64\n",
            "dtypes: float64(5), int64(1), object(7)\n",
            "memory usage: 865.7+ KB\n"
          ]
        }
      ],
      "source": [
        "df.info()"
      ]
    },
    {
      "cell_type": "code",
      "execution_count": 61,
      "metadata": {},
      "outputs": [],
      "source": [
        "# Selectors\n",
        "cat_selector = make_column_selector(dtype_include='object')\n",
        "num_selector = make_column_selector(dtype_include='number')"
      ]
    },
    {
      "cell_type": "code",
      "execution_count": 62,
      "metadata": {},
      "outputs": [],
      "source": [
        "# Scaler\n",
        "scaler = StandardScaler()\n",
        "# One-hot encoder\n",
        "ohe = OneHotEncoder(handle_unknown='ignore', sparse=False)"
      ]
    },
    {
      "cell_type": "code",
      "execution_count": 63,
      "metadata": {},
      "outputs": [
        {
          "data": {
            "text/html": [
              "<style>#sk-406ab19a-951b-4a9e-ab98-5aa3fdbdd094 {color: black;background-color: white;}#sk-406ab19a-951b-4a9e-ab98-5aa3fdbdd094 pre{padding: 0;}#sk-406ab19a-951b-4a9e-ab98-5aa3fdbdd094 div.sk-toggleable {background-color: white;}#sk-406ab19a-951b-4a9e-ab98-5aa3fdbdd094 label.sk-toggleable__label {cursor: pointer;display: block;width: 100%;margin-bottom: 0;padding: 0.2em 0.3em;box-sizing: border-box;text-align: center;}#sk-406ab19a-951b-4a9e-ab98-5aa3fdbdd094 div.sk-toggleable__content {max-height: 0;max-width: 0;overflow: hidden;text-align: left;background-color: #f0f8ff;}#sk-406ab19a-951b-4a9e-ab98-5aa3fdbdd094 div.sk-toggleable__content pre {margin: 0.2em;color: black;border-radius: 0.25em;background-color: #f0f8ff;}#sk-406ab19a-951b-4a9e-ab98-5aa3fdbdd094 input.sk-toggleable__control:checked~div.sk-toggleable__content {max-height: 200px;max-width: 100%;overflow: auto;}#sk-406ab19a-951b-4a9e-ab98-5aa3fdbdd094 div.sk-estimator input.sk-toggleable__control:checked~label.sk-toggleable__label {background-color: #d4ebff;}#sk-406ab19a-951b-4a9e-ab98-5aa3fdbdd094 div.sk-label input.sk-toggleable__control:checked~label.sk-toggleable__label {background-color: #d4ebff;}#sk-406ab19a-951b-4a9e-ab98-5aa3fdbdd094 input.sk-hidden--visually {border: 0;clip: rect(1px 1px 1px 1px);clip: rect(1px, 1px, 1px, 1px);height: 1px;margin: -1px;overflow: hidden;padding: 0;position: absolute;width: 1px;}#sk-406ab19a-951b-4a9e-ab98-5aa3fdbdd094 div.sk-estimator {font-family: monospace;background-color: #f0f8ff;margin: 0.25em 0.25em;border: 1px dotted black;border-radius: 0.25em;box-sizing: border-box;}#sk-406ab19a-951b-4a9e-ab98-5aa3fdbdd094 div.sk-estimator:hover {background-color: #d4ebff;}#sk-406ab19a-951b-4a9e-ab98-5aa3fdbdd094 div.sk-parallel-item::after {content: \"\";width: 100%;border-bottom: 1px solid gray;flex-grow: 1;}#sk-406ab19a-951b-4a9e-ab98-5aa3fdbdd094 div.sk-label:hover label.sk-toggleable__label {background-color: #d4ebff;}#sk-406ab19a-951b-4a9e-ab98-5aa3fdbdd094 div.sk-serial::before {content: \"\";position: absolute;border-left: 1px solid gray;box-sizing: border-box;top: 2em;bottom: 0;left: 50%;}#sk-406ab19a-951b-4a9e-ab98-5aa3fdbdd094 div.sk-serial {display: flex;flex-direction: column;align-items: center;background-color: white;}#sk-406ab19a-951b-4a9e-ab98-5aa3fdbdd094 div.sk-item {z-index: 1;}#sk-406ab19a-951b-4a9e-ab98-5aa3fdbdd094 div.sk-parallel {display: flex;align-items: stretch;justify-content: center;background-color: white;}#sk-406ab19a-951b-4a9e-ab98-5aa3fdbdd094 div.sk-parallel-item {display: flex;flex-direction: column;position: relative;background-color: white;}#sk-406ab19a-951b-4a9e-ab98-5aa3fdbdd094 div.sk-parallel-item:first-child::after {align-self: flex-end;width: 50%;}#sk-406ab19a-951b-4a9e-ab98-5aa3fdbdd094 div.sk-parallel-item:last-child::after {align-self: flex-start;width: 50%;}#sk-406ab19a-951b-4a9e-ab98-5aa3fdbdd094 div.sk-parallel-item:only-child::after {width: 0;}#sk-406ab19a-951b-4a9e-ab98-5aa3fdbdd094 div.sk-dashed-wrapped {border: 1px dashed gray;margin: 0.2em;box-sizing: border-box;padding-bottom: 0.1em;background-color: white;position: relative;}#sk-406ab19a-951b-4a9e-ab98-5aa3fdbdd094 div.sk-label label {font-family: monospace;font-weight: bold;background-color: white;display: inline-block;line-height: 1.2em;}#sk-406ab19a-951b-4a9e-ab98-5aa3fdbdd094 div.sk-label-container {position: relative;z-index: 2;text-align: center;}#sk-406ab19a-951b-4a9e-ab98-5aa3fdbdd094 div.sk-container {display: inline-block;position: relative;}</style><div id=\"sk-406ab19a-951b-4a9e-ab98-5aa3fdbdd094\" class\"sk-top-container\"><div class=\"sk-container\"><div class=\"sk-item sk-dashed-wrapped\"><div class=\"sk-label-container\"><div class=\"sk-label sk-toggleable\"><input class=\"sk-toggleable__control sk-hidden--visually\" id=\"198b5bf2-3421-4047-a109-fa50b3741e62\" type=\"checkbox\" ><label class=\"sk-toggleable__label\" for=\"198b5bf2-3421-4047-a109-fa50b3741e62\">Pipeline</label><div class=\"sk-toggleable__content\"><pre>Pipeline(steps=[('standardscaler', StandardScaler())])</pre></div></div></div><div class=\"sk-serial\"><div class=\"sk-item\"><div class=\"sk-estimator sk-toggleable\"><input class=\"sk-toggleable__control sk-hidden--visually\" id=\"8c3eaeb6-906b-42d6-b5c5-ae034bd3332c\" type=\"checkbox\" ><label class=\"sk-toggleable__label\" for=\"8c3eaeb6-906b-42d6-b5c5-ae034bd3332c\">StandardScaler</label><div class=\"sk-toggleable__content\"><pre>StandardScaler()</pre></div></div></div></div></div></div></div>"
            ],
            "text/plain": [
              "Pipeline(steps=[('standardscaler', StandardScaler())])"
            ]
          },
          "execution_count": 63,
          "metadata": {},
          "output_type": "execute_result"
        }
      ],
      "source": [
        "# Numeric pipeline\n",
        "numeric_pipe = make_pipeline(scaler)\n",
        "numeric_pipe"
      ]
    },
    {
      "cell_type": "code",
      "execution_count": 64,
      "metadata": {},
      "outputs": [
        {
          "data": {
            "text/html": [
              "<style>#sk-91f2c0b4-b47c-448f-961e-c2fa5f54132c {color: black;background-color: white;}#sk-91f2c0b4-b47c-448f-961e-c2fa5f54132c pre{padding: 0;}#sk-91f2c0b4-b47c-448f-961e-c2fa5f54132c div.sk-toggleable {background-color: white;}#sk-91f2c0b4-b47c-448f-961e-c2fa5f54132c label.sk-toggleable__label {cursor: pointer;display: block;width: 100%;margin-bottom: 0;padding: 0.2em 0.3em;box-sizing: border-box;text-align: center;}#sk-91f2c0b4-b47c-448f-961e-c2fa5f54132c div.sk-toggleable__content {max-height: 0;max-width: 0;overflow: hidden;text-align: left;background-color: #f0f8ff;}#sk-91f2c0b4-b47c-448f-961e-c2fa5f54132c div.sk-toggleable__content pre {margin: 0.2em;color: black;border-radius: 0.25em;background-color: #f0f8ff;}#sk-91f2c0b4-b47c-448f-961e-c2fa5f54132c input.sk-toggleable__control:checked~div.sk-toggleable__content {max-height: 200px;max-width: 100%;overflow: auto;}#sk-91f2c0b4-b47c-448f-961e-c2fa5f54132c div.sk-estimator input.sk-toggleable__control:checked~label.sk-toggleable__label {background-color: #d4ebff;}#sk-91f2c0b4-b47c-448f-961e-c2fa5f54132c div.sk-label input.sk-toggleable__control:checked~label.sk-toggleable__label {background-color: #d4ebff;}#sk-91f2c0b4-b47c-448f-961e-c2fa5f54132c input.sk-hidden--visually {border: 0;clip: rect(1px 1px 1px 1px);clip: rect(1px, 1px, 1px, 1px);height: 1px;margin: -1px;overflow: hidden;padding: 0;position: absolute;width: 1px;}#sk-91f2c0b4-b47c-448f-961e-c2fa5f54132c div.sk-estimator {font-family: monospace;background-color: #f0f8ff;margin: 0.25em 0.25em;border: 1px dotted black;border-radius: 0.25em;box-sizing: border-box;}#sk-91f2c0b4-b47c-448f-961e-c2fa5f54132c div.sk-estimator:hover {background-color: #d4ebff;}#sk-91f2c0b4-b47c-448f-961e-c2fa5f54132c div.sk-parallel-item::after {content: \"\";width: 100%;border-bottom: 1px solid gray;flex-grow: 1;}#sk-91f2c0b4-b47c-448f-961e-c2fa5f54132c div.sk-label:hover label.sk-toggleable__label {background-color: #d4ebff;}#sk-91f2c0b4-b47c-448f-961e-c2fa5f54132c div.sk-serial::before {content: \"\";position: absolute;border-left: 1px solid gray;box-sizing: border-box;top: 2em;bottom: 0;left: 50%;}#sk-91f2c0b4-b47c-448f-961e-c2fa5f54132c div.sk-serial {display: flex;flex-direction: column;align-items: center;background-color: white;}#sk-91f2c0b4-b47c-448f-961e-c2fa5f54132c div.sk-item {z-index: 1;}#sk-91f2c0b4-b47c-448f-961e-c2fa5f54132c div.sk-parallel {display: flex;align-items: stretch;justify-content: center;background-color: white;}#sk-91f2c0b4-b47c-448f-961e-c2fa5f54132c div.sk-parallel-item {display: flex;flex-direction: column;position: relative;background-color: white;}#sk-91f2c0b4-b47c-448f-961e-c2fa5f54132c div.sk-parallel-item:first-child::after {align-self: flex-end;width: 50%;}#sk-91f2c0b4-b47c-448f-961e-c2fa5f54132c div.sk-parallel-item:last-child::after {align-self: flex-start;width: 50%;}#sk-91f2c0b4-b47c-448f-961e-c2fa5f54132c div.sk-parallel-item:only-child::after {width: 0;}#sk-91f2c0b4-b47c-448f-961e-c2fa5f54132c div.sk-dashed-wrapped {border: 1px dashed gray;margin: 0.2em;box-sizing: border-box;padding-bottom: 0.1em;background-color: white;position: relative;}#sk-91f2c0b4-b47c-448f-961e-c2fa5f54132c div.sk-label label {font-family: monospace;font-weight: bold;background-color: white;display: inline-block;line-height: 1.2em;}#sk-91f2c0b4-b47c-448f-961e-c2fa5f54132c div.sk-label-container {position: relative;z-index: 2;text-align: center;}#sk-91f2c0b4-b47c-448f-961e-c2fa5f54132c div.sk-container {display: inline-block;position: relative;}</style><div id=\"sk-91f2c0b4-b47c-448f-961e-c2fa5f54132c\" class\"sk-top-container\"><div class=\"sk-container\"><div class=\"sk-item sk-dashed-wrapped\"><div class=\"sk-label-container\"><div class=\"sk-label sk-toggleable\"><input class=\"sk-toggleable__control sk-hidden--visually\" id=\"c7d57ced-6d4c-4115-8414-25696a68e35b\" type=\"checkbox\" ><label class=\"sk-toggleable__label\" for=\"c7d57ced-6d4c-4115-8414-25696a68e35b\">Pipeline</label><div class=\"sk-toggleable__content\"><pre>Pipeline(steps=[('onehotencoder',\n",
              "                 OneHotEncoder(handle_unknown='ignore', sparse=False))])</pre></div></div></div><div class=\"sk-serial\"><div class=\"sk-item\"><div class=\"sk-estimator sk-toggleable\"><input class=\"sk-toggleable__control sk-hidden--visually\" id=\"b94fcbea-6d3d-4b99-b0bb-5c2000626800\" type=\"checkbox\" ><label class=\"sk-toggleable__label\" for=\"b94fcbea-6d3d-4b99-b0bb-5c2000626800\">OneHotEncoder</label><div class=\"sk-toggleable__content\"><pre>OneHotEncoder(handle_unknown='ignore', sparse=False)</pre></div></div></div></div></div></div></div>"
            ],
            "text/plain": [
              "Pipeline(steps=[('onehotencoder',\n",
              "                 OneHotEncoder(handle_unknown='ignore', sparse=False))])"
            ]
          },
          "execution_count": 64,
          "metadata": {},
          "output_type": "execute_result"
        }
      ],
      "source": [
        "# Categorical pipeline\n",
        "categorical_pipe = make_pipeline(ohe)\n",
        "categorical_pipe"
      ]
    },
    {
      "cell_type": "code",
      "execution_count": 65,
      "metadata": {},
      "outputs": [
        {
          "data": {
            "text/html": [
              "<style>#sk-247c1d3f-74ac-4645-bbbf-3a3e14678711 {color: black;background-color: white;}#sk-247c1d3f-74ac-4645-bbbf-3a3e14678711 pre{padding: 0;}#sk-247c1d3f-74ac-4645-bbbf-3a3e14678711 div.sk-toggleable {background-color: white;}#sk-247c1d3f-74ac-4645-bbbf-3a3e14678711 label.sk-toggleable__label {cursor: pointer;display: block;width: 100%;margin-bottom: 0;padding: 0.2em 0.3em;box-sizing: border-box;text-align: center;}#sk-247c1d3f-74ac-4645-bbbf-3a3e14678711 div.sk-toggleable__content {max-height: 0;max-width: 0;overflow: hidden;text-align: left;background-color: #f0f8ff;}#sk-247c1d3f-74ac-4645-bbbf-3a3e14678711 div.sk-toggleable__content pre {margin: 0.2em;color: black;border-radius: 0.25em;background-color: #f0f8ff;}#sk-247c1d3f-74ac-4645-bbbf-3a3e14678711 input.sk-toggleable__control:checked~div.sk-toggleable__content {max-height: 200px;max-width: 100%;overflow: auto;}#sk-247c1d3f-74ac-4645-bbbf-3a3e14678711 div.sk-estimator input.sk-toggleable__control:checked~label.sk-toggleable__label {background-color: #d4ebff;}#sk-247c1d3f-74ac-4645-bbbf-3a3e14678711 div.sk-label input.sk-toggleable__control:checked~label.sk-toggleable__label {background-color: #d4ebff;}#sk-247c1d3f-74ac-4645-bbbf-3a3e14678711 input.sk-hidden--visually {border: 0;clip: rect(1px 1px 1px 1px);clip: rect(1px, 1px, 1px, 1px);height: 1px;margin: -1px;overflow: hidden;padding: 0;position: absolute;width: 1px;}#sk-247c1d3f-74ac-4645-bbbf-3a3e14678711 div.sk-estimator {font-family: monospace;background-color: #f0f8ff;margin: 0.25em 0.25em;border: 1px dotted black;border-radius: 0.25em;box-sizing: border-box;}#sk-247c1d3f-74ac-4645-bbbf-3a3e14678711 div.sk-estimator:hover {background-color: #d4ebff;}#sk-247c1d3f-74ac-4645-bbbf-3a3e14678711 div.sk-parallel-item::after {content: \"\";width: 100%;border-bottom: 1px solid gray;flex-grow: 1;}#sk-247c1d3f-74ac-4645-bbbf-3a3e14678711 div.sk-label:hover label.sk-toggleable__label {background-color: #d4ebff;}#sk-247c1d3f-74ac-4645-bbbf-3a3e14678711 div.sk-serial::before {content: \"\";position: absolute;border-left: 1px solid gray;box-sizing: border-box;top: 2em;bottom: 0;left: 50%;}#sk-247c1d3f-74ac-4645-bbbf-3a3e14678711 div.sk-serial {display: flex;flex-direction: column;align-items: center;background-color: white;}#sk-247c1d3f-74ac-4645-bbbf-3a3e14678711 div.sk-item {z-index: 1;}#sk-247c1d3f-74ac-4645-bbbf-3a3e14678711 div.sk-parallel {display: flex;align-items: stretch;justify-content: center;background-color: white;}#sk-247c1d3f-74ac-4645-bbbf-3a3e14678711 div.sk-parallel-item {display: flex;flex-direction: column;position: relative;background-color: white;}#sk-247c1d3f-74ac-4645-bbbf-3a3e14678711 div.sk-parallel-item:first-child::after {align-self: flex-end;width: 50%;}#sk-247c1d3f-74ac-4645-bbbf-3a3e14678711 div.sk-parallel-item:last-child::after {align-self: flex-start;width: 50%;}#sk-247c1d3f-74ac-4645-bbbf-3a3e14678711 div.sk-parallel-item:only-child::after {width: 0;}#sk-247c1d3f-74ac-4645-bbbf-3a3e14678711 div.sk-dashed-wrapped {border: 1px dashed gray;margin: 0.2em;box-sizing: border-box;padding-bottom: 0.1em;background-color: white;position: relative;}#sk-247c1d3f-74ac-4645-bbbf-3a3e14678711 div.sk-label label {font-family: monospace;font-weight: bold;background-color: white;display: inline-block;line-height: 1.2em;}#sk-247c1d3f-74ac-4645-bbbf-3a3e14678711 div.sk-label-container {position: relative;z-index: 2;text-align: center;}#sk-247c1d3f-74ac-4645-bbbf-3a3e14678711 div.sk-container {display: inline-block;position: relative;}</style><div id=\"sk-247c1d3f-74ac-4645-bbbf-3a3e14678711\" class\"sk-top-container\"><div class=\"sk-container\"><div class=\"sk-item sk-dashed-wrapped\"><div class=\"sk-label-container\"><div class=\"sk-label sk-toggleable\"><input class=\"sk-toggleable__control sk-hidden--visually\" id=\"35ed9f55-2b34-42e9-86ac-6c59d3d8cf1a\" type=\"checkbox\" ><label class=\"sk-toggleable__label\" for=\"35ed9f55-2b34-42e9-86ac-6c59d3d8cf1a\">ColumnTransformer</label><div class=\"sk-toggleable__content\"><pre>ColumnTransformer(transformers=[('pipeline-1',\n",
              "                                 Pipeline(steps=[('standardscaler',\n",
              "                                                  StandardScaler())]),\n",
              "                                 <sklearn.compose._column_transformer.make_column_selector object at 0x000001EAADD8BA58>),\n",
              "                                ('pipeline-2',\n",
              "                                 Pipeline(steps=[('onehotencoder',\n",
              "                                                  OneHotEncoder(handle_unknown='ignore',\n",
              "                                                                sparse=False))]),\n",
              "                                 <sklearn.compose._column_transformer.make_column_selector object at 0x000001EAAD852278>)])</pre></div></div></div><div class=\"sk-parallel\"><div class=\"sk-parallel-item\"><div class=\"sk-item\"><div class=\"sk-label-container\"><div class=\"sk-label sk-toggleable\"><input class=\"sk-toggleable__control sk-hidden--visually\" id=\"7c5b9bd1-e952-4c1f-a56b-ad9624e9d7d7\" type=\"checkbox\" ><label class=\"sk-toggleable__label\" for=\"7c5b9bd1-e952-4c1f-a56b-ad9624e9d7d7\">pipeline-1</label><div class=\"sk-toggleable__content\"><pre><sklearn.compose._column_transformer.make_column_selector object at 0x000001EAADD8BA58></pre></div></div></div><div class=\"sk-serial\"><div class=\"sk-item\"><div class=\"sk-serial\"><div class=\"sk-item\"><div class=\"sk-estimator sk-toggleable\"><input class=\"sk-toggleable__control sk-hidden--visually\" id=\"af642391-656d-42ab-8f66-62a67cf57980\" type=\"checkbox\" ><label class=\"sk-toggleable__label\" for=\"af642391-656d-42ab-8f66-62a67cf57980\">StandardScaler</label><div class=\"sk-toggleable__content\"><pre>StandardScaler()</pre></div></div></div></div></div></div></div></div><div class=\"sk-parallel-item\"><div class=\"sk-item\"><div class=\"sk-label-container\"><div class=\"sk-label sk-toggleable\"><input class=\"sk-toggleable__control sk-hidden--visually\" id=\"506ced26-d367-4987-bbfb-05cfb35f5dd1\" type=\"checkbox\" ><label class=\"sk-toggleable__label\" for=\"506ced26-d367-4987-bbfb-05cfb35f5dd1\">pipeline-2</label><div class=\"sk-toggleable__content\"><pre><sklearn.compose._column_transformer.make_column_selector object at 0x000001EAAD852278></pre></div></div></div><div class=\"sk-serial\"><div class=\"sk-item\"><div class=\"sk-serial\"><div class=\"sk-item\"><div class=\"sk-estimator sk-toggleable\"><input class=\"sk-toggleable__control sk-hidden--visually\" id=\"ff91a4a7-67ae-4882-a6b0-1920a9115d94\" type=\"checkbox\" ><label class=\"sk-toggleable__label\" for=\"ff91a4a7-67ae-4882-a6b0-1920a9115d94\">OneHotEncoder</label><div class=\"sk-toggleable__content\"><pre>OneHotEncoder(handle_unknown='ignore', sparse=False)</pre></div></div></div></div></div></div></div></div></div></div></div></div>"
            ],
            "text/plain": [
              "ColumnTransformer(transformers=[('pipeline-1',\n",
              "                                 Pipeline(steps=[('standardscaler',\n",
              "                                                  StandardScaler())]),\n",
              "                                 <sklearn.compose._column_transformer.make_column_selector object at 0x000001EAADD8BA58>),\n",
              "                                ('pipeline-2',\n",
              "                                 Pipeline(steps=[('onehotencoder',\n",
              "                                                  OneHotEncoder(handle_unknown='ignore',\n",
              "                                                                sparse=False))]),\n",
              "                                 <sklearn.compose._column_transformer.make_column_selector object at 0x000001EAAD852278>)])"
            ]
          },
          "execution_count": 65,
          "metadata": {},
          "output_type": "execute_result"
        }
      ],
      "source": [
        "# Tuples para Column Transformer\n",
        "number_tuple = (numeric_pipe, num_selector)\n",
        "category_tuple = (categorical_pipe, cat_selector)\n",
        "# ColumnTransformer\n",
        "preprocessor = make_column_transformer(number_tuple, category_tuple)\n",
        "preprocessor"
      ]
    },
    {
      "cell_type": "code",
      "execution_count": 66,
      "metadata": {},
      "outputs": [
        {
          "data": {
            "text/html": [
              "<style>#sk-05c1a034-7fc9-4d16-ac06-27f71b178632 {color: black;background-color: white;}#sk-05c1a034-7fc9-4d16-ac06-27f71b178632 pre{padding: 0;}#sk-05c1a034-7fc9-4d16-ac06-27f71b178632 div.sk-toggleable {background-color: white;}#sk-05c1a034-7fc9-4d16-ac06-27f71b178632 label.sk-toggleable__label {cursor: pointer;display: block;width: 100%;margin-bottom: 0;padding: 0.2em 0.3em;box-sizing: border-box;text-align: center;}#sk-05c1a034-7fc9-4d16-ac06-27f71b178632 div.sk-toggleable__content {max-height: 0;max-width: 0;overflow: hidden;text-align: left;background-color: #f0f8ff;}#sk-05c1a034-7fc9-4d16-ac06-27f71b178632 div.sk-toggleable__content pre {margin: 0.2em;color: black;border-radius: 0.25em;background-color: #f0f8ff;}#sk-05c1a034-7fc9-4d16-ac06-27f71b178632 input.sk-toggleable__control:checked~div.sk-toggleable__content {max-height: 200px;max-width: 100%;overflow: auto;}#sk-05c1a034-7fc9-4d16-ac06-27f71b178632 div.sk-estimator input.sk-toggleable__control:checked~label.sk-toggleable__label {background-color: #d4ebff;}#sk-05c1a034-7fc9-4d16-ac06-27f71b178632 div.sk-label input.sk-toggleable__control:checked~label.sk-toggleable__label {background-color: #d4ebff;}#sk-05c1a034-7fc9-4d16-ac06-27f71b178632 input.sk-hidden--visually {border: 0;clip: rect(1px 1px 1px 1px);clip: rect(1px, 1px, 1px, 1px);height: 1px;margin: -1px;overflow: hidden;padding: 0;position: absolute;width: 1px;}#sk-05c1a034-7fc9-4d16-ac06-27f71b178632 div.sk-estimator {font-family: monospace;background-color: #f0f8ff;margin: 0.25em 0.25em;border: 1px dotted black;border-radius: 0.25em;box-sizing: border-box;}#sk-05c1a034-7fc9-4d16-ac06-27f71b178632 div.sk-estimator:hover {background-color: #d4ebff;}#sk-05c1a034-7fc9-4d16-ac06-27f71b178632 div.sk-parallel-item::after {content: \"\";width: 100%;border-bottom: 1px solid gray;flex-grow: 1;}#sk-05c1a034-7fc9-4d16-ac06-27f71b178632 div.sk-label:hover label.sk-toggleable__label {background-color: #d4ebff;}#sk-05c1a034-7fc9-4d16-ac06-27f71b178632 div.sk-serial::before {content: \"\";position: absolute;border-left: 1px solid gray;box-sizing: border-box;top: 2em;bottom: 0;left: 50%;}#sk-05c1a034-7fc9-4d16-ac06-27f71b178632 div.sk-serial {display: flex;flex-direction: column;align-items: center;background-color: white;}#sk-05c1a034-7fc9-4d16-ac06-27f71b178632 div.sk-item {z-index: 1;}#sk-05c1a034-7fc9-4d16-ac06-27f71b178632 div.sk-parallel {display: flex;align-items: stretch;justify-content: center;background-color: white;}#sk-05c1a034-7fc9-4d16-ac06-27f71b178632 div.sk-parallel-item {display: flex;flex-direction: column;position: relative;background-color: white;}#sk-05c1a034-7fc9-4d16-ac06-27f71b178632 div.sk-parallel-item:first-child::after {align-self: flex-end;width: 50%;}#sk-05c1a034-7fc9-4d16-ac06-27f71b178632 div.sk-parallel-item:last-child::after {align-self: flex-start;width: 50%;}#sk-05c1a034-7fc9-4d16-ac06-27f71b178632 div.sk-parallel-item:only-child::after {width: 0;}#sk-05c1a034-7fc9-4d16-ac06-27f71b178632 div.sk-dashed-wrapped {border: 1px dashed gray;margin: 0.2em;box-sizing: border-box;padding-bottom: 0.1em;background-color: white;position: relative;}#sk-05c1a034-7fc9-4d16-ac06-27f71b178632 div.sk-label label {font-family: monospace;font-weight: bold;background-color: white;display: inline-block;line-height: 1.2em;}#sk-05c1a034-7fc9-4d16-ac06-27f71b178632 div.sk-label-container {position: relative;z-index: 2;text-align: center;}#sk-05c1a034-7fc9-4d16-ac06-27f71b178632 div.sk-container {display: inline-block;position: relative;}</style><div id=\"sk-05c1a034-7fc9-4d16-ac06-27f71b178632\" class\"sk-top-container\"><div class=\"sk-container\"><div class=\"sk-item sk-dashed-wrapped\"><div class=\"sk-label-container\"><div class=\"sk-label sk-toggleable\"><input class=\"sk-toggleable__control sk-hidden--visually\" id=\"c162acdd-99e0-4ce1-849c-593dff2bb659\" type=\"checkbox\" ><label class=\"sk-toggleable__label\" for=\"c162acdd-99e0-4ce1-849c-593dff2bb659\">ColumnTransformer</label><div class=\"sk-toggleable__content\"><pre>ColumnTransformer(transformers=[('pipeline-1',\n",
              "                                 Pipeline(steps=[('standardscaler',\n",
              "                                                  StandardScaler())]),\n",
              "                                 <sklearn.compose._column_transformer.make_column_selector object at 0x000001EAADD8BA58>),\n",
              "                                ('pipeline-2',\n",
              "                                 Pipeline(steps=[('onehotencoder',\n",
              "                                                  OneHotEncoder(handle_unknown='ignore',\n",
              "                                                                sparse=False))]),\n",
              "                                 <sklearn.compose._column_transformer.make_column_selector object at 0x000001EAAD852278>)])</pre></div></div></div><div class=\"sk-parallel\"><div class=\"sk-parallel-item\"><div class=\"sk-item\"><div class=\"sk-label-container\"><div class=\"sk-label sk-toggleable\"><input class=\"sk-toggleable__control sk-hidden--visually\" id=\"d17ac6c9-ccf2-4816-9bb1-d5e980101818\" type=\"checkbox\" ><label class=\"sk-toggleable__label\" for=\"d17ac6c9-ccf2-4816-9bb1-d5e980101818\">pipeline-1</label><div class=\"sk-toggleable__content\"><pre><sklearn.compose._column_transformer.make_column_selector object at 0x000001EAADD8BA58></pre></div></div></div><div class=\"sk-serial\"><div class=\"sk-item\"><div class=\"sk-serial\"><div class=\"sk-item\"><div class=\"sk-estimator sk-toggleable\"><input class=\"sk-toggleable__control sk-hidden--visually\" id=\"6d4904de-063c-4bfa-a872-79b84ca2dac4\" type=\"checkbox\" ><label class=\"sk-toggleable__label\" for=\"6d4904de-063c-4bfa-a872-79b84ca2dac4\">StandardScaler</label><div class=\"sk-toggleable__content\"><pre>StandardScaler()</pre></div></div></div></div></div></div></div></div><div class=\"sk-parallel-item\"><div class=\"sk-item\"><div class=\"sk-label-container\"><div class=\"sk-label sk-toggleable\"><input class=\"sk-toggleable__control sk-hidden--visually\" id=\"3ba8abc2-b924-40b6-9dee-e78c3b25f5ac\" type=\"checkbox\" ><label class=\"sk-toggleable__label\" for=\"3ba8abc2-b924-40b6-9dee-e78c3b25f5ac\">pipeline-2</label><div class=\"sk-toggleable__content\"><pre><sklearn.compose._column_transformer.make_column_selector object at 0x000001EAAD852278></pre></div></div></div><div class=\"sk-serial\"><div class=\"sk-item\"><div class=\"sk-serial\"><div class=\"sk-item\"><div class=\"sk-estimator sk-toggleable\"><input class=\"sk-toggleable__control sk-hidden--visually\" id=\"c72c4452-2a73-4600-9100-ccc36f22b488\" type=\"checkbox\" ><label class=\"sk-toggleable__label\" for=\"c72c4452-2a73-4600-9100-ccc36f22b488\">OneHotEncoder</label><div class=\"sk-toggleable__content\"><pre>OneHotEncoder(handle_unknown='ignore', sparse=False)</pre></div></div></div></div></div></div></div></div></div></div></div></div>"
            ],
            "text/plain": [
              "ColumnTransformer(transformers=[('pipeline-1',\n",
              "                                 Pipeline(steps=[('standardscaler',\n",
              "                                                  StandardScaler())]),\n",
              "                                 <sklearn.compose._column_transformer.make_column_selector object at 0x000001EAADD8BA58>),\n",
              "                                ('pipeline-2',\n",
              "                                 Pipeline(steps=[('onehotencoder',\n",
              "                                                  OneHotEncoder(handle_unknown='ignore',\n",
              "                                                                sparse=False))]),\n",
              "                                 <sklearn.compose._column_transformer.make_column_selector object at 0x000001EAAD852278>)])"
            ]
          },
          "execution_count": 66,
          "metadata": {},
          "output_type": "execute_result"
        }
      ],
      "source": [
        "# fit on train\n",
        "preprocessor.fit(X_train)"
      ]
    },
    {
      "cell_type": "code",
      "execution_count": 67,
      "metadata": {},
      "outputs": [],
      "source": [
        "# transform train and test\n",
        "X_train_processed = preprocessor.transform(X_train)\n",
        "X_test_processed = preprocessor.transform(X_test)"
      ]
    },
    {
      "cell_type": "code",
      "execution_count": 68,
      "metadata": {},
      "outputs": [
        {
          "name": "stdout",
          "output_type": "stream",
          "text": [
            "0 missing values in training data\n",
            "0 missing values in testing data\n",
            "\n",
            "\n",
            "All data in X_train_processed are float64\n",
            "All data in X_test_processed are float64\n",
            "\n",
            "\n",
            "shape of data is (6392, 30)\n",
            "\n",
            "\n"
          ]
        },
        {
          "data": {
            "text/plain": [
              "array([[ 0.81713184, -0.71277507,  1.82810922, ...,  0.        ,\n",
              "         1.        ,  0.        ],\n",
              "       [ 0.55662597, -1.29105225,  0.60336888, ...,  0.        ,\n",
              "         1.        ,  0.        ],\n",
              "       [-0.13016225,  1.81331864,  0.24454056, ...,  1.        ,\n",
              "         0.        ,  0.        ],\n",
              "       ...,\n",
              "       [ 1.11316125, -0.92052713,  1.52302674, ...,  1.        ,\n",
              "         0.        ,  0.        ],\n",
              "       [ 1.76442593, -0.2277552 , -0.38377708, ...,  1.        ,\n",
              "         0.        ,  0.        ],\n",
              "       [ 0.81713184, -0.95867683, -0.73836105, ...,  1.        ,\n",
              "         0.        ,  0.        ]])"
            ]
          },
          "execution_count": 68,
          "metadata": {},
          "output_type": "execute_result"
        }
      ],
      "source": [
        "# Comprobacion\n",
        "print(np.isnan(X_train_processed).sum().sum(), 'missing values in training data')\n",
        "print(np.isnan(X_test_processed).sum().sum(), 'missing values in testing data')\n",
        "print('\\n')\n",
        "print('All data in X_train_processed are', X_train_processed.dtype)\n",
        "print('All data in X_test_processed are', X_test_processed.dtype)\n",
        "print('\\n')\n",
        "print('shape of data is', X_train_processed.shape)\n",
        "print('\\n')\n",
        "X_train_processed"
      ]
    },
    {
      "attachments": {},
      "cell_type": "markdown",
      "metadata": {},
      "source": [
        "Modelos de prediccion"
      ]
    },
    {
      "attachments": {},
      "cell_type": "markdown",
      "metadata": {},
      "source": [
        "1) Crear un modelo de regresión lineal para predecir las ventas."
      ]
    },
    {
      "cell_type": "code",
      "execution_count": 69,
      "metadata": {},
      "outputs": [],
      "source": [
        "from sklearn.linear_model import LinearRegression"
      ]
    },
    {
      "cell_type": "code",
      "execution_count": 70,
      "metadata": {},
      "outputs": [],
      "source": [
        "# Make a linear regression instance\n",
        "reg = LinearRegression()"
      ]
    },
    {
      "cell_type": "code",
      "execution_count": 71,
      "metadata": {},
      "outputs": [
        {
          "data": {
            "text/html": [
              "<style>#sk-a8fbe6a7-74e5-4844-81b5-7e7495c9f0cf {color: black;background-color: white;}#sk-a8fbe6a7-74e5-4844-81b5-7e7495c9f0cf pre{padding: 0;}#sk-a8fbe6a7-74e5-4844-81b5-7e7495c9f0cf div.sk-toggleable {background-color: white;}#sk-a8fbe6a7-74e5-4844-81b5-7e7495c9f0cf label.sk-toggleable__label {cursor: pointer;display: block;width: 100%;margin-bottom: 0;padding: 0.2em 0.3em;box-sizing: border-box;text-align: center;}#sk-a8fbe6a7-74e5-4844-81b5-7e7495c9f0cf div.sk-toggleable__content {max-height: 0;max-width: 0;overflow: hidden;text-align: left;background-color: #f0f8ff;}#sk-a8fbe6a7-74e5-4844-81b5-7e7495c9f0cf div.sk-toggleable__content pre {margin: 0.2em;color: black;border-radius: 0.25em;background-color: #f0f8ff;}#sk-a8fbe6a7-74e5-4844-81b5-7e7495c9f0cf input.sk-toggleable__control:checked~div.sk-toggleable__content {max-height: 200px;max-width: 100%;overflow: auto;}#sk-a8fbe6a7-74e5-4844-81b5-7e7495c9f0cf div.sk-estimator input.sk-toggleable__control:checked~label.sk-toggleable__label {background-color: #d4ebff;}#sk-a8fbe6a7-74e5-4844-81b5-7e7495c9f0cf div.sk-label input.sk-toggleable__control:checked~label.sk-toggleable__label {background-color: #d4ebff;}#sk-a8fbe6a7-74e5-4844-81b5-7e7495c9f0cf input.sk-hidden--visually {border: 0;clip: rect(1px 1px 1px 1px);clip: rect(1px, 1px, 1px, 1px);height: 1px;margin: -1px;overflow: hidden;padding: 0;position: absolute;width: 1px;}#sk-a8fbe6a7-74e5-4844-81b5-7e7495c9f0cf div.sk-estimator {font-family: monospace;background-color: #f0f8ff;margin: 0.25em 0.25em;border: 1px dotted black;border-radius: 0.25em;box-sizing: border-box;}#sk-a8fbe6a7-74e5-4844-81b5-7e7495c9f0cf div.sk-estimator:hover {background-color: #d4ebff;}#sk-a8fbe6a7-74e5-4844-81b5-7e7495c9f0cf div.sk-parallel-item::after {content: \"\";width: 100%;border-bottom: 1px solid gray;flex-grow: 1;}#sk-a8fbe6a7-74e5-4844-81b5-7e7495c9f0cf div.sk-label:hover label.sk-toggleable__label {background-color: #d4ebff;}#sk-a8fbe6a7-74e5-4844-81b5-7e7495c9f0cf div.sk-serial::before {content: \"\";position: absolute;border-left: 1px solid gray;box-sizing: border-box;top: 2em;bottom: 0;left: 50%;}#sk-a8fbe6a7-74e5-4844-81b5-7e7495c9f0cf div.sk-serial {display: flex;flex-direction: column;align-items: center;background-color: white;}#sk-a8fbe6a7-74e5-4844-81b5-7e7495c9f0cf div.sk-item {z-index: 1;}#sk-a8fbe6a7-74e5-4844-81b5-7e7495c9f0cf div.sk-parallel {display: flex;align-items: stretch;justify-content: center;background-color: white;}#sk-a8fbe6a7-74e5-4844-81b5-7e7495c9f0cf div.sk-parallel-item {display: flex;flex-direction: column;position: relative;background-color: white;}#sk-a8fbe6a7-74e5-4844-81b5-7e7495c9f0cf div.sk-parallel-item:first-child::after {align-self: flex-end;width: 50%;}#sk-a8fbe6a7-74e5-4844-81b5-7e7495c9f0cf div.sk-parallel-item:last-child::after {align-self: flex-start;width: 50%;}#sk-a8fbe6a7-74e5-4844-81b5-7e7495c9f0cf div.sk-parallel-item:only-child::after {width: 0;}#sk-a8fbe6a7-74e5-4844-81b5-7e7495c9f0cf div.sk-dashed-wrapped {border: 1px dashed gray;margin: 0.2em;box-sizing: border-box;padding-bottom: 0.1em;background-color: white;position: relative;}#sk-a8fbe6a7-74e5-4844-81b5-7e7495c9f0cf div.sk-label label {font-family: monospace;font-weight: bold;background-color: white;display: inline-block;line-height: 1.2em;}#sk-a8fbe6a7-74e5-4844-81b5-7e7495c9f0cf div.sk-label-container {position: relative;z-index: 2;text-align: center;}#sk-a8fbe6a7-74e5-4844-81b5-7e7495c9f0cf div.sk-container {display: inline-block;position: relative;}</style><div id=\"sk-a8fbe6a7-74e5-4844-81b5-7e7495c9f0cf\" class\"sk-top-container\"><div class=\"sk-container\"><div class=\"sk-item\"><div class=\"sk-estimator sk-toggleable\"><input class=\"sk-toggleable__control sk-hidden--visually\" id=\"329b4907-3f7d-4ed1-9074-ba4700f324f0\" type=\"checkbox\" checked><label class=\"sk-toggleable__label\" for=\"329b4907-3f7d-4ed1-9074-ba4700f324f0\">LinearRegression</label><div class=\"sk-toggleable__content\"><pre>LinearRegression()</pre></div></div></div></div></div>"
            ],
            "text/plain": [
              "LinearRegression()"
            ]
          },
          "execution_count": 71,
          "metadata": {},
          "output_type": "execute_result"
        }
      ],
      "source": [
        "reg.fit(X_train_processed,y_train)"
      ]
    },
    {
      "cell_type": "code",
      "execution_count": 72,
      "metadata": {},
      "outputs": [],
      "source": [
        "import numpy as np\n",
        "from sklearn.metrics import r2_score\n",
        "from sklearn.metrics import mean_absolute_error\n",
        "from sklearn.metrics import mean_squared_error"
      ]
    },
    {
      "cell_type": "code",
      "execution_count": 73,
      "metadata": {},
      "outputs": [
        {
          "name": "stdout",
          "output_type": "stream",
          "text": [
            "0.5589842174136409\n",
            "0.5657665273220728\n"
          ]
        }
      ],
      "source": [
        "\n",
        "#Coeficiente de determinación (r^2): \n",
        "train_score = reg.score(X_train_processed, y_train)\n",
        "test_score = reg.score(X_test_processed, y_test)\n",
        "print(train_score)\n",
        "print(test_score)"
      ]
    },
    {
      "cell_type": "code",
      "execution_count": 74,
      "metadata": {},
      "outputs": [],
      "source": [
        "# Obtengan las predicciones del conjunto de entrenamiento\n",
        "train_preds = reg.predict(X_train_processed)\n",
        "# Obtengan las predicciones del conjunto de prueba\n",
        "test_preds = reg.predict(X_test_processed)"
      ]
    },
    {
      "cell_type": "code",
      "execution_count": 75,
      "metadata": {},
      "outputs": [
        {
          "name": "stdout",
          "output_type": "stream",
          "text": [
            "1142.438914586441\n",
            "1094.5502677921252\n"
          ]
        }
      ],
      "source": [
        "# Raíz del error cuadrático medio (RECM): \n",
        "rmse_train = np.sqrt(mean_squared_error(y_train, train_preds))\n",
        "rmse_test = np.sqrt(mean_squared_error(y_test, test_preds))\n",
        "print(rmse_train)\n",
        "print(rmse_test)"
      ]
    },
    {
      "cell_type": "code",
      "execution_count": 76,
      "metadata": {},
      "outputs": [
        {
          "name": "stdout",
          "output_type": "stream",
          "text": [
            "1305166.673561445\n",
            "1198040.2887238127\n"
          ]
        }
      ],
      "source": [
        "# error cuadrático medio (ECM). \n",
        "mse_train = mean_squared_error(y_train, train_preds)\n",
        "mse_test = mean_squared_error(y_test, test_preds)\n",
        "print(mse_train)\n",
        "print(mse_test)\n"
      ]
    },
    {
      "cell_type": "code",
      "execution_count": 77,
      "metadata": {},
      "outputs": [
        {
          "name": "stdout",
          "output_type": "stream",
          "text": [
            "848.9112183354193\n",
            "806.3154415767245\n"
          ]
        }
      ],
      "source": [
        "#Error absoluto medio (EAM): \n",
        "mae_train = mean_absolute_error(y_train, train_preds)\n",
        "mae_test = mean_absolute_error(y_test, test_preds)\n",
        "print(mae_train)\n",
        "print(mae_test)"
      ]
    },
    {
      "attachments": {},
      "cell_type": "markdown",
      "metadata": {},
      "source": [
        "2) Crear un modelo de árbol de regresión para predecir las ventas."
      ]
    },
    {
      "cell_type": "code",
      "execution_count": 78,
      "metadata": {},
      "outputs": [],
      "source": [
        "# Esto ya se importó antes, así que lo comentamos\n",
        "from sklearn.tree import DecisionTreeClassifier\n",
        "from sklearn.model_selection import train_test_split\n",
        "from sklearn.tree import DecisionTreeRegressor"
      ]
    },
    {
      "cell_type": "code",
      "execution_count": 79,
      "metadata": {},
      "outputs": [],
      "source": [
        "dec_tree = DecisionTreeRegressor(random_state = 42)"
      ]
    },
    {
      "cell_type": "code",
      "execution_count": 80,
      "metadata": {},
      "outputs": [
        {
          "data": {
            "text/html": [
              "<style>#sk-94f54c2d-eb9a-44be-9e86-6dfaca651829 {color: black;background-color: white;}#sk-94f54c2d-eb9a-44be-9e86-6dfaca651829 pre{padding: 0;}#sk-94f54c2d-eb9a-44be-9e86-6dfaca651829 div.sk-toggleable {background-color: white;}#sk-94f54c2d-eb9a-44be-9e86-6dfaca651829 label.sk-toggleable__label {cursor: pointer;display: block;width: 100%;margin-bottom: 0;padding: 0.2em 0.3em;box-sizing: border-box;text-align: center;}#sk-94f54c2d-eb9a-44be-9e86-6dfaca651829 div.sk-toggleable__content {max-height: 0;max-width: 0;overflow: hidden;text-align: left;background-color: #f0f8ff;}#sk-94f54c2d-eb9a-44be-9e86-6dfaca651829 div.sk-toggleable__content pre {margin: 0.2em;color: black;border-radius: 0.25em;background-color: #f0f8ff;}#sk-94f54c2d-eb9a-44be-9e86-6dfaca651829 input.sk-toggleable__control:checked~div.sk-toggleable__content {max-height: 200px;max-width: 100%;overflow: auto;}#sk-94f54c2d-eb9a-44be-9e86-6dfaca651829 div.sk-estimator input.sk-toggleable__control:checked~label.sk-toggleable__label {background-color: #d4ebff;}#sk-94f54c2d-eb9a-44be-9e86-6dfaca651829 div.sk-label input.sk-toggleable__control:checked~label.sk-toggleable__label {background-color: #d4ebff;}#sk-94f54c2d-eb9a-44be-9e86-6dfaca651829 input.sk-hidden--visually {border: 0;clip: rect(1px 1px 1px 1px);clip: rect(1px, 1px, 1px, 1px);height: 1px;margin: -1px;overflow: hidden;padding: 0;position: absolute;width: 1px;}#sk-94f54c2d-eb9a-44be-9e86-6dfaca651829 div.sk-estimator {font-family: monospace;background-color: #f0f8ff;margin: 0.25em 0.25em;border: 1px dotted black;border-radius: 0.25em;box-sizing: border-box;}#sk-94f54c2d-eb9a-44be-9e86-6dfaca651829 div.sk-estimator:hover {background-color: #d4ebff;}#sk-94f54c2d-eb9a-44be-9e86-6dfaca651829 div.sk-parallel-item::after {content: \"\";width: 100%;border-bottom: 1px solid gray;flex-grow: 1;}#sk-94f54c2d-eb9a-44be-9e86-6dfaca651829 div.sk-label:hover label.sk-toggleable__label {background-color: #d4ebff;}#sk-94f54c2d-eb9a-44be-9e86-6dfaca651829 div.sk-serial::before {content: \"\";position: absolute;border-left: 1px solid gray;box-sizing: border-box;top: 2em;bottom: 0;left: 50%;}#sk-94f54c2d-eb9a-44be-9e86-6dfaca651829 div.sk-serial {display: flex;flex-direction: column;align-items: center;background-color: white;}#sk-94f54c2d-eb9a-44be-9e86-6dfaca651829 div.sk-item {z-index: 1;}#sk-94f54c2d-eb9a-44be-9e86-6dfaca651829 div.sk-parallel {display: flex;align-items: stretch;justify-content: center;background-color: white;}#sk-94f54c2d-eb9a-44be-9e86-6dfaca651829 div.sk-parallel-item {display: flex;flex-direction: column;position: relative;background-color: white;}#sk-94f54c2d-eb9a-44be-9e86-6dfaca651829 div.sk-parallel-item:first-child::after {align-self: flex-end;width: 50%;}#sk-94f54c2d-eb9a-44be-9e86-6dfaca651829 div.sk-parallel-item:last-child::after {align-self: flex-start;width: 50%;}#sk-94f54c2d-eb9a-44be-9e86-6dfaca651829 div.sk-parallel-item:only-child::after {width: 0;}#sk-94f54c2d-eb9a-44be-9e86-6dfaca651829 div.sk-dashed-wrapped {border: 1px dashed gray;margin: 0.2em;box-sizing: border-box;padding-bottom: 0.1em;background-color: white;position: relative;}#sk-94f54c2d-eb9a-44be-9e86-6dfaca651829 div.sk-label label {font-family: monospace;font-weight: bold;background-color: white;display: inline-block;line-height: 1.2em;}#sk-94f54c2d-eb9a-44be-9e86-6dfaca651829 div.sk-label-container {position: relative;z-index: 2;text-align: center;}#sk-94f54c2d-eb9a-44be-9e86-6dfaca651829 div.sk-container {display: inline-block;position: relative;}</style><div id=\"sk-94f54c2d-eb9a-44be-9e86-6dfaca651829\" class\"sk-top-container\"><div class=\"sk-container\"><div class=\"sk-item\"><div class=\"sk-estimator sk-toggleable\"><input class=\"sk-toggleable__control sk-hidden--visually\" id=\"937350ee-0a19-4932-a755-01973841f92c\" type=\"checkbox\" checked><label class=\"sk-toggleable__label\" for=\"937350ee-0a19-4932-a755-01973841f92c\">DecisionTreeRegressor</label><div class=\"sk-toggleable__content\"><pre>DecisionTreeRegressor(random_state=42)</pre></div></div></div></div></div>"
            ],
            "text/plain": [
              "DecisionTreeRegressor(random_state=42)"
            ]
          },
          "execution_count": 80,
          "metadata": {},
          "output_type": "execute_result"
        }
      ],
      "source": [
        "dec_tree.fit(X_train_processed, y_train)"
      ]
    },
    {
      "cell_type": "code",
      "execution_count": 81,
      "metadata": {},
      "outputs": [],
      "source": [
        "train_preds_arbol = dec_tree.predict(X_train_processed)\n",
        "test_preds_arbol = dec_tree.predict(X_test_processed)"
      ]
    },
    {
      "cell_type": "code",
      "execution_count": 82,
      "metadata": {},
      "outputs": [
        {
          "name": "stdout",
          "output_type": "stream",
          "text": [
            "1.0\n",
            "0.22559868865892474\n"
          ]
        }
      ],
      "source": [
        "# r^2\n",
        "train_score = dec_tree.score(X_train_processed, y_train)\n",
        "test_score = dec_tree.score(X_test_processed, y_test)\n",
        "print(train_score)\n",
        "print(test_score)"
      ]
    },
    {
      "cell_type": "code",
      "execution_count": 83,
      "metadata": {},
      "outputs": [
        {
          "name": "stdout",
          "output_type": "stream",
          "text": [
            "0.0\n",
            "1461.6961481914482\n"
          ]
        }
      ],
      "source": [
        "rmse_train = np.sqrt(mean_squared_error(y_train, train_preds_arbol))\n",
        "rmse_test = np.sqrt(mean_squared_error(y_test, test_preds_arbol))\n",
        "print(rmse_train)\n",
        "print(rmse_test)"
      ]
    },
    {
      "attachments": {},
      "cell_type": "markdown",
      "metadata": {},
      "source": [
        "3) Modelo a implementar."
      ]
    },
    {
      "attachments": {},
      "cell_type": "markdown",
      "metadata": {},
      "source": [
        "Definitivamene el modelo recomendado es el de la regresion linear, ya que este proporciona un valor de Coeficiente de determinación de 0.5589842174136409 para el entrenamiento y 0.5657665273220728 para la prueba. Tambien la Raíz del error cuadrático medio para el entrenamiento y la prueba es 1142.438914586441 y 1094.5502677921252 respectivamente. No Obstante se concluye con que el data set proporcionado es inconsistente, por lo que cuando se quiera utilizar el modelo para predecir los resultados no seran positivos. Esta conclusion se obtiene viendo los resultados del coeficiente de determinacion y el error cuadratico medio. "
      ]
    },
    {
      "cell_type": "code",
      "execution_count": 84,
      "metadata": {},
      "outputs": [
        {
          "name": "stdout",
          "output_type": "stream",
          "text": [
            "<class 'pandas.core.frame.DataFrame'>\n",
            "RangeIndex: 8523 entries, 0 to 8522\n",
            "Data columns (total 13 columns):\n",
            " #   Column                     Non-Null Count  Dtype  \n",
            "---  ------                     --------------  -----  \n",
            " 0   Item_Identifier            8523 non-null   object \n",
            " 1   Item_Weight                8523 non-null   float64\n",
            " 2   Item_Fat_Content           8523 non-null   object \n",
            " 3   Item_Visibility            8523 non-null   float64\n",
            " 4   Item_Type                  8523 non-null   object \n",
            " 5   Item_MRP                   8523 non-null   float64\n",
            " 6   Outlet_Identifier          8523 non-null   object \n",
            " 7   Outlet_Establishment_Year  8523 non-null   int64  \n",
            " 8   Outlet_Size                8523 non-null   object \n",
            " 9   Outlet_Location_Type       8523 non-null   object \n",
            " 10  Outlet_Type                8523 non-null   object \n",
            " 11  Item_Outlet_Sales          8523 non-null   float64\n",
            " 12  Sold_Units                 8523 non-null   float64\n",
            "dtypes: float64(5), int64(1), object(7)\n",
            "memory usage: 865.7+ KB\n"
          ]
        }
      ],
      "source": [
        "df2.info()"
      ]
    }
  ],
  "metadata": {
    "colab": {
      "provenance": []
    },
    "kernelspec": {
      "display_name": "Python 3.6.4 64-bit",
      "language": "python",
      "name": "python3"
    },
    "language_info": {
      "codemirror_mode": {
        "name": "ipython",
        "version": 3
      },
      "file_extension": ".py",
      "mimetype": "text/x-python",
      "name": "python",
      "nbconvert_exporter": "python",
      "pygments_lexer": "ipython3",
      "version": "3.6.4"
    },
    "vscode": {
      "interpreter": {
        "hash": "b397f95bef55022d8a920d3324b066227adbc996278ad6fc93c42bc0fb1b33bd"
      }
    }
  },
  "nbformat": 4,
  "nbformat_minor": 0
}
