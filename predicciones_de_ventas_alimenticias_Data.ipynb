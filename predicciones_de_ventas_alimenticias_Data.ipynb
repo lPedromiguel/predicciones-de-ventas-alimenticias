{
  "cells": [
    {
      "cell_type": "code",
      "execution_count": 14,
      "metadata": {
        "id": "S0CU9ZNl4tuB"
      },
      "outputs": [],
      "source": [
        "import pandas as pd"
      ]
    },
    {
      "cell_type": "code",
      "execution_count": 15,
      "metadata": {
        "id": "-hOxarit6HgI"
      },
      "outputs": [],
      "source": [
        "import io\n",
        "df2 = pd.read_csv(r'C:\\Users\\pedro\\Desktop\\Data Science\\python_intro\\Base_de_Datos_Proyecto1\\sales_predictions.csv')"
      ]
    },
    {
      "cell_type": "code",
      "execution_count": 16,
      "metadata": {
        "colab": {
          "base_uri": "https://localhost:8080/",
          "height": 357
        },
        "id": "g6IIDZSj-w29",
        "outputId": "8c45c650-ba77-4c8b-9544-f0af17fbf7c0"
      },
      "outputs": [
        {
          "data": {
            "text/html": [
              "<div>\n",
              "<style scoped>\n",
              "    .dataframe tbody tr th:only-of-type {\n",
              "        vertical-align: middle;\n",
              "    }\n",
              "\n",
              "    .dataframe tbody tr th {\n",
              "        vertical-align: top;\n",
              "    }\n",
              "\n",
              "    .dataframe thead th {\n",
              "        text-align: right;\n",
              "    }\n",
              "</style>\n",
              "<table border=\"1\" class=\"dataframe\">\n",
              "  <thead>\n",
              "    <tr style=\"text-align: right;\">\n",
              "      <th></th>\n",
              "      <th>Item_Identifier</th>\n",
              "      <th>Item_Weight</th>\n",
              "      <th>Item_Fat_Content</th>\n",
              "      <th>Item_Visibility</th>\n",
              "      <th>Item_Type</th>\n",
              "      <th>Item_MRP</th>\n",
              "      <th>Outlet_Identifier</th>\n",
              "      <th>Outlet_Establishment_Year</th>\n",
              "      <th>Outlet_Size</th>\n",
              "      <th>Outlet_Location_Type</th>\n",
              "      <th>Outlet_Type</th>\n",
              "      <th>Item_Outlet_Sales</th>\n",
              "    </tr>\n",
              "  </thead>\n",
              "  <tbody>\n",
              "    <tr>\n",
              "      <th>0</th>\n",
              "      <td>FDA15</td>\n",
              "      <td>9.30</td>\n",
              "      <td>Low Fat</td>\n",
              "      <td>0.016047</td>\n",
              "      <td>Dairy</td>\n",
              "      <td>249.8092</td>\n",
              "      <td>OUT049</td>\n",
              "      <td>1999</td>\n",
              "      <td>Medium</td>\n",
              "      <td>Tier 1</td>\n",
              "      <td>Supermarket Type1</td>\n",
              "      <td>3735.1380</td>\n",
              "    </tr>\n",
              "    <tr>\n",
              "      <th>1</th>\n",
              "      <td>DRC01</td>\n",
              "      <td>5.92</td>\n",
              "      <td>Regular</td>\n",
              "      <td>0.019278</td>\n",
              "      <td>Soft Drinks</td>\n",
              "      <td>48.2692</td>\n",
              "      <td>OUT018</td>\n",
              "      <td>2009</td>\n",
              "      <td>Medium</td>\n",
              "      <td>Tier 3</td>\n",
              "      <td>Supermarket Type2</td>\n",
              "      <td>443.4228</td>\n",
              "    </tr>\n",
              "    <tr>\n",
              "      <th>2</th>\n",
              "      <td>FDN15</td>\n",
              "      <td>17.50</td>\n",
              "      <td>Low Fat</td>\n",
              "      <td>0.016760</td>\n",
              "      <td>Meat</td>\n",
              "      <td>141.6180</td>\n",
              "      <td>OUT049</td>\n",
              "      <td>1999</td>\n",
              "      <td>Medium</td>\n",
              "      <td>Tier 1</td>\n",
              "      <td>Supermarket Type1</td>\n",
              "      <td>2097.2700</td>\n",
              "    </tr>\n",
              "    <tr>\n",
              "      <th>3</th>\n",
              "      <td>FDX07</td>\n",
              "      <td>19.20</td>\n",
              "      <td>Regular</td>\n",
              "      <td>0.000000</td>\n",
              "      <td>Fruits and Vegetables</td>\n",
              "      <td>182.0950</td>\n",
              "      <td>OUT010</td>\n",
              "      <td>1998</td>\n",
              "      <td>NaN</td>\n",
              "      <td>Tier 3</td>\n",
              "      <td>Grocery Store</td>\n",
              "      <td>732.3800</td>\n",
              "    </tr>\n",
              "    <tr>\n",
              "      <th>4</th>\n",
              "      <td>NCD19</td>\n",
              "      <td>8.93</td>\n",
              "      <td>Low Fat</td>\n",
              "      <td>0.000000</td>\n",
              "      <td>Household</td>\n",
              "      <td>53.8614</td>\n",
              "      <td>OUT013</td>\n",
              "      <td>1987</td>\n",
              "      <td>High</td>\n",
              "      <td>Tier 3</td>\n",
              "      <td>Supermarket Type1</td>\n",
              "      <td>994.7052</td>\n",
              "    </tr>\n",
              "  </tbody>\n",
              "</table>\n",
              "</div>"
            ],
            "text/plain": [
              "  Item_Identifier  Item_Weight Item_Fat_Content  Item_Visibility  \\\n",
              "0           FDA15         9.30          Low Fat         0.016047   \n",
              "1           DRC01         5.92          Regular         0.019278   \n",
              "2           FDN15        17.50          Low Fat         0.016760   \n",
              "3           FDX07        19.20          Regular         0.000000   \n",
              "4           NCD19         8.93          Low Fat         0.000000   \n",
              "\n",
              "               Item_Type  Item_MRP Outlet_Identifier  \\\n",
              "0                  Dairy  249.8092            OUT049   \n",
              "1            Soft Drinks   48.2692            OUT018   \n",
              "2                   Meat  141.6180            OUT049   \n",
              "3  Fruits and Vegetables  182.0950            OUT010   \n",
              "4              Household   53.8614            OUT013   \n",
              "\n",
              "   Outlet_Establishment_Year Outlet_Size Outlet_Location_Type  \\\n",
              "0                       1999      Medium               Tier 1   \n",
              "1                       2009      Medium               Tier 3   \n",
              "2                       1999      Medium               Tier 1   \n",
              "3                       1998         NaN               Tier 3   \n",
              "4                       1987        High               Tier 3   \n",
              "\n",
              "         Outlet_Type  Item_Outlet_Sales  \n",
              "0  Supermarket Type1          3735.1380  \n",
              "1  Supermarket Type2           443.4228  \n",
              "2  Supermarket Type1          2097.2700  \n",
              "3      Grocery Store           732.3800  \n",
              "4  Supermarket Type1           994.7052  "
            ]
          },
          "execution_count": 16,
          "metadata": {},
          "output_type": "execute_result"
        }
      ],
      "source": [
        "df2.head()"
      ]
    },
    {
      "cell_type": "markdown",
      "metadata": {
        "id": "0g5N8pEKdhRA"
      },
      "source": [
        "1) ¿Cuántas filas y columnas?"
      ]
    },
    {
      "cell_type": "code",
      "execution_count": 17,
      "metadata": {
        "colab": {
          "base_uri": "https://localhost:8080/"
        },
        "id": "j5K2PYsgdj_2",
        "outputId": "d4b88adb-9d81-4f0e-8ae8-bd4f63796041"
      },
      "outputs": [
        {
          "data": {
            "text/plain": [
              "(8523, 12)"
            ]
          },
          "execution_count": 17,
          "metadata": {},
          "output_type": "execute_result"
        }
      ],
      "source": [
        "df2.shape"
      ]
    },
    {
      "cell_type": "markdown",
      "metadata": {
        "id": "f1CzP0NSd8Ir"
      },
      "source": [
        "Filas, Colummnas\\\n",
        "8523, 12"
      ]
    },
    {
      "cell_type": "markdown",
      "metadata": {
        "id": "oTCG3Hn_d5pI"
      },
      "source": [
        "2) ¿Cuáles son los tipos de datos en cada variable?"
      ]
    },
    {
      "cell_type": "code",
      "execution_count": 18,
      "metadata": {
        "colab": {
          "base_uri": "https://localhost:8080/"
        },
        "id": "tM8RxWbFd6aR",
        "outputId": "c88456f2-376c-4aa2-cb41-ddaecba94a7d"
      },
      "outputs": [
        {
          "data": {
            "text/plain": [
              "Item_Identifier               object\n",
              "Item_Weight                  float64\n",
              "Item_Fat_Content              object\n",
              "Item_Visibility              float64\n",
              "Item_Type                     object\n",
              "Item_MRP                     float64\n",
              "Outlet_Identifier             object\n",
              "Outlet_Establishment_Year      int64\n",
              "Outlet_Size                   object\n",
              "Outlet_Location_Type          object\n",
              "Outlet_Type                   object\n",
              "Item_Outlet_Sales            float64\n",
              "dtype: object"
            ]
          },
          "execution_count": 18,
          "metadata": {},
          "output_type": "execute_result"
        }
      ],
      "source": [
        "df2.dtypes"
      ]
    },
    {
      "cell_type": "markdown",
      "metadata": {
        "id": "zI2cJRize78j"
      },
      "source": [
        "3) ¿Hay duplicados? Si es el caso, eliminen algunos duplicados."
      ]
    },
    {
      "cell_type": "code",
      "execution_count": 19,
      "metadata": {
        "colab": {
          "base_uri": "https://localhost:8080/"
        },
        "id": "FCUGSJ8te8eE",
        "outputId": "2e109444-87b3-42ce-ef81-e2ee62c52748"
      },
      "outputs": [
        {
          "data": {
            "text/plain": [
              "0       False\n",
              "1       False\n",
              "2       False\n",
              "3       False\n",
              "4       False\n",
              "        ...  \n",
              "8518    False\n",
              "8519    False\n",
              "8520    False\n",
              "8521    False\n",
              "8522    False\n",
              "Length: 8523, dtype: bool"
            ]
          },
          "execution_count": 19,
          "metadata": {},
          "output_type": "execute_result"
        }
      ],
      "source": [
        "df2.duplicated()"
      ]
    },
    {
      "cell_type": "code",
      "execution_count": 20,
      "metadata": {
        "colab": {
          "base_uri": "https://localhost:8080/"
        },
        "id": "mgSg1OPkfYol",
        "outputId": "a92bbfbb-fc7f-43f2-dfa5-99ef3ce3e38a"
      },
      "outputs": [
        {
          "data": {
            "text/plain": [
              "0"
            ]
          },
          "execution_count": 20,
          "metadata": {},
          "output_type": "execute_result"
        }
      ],
      "source": [
        "df2.duplicated().sum()"
      ]
    },
    {
      "cell_type": "markdown",
      "metadata": {
        "id": "IB0YsGwYfgfN"
      },
      "source": [
        "No hay duplicados."
      ]
    },
    {
      "cell_type": "markdown",
      "metadata": {
        "id": "y1Jchn6TfmNl"
      },
      "source": [
        "4) Identifiquen los valores faltantes."
      ]
    },
    {
      "cell_type": "code",
      "execution_count": 21,
      "metadata": {
        "colab": {
          "base_uri": "https://localhost:8080/"
        },
        "id": "d_vs3bVkfmmI",
        "outputId": "09b35fbe-6ce9-45b5-dc40-7eec4311aa65"
      },
      "outputs": [
        {
          "data": {
            "text/plain": [
              "Item_Identifier                 0\n",
              "Item_Weight                  1463\n",
              "Item_Fat_Content                0\n",
              "Item_Visibility                 0\n",
              "Item_Type                       0\n",
              "Item_MRP                        0\n",
              "Outlet_Identifier               0\n",
              "Outlet_Establishment_Year       0\n",
              "Outlet_Size                  2410\n",
              "Outlet_Location_Type            0\n",
              "Outlet_Type                     0\n",
              "Item_Outlet_Sales               0\n",
              "dtype: int64"
            ]
          },
          "execution_count": 21,
          "metadata": {},
          "output_type": "execute_result"
        }
      ],
      "source": [
        "df2.isna().sum()"
      ]
    },
    {
      "cell_type": "markdown",
      "metadata": {
        "id": "yhoglSaAgSsY"
      },
      "source": [
        "5)Decide cómo abordar los valores faltantes y cómo hacerlo. (Esto requiere sus criterios, así que expliquen su elección)."
      ]
    },
    {
      "cell_type": "code",
      "execution_count": 22,
      "metadata": {
        "colab": {
          "base_uri": "https://localhost:8080/",
          "height": 661
        },
        "id": "_1Kq4IGapFno",
        "outputId": "c5396596-fd8d-4120-b9e0-2c8507589d92"
      },
      "outputs": [
        {
          "data": {
            "text/html": [
              "<div>\n",
              "<style scoped>\n",
              "    .dataframe tbody tr th:only-of-type {\n",
              "        vertical-align: middle;\n",
              "    }\n",
              "\n",
              "    .dataframe tbody tr th {\n",
              "        vertical-align: top;\n",
              "    }\n",
              "\n",
              "    .dataframe thead th {\n",
              "        text-align: right;\n",
              "    }\n",
              "</style>\n",
              "<table border=\"1\" class=\"dataframe\">\n",
              "  <thead>\n",
              "    <tr style=\"text-align: right;\">\n",
              "      <th></th>\n",
              "      <th>Item_Identifier</th>\n",
              "      <th>Item_Weight</th>\n",
              "      <th>Item_Fat_Content</th>\n",
              "      <th>Item_Visibility</th>\n",
              "      <th>Item_Type</th>\n",
              "      <th>Item_MRP</th>\n",
              "      <th>Outlet_Identifier</th>\n",
              "      <th>Outlet_Establishment_Year</th>\n",
              "      <th>Outlet_Size</th>\n",
              "      <th>Outlet_Location_Type</th>\n",
              "      <th>Outlet_Type</th>\n",
              "      <th>Item_Outlet_Sales</th>\n",
              "    </tr>\n",
              "  </thead>\n",
              "  <tbody>\n",
              "    <tr>\n",
              "      <th>0</th>\n",
              "      <td>FDA15</td>\n",
              "      <td>9.300</td>\n",
              "      <td>Low Fat</td>\n",
              "      <td>0.016047</td>\n",
              "      <td>Dairy</td>\n",
              "      <td>249.8092</td>\n",
              "      <td>OUT049</td>\n",
              "      <td>1999</td>\n",
              "      <td>Medium</td>\n",
              "      <td>Tier 1</td>\n",
              "      <td>Supermarket Type1</td>\n",
              "      <td>3735.1380</td>\n",
              "    </tr>\n",
              "    <tr>\n",
              "      <th>1</th>\n",
              "      <td>DRC01</td>\n",
              "      <td>5.920</td>\n",
              "      <td>Regular</td>\n",
              "      <td>0.019278</td>\n",
              "      <td>Soft Drinks</td>\n",
              "      <td>48.2692</td>\n",
              "      <td>OUT018</td>\n",
              "      <td>2009</td>\n",
              "      <td>Medium</td>\n",
              "      <td>Tier 3</td>\n",
              "      <td>Supermarket Type2</td>\n",
              "      <td>443.4228</td>\n",
              "    </tr>\n",
              "    <tr>\n",
              "      <th>2</th>\n",
              "      <td>FDN15</td>\n",
              "      <td>17.500</td>\n",
              "      <td>Low Fat</td>\n",
              "      <td>0.016760</td>\n",
              "      <td>Meat</td>\n",
              "      <td>141.6180</td>\n",
              "      <td>OUT049</td>\n",
              "      <td>1999</td>\n",
              "      <td>Medium</td>\n",
              "      <td>Tier 1</td>\n",
              "      <td>Supermarket Type1</td>\n",
              "      <td>2097.2700</td>\n",
              "    </tr>\n",
              "    <tr>\n",
              "      <th>3</th>\n",
              "      <td>FDX07</td>\n",
              "      <td>19.200</td>\n",
              "      <td>Regular</td>\n",
              "      <td>0.000000</td>\n",
              "      <td>Fruits and Vegetables</td>\n",
              "      <td>182.0950</td>\n",
              "      <td>OUT010</td>\n",
              "      <td>1998</td>\n",
              "      <td>NaN</td>\n",
              "      <td>Tier 3</td>\n",
              "      <td>Grocery Store</td>\n",
              "      <td>732.3800</td>\n",
              "    </tr>\n",
              "    <tr>\n",
              "      <th>4</th>\n",
              "      <td>NCD19</td>\n",
              "      <td>8.930</td>\n",
              "      <td>Low Fat</td>\n",
              "      <td>0.000000</td>\n",
              "      <td>Household</td>\n",
              "      <td>53.8614</td>\n",
              "      <td>OUT013</td>\n",
              "      <td>1987</td>\n",
              "      <td>High</td>\n",
              "      <td>Tier 3</td>\n",
              "      <td>Supermarket Type1</td>\n",
              "      <td>994.7052</td>\n",
              "    </tr>\n",
              "    <tr>\n",
              "      <th>...</th>\n",
              "      <td>...</td>\n",
              "      <td>...</td>\n",
              "      <td>...</td>\n",
              "      <td>...</td>\n",
              "      <td>...</td>\n",
              "      <td>...</td>\n",
              "      <td>...</td>\n",
              "      <td>...</td>\n",
              "      <td>...</td>\n",
              "      <td>...</td>\n",
              "      <td>...</td>\n",
              "      <td>...</td>\n",
              "    </tr>\n",
              "    <tr>\n",
              "      <th>8518</th>\n",
              "      <td>FDF22</td>\n",
              "      <td>6.865</td>\n",
              "      <td>Low Fat</td>\n",
              "      <td>0.056783</td>\n",
              "      <td>Snack Foods</td>\n",
              "      <td>214.5218</td>\n",
              "      <td>OUT013</td>\n",
              "      <td>1987</td>\n",
              "      <td>High</td>\n",
              "      <td>Tier 3</td>\n",
              "      <td>Supermarket Type1</td>\n",
              "      <td>2778.3834</td>\n",
              "    </tr>\n",
              "    <tr>\n",
              "      <th>8519</th>\n",
              "      <td>FDS36</td>\n",
              "      <td>8.380</td>\n",
              "      <td>Regular</td>\n",
              "      <td>0.046982</td>\n",
              "      <td>Baking Goods</td>\n",
              "      <td>108.1570</td>\n",
              "      <td>OUT045</td>\n",
              "      <td>2002</td>\n",
              "      <td>NaN</td>\n",
              "      <td>Tier 2</td>\n",
              "      <td>Supermarket Type1</td>\n",
              "      <td>549.2850</td>\n",
              "    </tr>\n",
              "    <tr>\n",
              "      <th>8520</th>\n",
              "      <td>NCJ29</td>\n",
              "      <td>10.600</td>\n",
              "      <td>Low Fat</td>\n",
              "      <td>0.035186</td>\n",
              "      <td>Health and Hygiene</td>\n",
              "      <td>85.1224</td>\n",
              "      <td>OUT035</td>\n",
              "      <td>2004</td>\n",
              "      <td>Small</td>\n",
              "      <td>Tier 2</td>\n",
              "      <td>Supermarket Type1</td>\n",
              "      <td>1193.1136</td>\n",
              "    </tr>\n",
              "    <tr>\n",
              "      <th>8521</th>\n",
              "      <td>FDN46</td>\n",
              "      <td>7.210</td>\n",
              "      <td>Regular</td>\n",
              "      <td>0.145221</td>\n",
              "      <td>Snack Foods</td>\n",
              "      <td>103.1332</td>\n",
              "      <td>OUT018</td>\n",
              "      <td>2009</td>\n",
              "      <td>Medium</td>\n",
              "      <td>Tier 3</td>\n",
              "      <td>Supermarket Type2</td>\n",
              "      <td>1845.5976</td>\n",
              "    </tr>\n",
              "    <tr>\n",
              "      <th>8522</th>\n",
              "      <td>DRG01</td>\n",
              "      <td>14.800</td>\n",
              "      <td>Low Fat</td>\n",
              "      <td>0.044878</td>\n",
              "      <td>Soft Drinks</td>\n",
              "      <td>75.4670</td>\n",
              "      <td>OUT046</td>\n",
              "      <td>1997</td>\n",
              "      <td>Small</td>\n",
              "      <td>Tier 1</td>\n",
              "      <td>Supermarket Type1</td>\n",
              "      <td>765.6700</td>\n",
              "    </tr>\n",
              "  </tbody>\n",
              "</table>\n",
              "<p>8523 rows × 12 columns</p>\n",
              "</div>"
            ],
            "text/plain": [
              "     Item_Identifier  Item_Weight Item_Fat_Content  Item_Visibility  \\\n",
              "0              FDA15        9.300          Low Fat         0.016047   \n",
              "1              DRC01        5.920          Regular         0.019278   \n",
              "2              FDN15       17.500          Low Fat         0.016760   \n",
              "3              FDX07       19.200          Regular         0.000000   \n",
              "4              NCD19        8.930          Low Fat         0.000000   \n",
              "...              ...          ...              ...              ...   \n",
              "8518           FDF22        6.865          Low Fat         0.056783   \n",
              "8519           FDS36        8.380          Regular         0.046982   \n",
              "8520           NCJ29       10.600          Low Fat         0.035186   \n",
              "8521           FDN46        7.210          Regular         0.145221   \n",
              "8522           DRG01       14.800          Low Fat         0.044878   \n",
              "\n",
              "                  Item_Type  Item_MRP Outlet_Identifier  \\\n",
              "0                     Dairy  249.8092            OUT049   \n",
              "1               Soft Drinks   48.2692            OUT018   \n",
              "2                      Meat  141.6180            OUT049   \n",
              "3     Fruits and Vegetables  182.0950            OUT010   \n",
              "4                 Household   53.8614            OUT013   \n",
              "...                     ...       ...               ...   \n",
              "8518            Snack Foods  214.5218            OUT013   \n",
              "8519           Baking Goods  108.1570            OUT045   \n",
              "8520     Health and Hygiene   85.1224            OUT035   \n",
              "8521            Snack Foods  103.1332            OUT018   \n",
              "8522            Soft Drinks   75.4670            OUT046   \n",
              "\n",
              "      Outlet_Establishment_Year Outlet_Size Outlet_Location_Type  \\\n",
              "0                          1999      Medium               Tier 1   \n",
              "1                          2009      Medium               Tier 3   \n",
              "2                          1999      Medium               Tier 1   \n",
              "3                          1998         NaN               Tier 3   \n",
              "4                          1987        High               Tier 3   \n",
              "...                         ...         ...                  ...   \n",
              "8518                       1987        High               Tier 3   \n",
              "8519                       2002         NaN               Tier 2   \n",
              "8520                       2004       Small               Tier 2   \n",
              "8521                       2009      Medium               Tier 3   \n",
              "8522                       1997       Small               Tier 1   \n",
              "\n",
              "            Outlet_Type  Item_Outlet_Sales  \n",
              "0     Supermarket Type1          3735.1380  \n",
              "1     Supermarket Type2           443.4228  \n",
              "2     Supermarket Type1          2097.2700  \n",
              "3         Grocery Store           732.3800  \n",
              "4     Supermarket Type1           994.7052  \n",
              "...                 ...                ...  \n",
              "8518  Supermarket Type1          2778.3834  \n",
              "8519  Supermarket Type1           549.2850  \n",
              "8520  Supermarket Type1          1193.1136  \n",
              "8521  Supermarket Type2          1845.5976  \n",
              "8522  Supermarket Type1           765.6700  \n",
              "\n",
              "[8523 rows x 12 columns]"
            ]
          },
          "execution_count": 22,
          "metadata": {},
          "output_type": "execute_result"
        }
      ],
      "source": [
        "df2"
      ]
    },
    {
      "cell_type": "markdown",
      "metadata": {},
      "source": [
        "# **Outlet_Size**"
      ]
    },
    {
      "cell_type": "code",
      "execution_count": 26,
      "metadata": {
        "colab": {
          "base_uri": "https://localhost:8080/"
        },
        "id": "XkbGFp4JvJse",
        "outputId": "b4d90b65-2c7c-45b2-b9df-61479d1928bc"
      },
      "outputs": [
        {
          "data": {
            "text/plain": [
              "Outlet_Identifier\n",
              "OUT010      0\n",
              "OUT013    932\n",
              "OUT017      0\n",
              "OUT018    928\n",
              "OUT019    528\n",
              "OUT027    935\n",
              "OUT035    930\n",
              "OUT045      0\n",
              "OUT046    930\n",
              "OUT049    930\n",
              "Name: Outlet_Size, dtype: int64"
            ]
          },
          "execution_count": 26,
          "metadata": {},
          "output_type": "execute_result"
        }
      ],
      "source": [
        "df2.groupby('Outlet_Identifier')['Outlet_Size'].count()"
      ]
    },
    {
      "cell_type": "markdown",
      "metadata": {
        "id": "X7becdubw1M2"
      },
      "source": [
        "Los Outlet: OUT010,OUT017,OUT045. Carecen de tamano"
      ]
    },
    {
      "cell_type": "code",
      "execution_count": 42,
      "metadata": {
        "colab": {
          "base_uri": "https://localhost:8080/"
        },
        "id": "VmZEgWwZ5NoS",
        "outputId": "fb24faa9-8bea-4545-ef80-6b00950ed3cb"
      },
      "outputs": [
        {
          "data": {
            "text/plain": [
              "Outlet_Identifier  Outlet_Type      \n",
              "OUT010             Grocery Store           NaN\n",
              "OUT013             Supermarket Type1      High\n",
              "OUT017             Supermarket Type1       NaN\n",
              "OUT018             Supermarket Type2    Medium\n",
              "OUT019             Grocery Store         Small\n",
              "OUT027             Supermarket Type3    Medium\n",
              "OUT035             Supermarket Type1     Small\n",
              "OUT045             Supermarket Type1       NaN\n",
              "OUT046             Supermarket Type1     Small\n",
              "OUT049             Supermarket Type1    Medium\n",
              "Name: Outlet_Size, dtype: object"
            ]
          },
          "execution_count": 42,
          "metadata": {},
          "output_type": "execute_result"
        }
      ],
      "source": [
        "df2.groupby(['Outlet_Identifier','Outlet_Type'])['Outlet_Size'].max()"
      ]
    },
    {
      "cell_type": "code",
      "execution_count": 43,
      "metadata": {},
      "outputs": [
        {
          "data": {
            "text/plain": [
              "Outlet_Type        Outlet_Size\n",
              "Grocery Store      Small           528\n",
              "Supermarket Type1  Small          1860\n",
              "                   High            932\n",
              "                   Medium          930\n",
              "Supermarket Type2  Medium          928\n",
              "Supermarket Type3  Medium          935\n",
              "Name: Outlet_Size, dtype: int64"
            ]
          },
          "execution_count": 43,
          "metadata": {},
          "output_type": "execute_result"
        }
      ],
      "source": [
        "Frequency_Size= df2.groupby('Outlet_Type')['Outlet_Size'].value_counts()\n",
        "Frequency_Size"
      ]
    },
    {
      "cell_type": "markdown",
      "metadata": {},
      "source": [
        "El unico valor que  se repite en la categoria Grocery Store es 'Small'\n",
        "El valor que mas se repite en la categoria Supermarket Type 1 'Small'\n",
        "Basandonos en este analisis podemos imputar el Size Small para los tipos de Outlet 'Supermarket Type1' y 'Grocery Store '\n"
      ]
    },
    {
      "cell_type": "code",
      "execution_count": 50,
      "metadata": {},
      "outputs": [],
      "source": [
        "df2['Outlet_Size'].fillna('Small', inplace=True)"
      ]
    },
    {
      "cell_type": "code",
      "execution_count": 51,
      "metadata": {
        "colab": {
          "base_uri": "https://localhost:8080/"
        },
        "id": "kEIBrRpowG1V",
        "outputId": "11a4a276-0cc3-4ad4-f457-a3d6eae77b87"
      },
      "outputs": [
        {
          "data": {
            "text/plain": [
              "Outlet_Identifier  Outlet_Type      \n",
              "OUT010             Grocery Store         Small\n",
              "OUT013             Supermarket Type1      High\n",
              "OUT017             Supermarket Type1     Small\n",
              "OUT018             Supermarket Type2    Medium\n",
              "OUT019             Grocery Store         Small\n",
              "OUT027             Supermarket Type3    Medium\n",
              "OUT035             Supermarket Type1     Small\n",
              "OUT045             Supermarket Type1     Small\n",
              "OUT046             Supermarket Type1     Small\n",
              "OUT049             Supermarket Type1    Medium\n",
              "Name: Outlet_Size, dtype: object"
            ]
          },
          "execution_count": 51,
          "metadata": {},
          "output_type": "execute_result"
        }
      ],
      "source": [
        "df2.groupby(['Outlet_Identifier','Outlet_Type'])['Outlet_Size'].max()"
      ]
    },
    {
      "cell_type": "markdown",
      "metadata": {
        "id": "MUYwwvAcCyLG"
      },
      "source": [
        "# **Item_Weight**"
      ]
    },
    {
      "cell_type": "code",
      "execution_count": 52,
      "metadata": {
        "colab": {
          "base_uri": "https://localhost:8080/",
          "height": 661
        },
        "id": "5nxJFP8l2tFE",
        "outputId": "36dc0c19-d691-4db1-e56e-26b1ac6d5f27"
      },
      "outputs": [
        {
          "data": {
            "text/html": [
              "<div>\n",
              "<style scoped>\n",
              "    .dataframe tbody tr th:only-of-type {\n",
              "        vertical-align: middle;\n",
              "    }\n",
              "\n",
              "    .dataframe tbody tr th {\n",
              "        vertical-align: top;\n",
              "    }\n",
              "\n",
              "    .dataframe thead th {\n",
              "        text-align: right;\n",
              "    }\n",
              "</style>\n",
              "<table border=\"1\" class=\"dataframe\">\n",
              "  <thead>\n",
              "    <tr style=\"text-align: right;\">\n",
              "      <th></th>\n",
              "      <th>Item_Identifier</th>\n",
              "      <th>Item_Weight</th>\n",
              "      <th>Item_Fat_Content</th>\n",
              "      <th>Item_Visibility</th>\n",
              "      <th>Item_Type</th>\n",
              "      <th>Item_MRP</th>\n",
              "      <th>Outlet_Identifier</th>\n",
              "      <th>Outlet_Establishment_Year</th>\n",
              "      <th>Outlet_Size</th>\n",
              "      <th>Outlet_Location_Type</th>\n",
              "      <th>Outlet_Type</th>\n",
              "      <th>Item_Outlet_Sales</th>\n",
              "    </tr>\n",
              "  </thead>\n",
              "  <tbody>\n",
              "    <tr>\n",
              "      <th>4430</th>\n",
              "      <td>FDP40</td>\n",
              "      <td>4.555</td>\n",
              "      <td>Regular</td>\n",
              "      <td>0.034357</td>\n",
              "      <td>Frozen Foods</td>\n",
              "      <td>112.6544</td>\n",
              "      <td>OUT046</td>\n",
              "      <td>1997</td>\n",
              "      <td>Small</td>\n",
              "      <td>Tier 1</td>\n",
              "      <td>Supermarket Type1</td>\n",
              "      <td>2684.5056</td>\n",
              "    </tr>\n",
              "    <tr>\n",
              "      <th>7808</th>\n",
              "      <td>FDP40</td>\n",
              "      <td>4.555</td>\n",
              "      <td>Regular</td>\n",
              "      <td>0.034329</td>\n",
              "      <td>Frozen Foods</td>\n",
              "      <td>110.1544</td>\n",
              "      <td>OUT013</td>\n",
              "      <td>1987</td>\n",
              "      <td>High</td>\n",
              "      <td>Tier 3</td>\n",
              "      <td>Supermarket Type1</td>\n",
              "      <td>1230.3984</td>\n",
              "    </tr>\n",
              "    <tr>\n",
              "      <th>3489</th>\n",
              "      <td>FDP40</td>\n",
              "      <td>4.555</td>\n",
              "      <td>Regular</td>\n",
              "      <td>0.034351</td>\n",
              "      <td>Frozen Foods</td>\n",
              "      <td>112.7544</td>\n",
              "      <td>OUT035</td>\n",
              "      <td>2004</td>\n",
              "      <td>Small</td>\n",
              "      <td>Tier 2</td>\n",
              "      <td>Supermarket Type1</td>\n",
              "      <td>1789.6704</td>\n",
              "    </tr>\n",
              "    <tr>\n",
              "      <th>4400</th>\n",
              "      <td>FDP40</td>\n",
              "      <td>4.555</td>\n",
              "      <td>Regular</td>\n",
              "      <td>0.034411</td>\n",
              "      <td>Frozen Foods</td>\n",
              "      <td>111.3544</td>\n",
              "      <td>OUT049</td>\n",
              "      <td>1999</td>\n",
              "      <td>Medium</td>\n",
              "      <td>Tier 1</td>\n",
              "      <td>Supermarket Type1</td>\n",
              "      <td>1342.2528</td>\n",
              "    </tr>\n",
              "    <tr>\n",
              "      <th>7984</th>\n",
              "      <td>DRE12</td>\n",
              "      <td>4.590</td>\n",
              "      <td>Low Fat</td>\n",
              "      <td>0.000000</td>\n",
              "      <td>Soft Drinks</td>\n",
              "      <td>111.1860</td>\n",
              "      <td>OUT045</td>\n",
              "      <td>2002</td>\n",
              "      <td>Small</td>\n",
              "      <td>Tier 2</td>\n",
              "      <td>Supermarket Type1</td>\n",
              "      <td>1245.0460</td>\n",
              "    </tr>\n",
              "    <tr>\n",
              "      <th>...</th>\n",
              "      <td>...</td>\n",
              "      <td>...</td>\n",
              "      <td>...</td>\n",
              "      <td>...</td>\n",
              "      <td>...</td>\n",
              "      <td>...</td>\n",
              "      <td>...</td>\n",
              "      <td>...</td>\n",
              "      <td>...</td>\n",
              "      <td>...</td>\n",
              "      <td>...</td>\n",
              "      <td>...</td>\n",
              "    </tr>\n",
              "    <tr>\n",
              "      <th>43</th>\n",
              "      <td>FDC02</td>\n",
              "      <td>21.350</td>\n",
              "      <td>Low Fat</td>\n",
              "      <td>0.069103</td>\n",
              "      <td>Canned</td>\n",
              "      <td>259.9278</td>\n",
              "      <td>OUT018</td>\n",
              "      <td>2009</td>\n",
              "      <td>Medium</td>\n",
              "      <td>Tier 3</td>\n",
              "      <td>Supermarket Type2</td>\n",
              "      <td>6768.5228</td>\n",
              "    </tr>\n",
              "    <tr>\n",
              "      <th>2802</th>\n",
              "      <td>FDC02</td>\n",
              "      <td>21.350</td>\n",
              "      <td>Low Fat</td>\n",
              "      <td>0.068765</td>\n",
              "      <td>Canned</td>\n",
              "      <td>260.4278</td>\n",
              "      <td>OUT013</td>\n",
              "      <td>1987</td>\n",
              "      <td>High</td>\n",
              "      <td>Tier 3</td>\n",
              "      <td>Supermarket Type1</td>\n",
              "      <td>3644.5892</td>\n",
              "    </tr>\n",
              "    <tr>\n",
              "      <th>483</th>\n",
              "      <td>FDC02</td>\n",
              "      <td>21.350</td>\n",
              "      <td>Low Fat</td>\n",
              "      <td>0.115195</td>\n",
              "      <td>Canned</td>\n",
              "      <td>258.3278</td>\n",
              "      <td>OUT010</td>\n",
              "      <td>1998</td>\n",
              "      <td>Small</td>\n",
              "      <td>Tier 3</td>\n",
              "      <td>Grocery Store</td>\n",
              "      <td>520.6556</td>\n",
              "    </tr>\n",
              "    <tr>\n",
              "      <th>2368</th>\n",
              "      <td>FDC02</td>\n",
              "      <td>21.350</td>\n",
              "      <td>Low Fat</td>\n",
              "      <td>0.068809</td>\n",
              "      <td>Canned</td>\n",
              "      <td>258.5278</td>\n",
              "      <td>OUT035</td>\n",
              "      <td>2004</td>\n",
              "      <td>Small</td>\n",
              "      <td>Tier 2</td>\n",
              "      <td>Supermarket Type1</td>\n",
              "      <td>5206.5560</td>\n",
              "    </tr>\n",
              "    <tr>\n",
              "      <th>4468</th>\n",
              "      <td>FDC02</td>\n",
              "      <td>21.350</td>\n",
              "      <td>Low Fat</td>\n",
              "      <td>0.068822</td>\n",
              "      <td>Canned</td>\n",
              "      <td>258.3278</td>\n",
              "      <td>OUT046</td>\n",
              "      <td>1997</td>\n",
              "      <td>Small</td>\n",
              "      <td>Tier 1</td>\n",
              "      <td>Supermarket Type1</td>\n",
              "      <td>7028.8506</td>\n",
              "    </tr>\n",
              "  </tbody>\n",
              "</table>\n",
              "<p>8523 rows × 12 columns</p>\n",
              "</div>"
            ],
            "text/plain": [
              "     Item_Identifier  Item_Weight Item_Fat_Content  Item_Visibility  \\\n",
              "4430           FDP40        4.555          Regular         0.034357   \n",
              "7808           FDP40        4.555          Regular         0.034329   \n",
              "3489           FDP40        4.555          Regular         0.034351   \n",
              "4400           FDP40        4.555          Regular         0.034411   \n",
              "7984           DRE12        4.590          Low Fat         0.000000   \n",
              "...              ...          ...              ...              ...   \n",
              "43             FDC02       21.350          Low Fat         0.069103   \n",
              "2802           FDC02       21.350          Low Fat         0.068765   \n",
              "483            FDC02       21.350          Low Fat         0.115195   \n",
              "2368           FDC02       21.350          Low Fat         0.068809   \n",
              "4468           FDC02       21.350          Low Fat         0.068822   \n",
              "\n",
              "         Item_Type  Item_MRP Outlet_Identifier  Outlet_Establishment_Year  \\\n",
              "4430  Frozen Foods  112.6544            OUT046                       1997   \n",
              "7808  Frozen Foods  110.1544            OUT013                       1987   \n",
              "3489  Frozen Foods  112.7544            OUT035                       2004   \n",
              "4400  Frozen Foods  111.3544            OUT049                       1999   \n",
              "7984   Soft Drinks  111.1860            OUT045                       2002   \n",
              "...            ...       ...               ...                        ...   \n",
              "43          Canned  259.9278            OUT018                       2009   \n",
              "2802        Canned  260.4278            OUT013                       1987   \n",
              "483         Canned  258.3278            OUT010                       1998   \n",
              "2368        Canned  258.5278            OUT035                       2004   \n",
              "4468        Canned  258.3278            OUT046                       1997   \n",
              "\n",
              "     Outlet_Size Outlet_Location_Type        Outlet_Type  Item_Outlet_Sales  \n",
              "4430       Small               Tier 1  Supermarket Type1          2684.5056  \n",
              "7808        High               Tier 3  Supermarket Type1          1230.3984  \n",
              "3489       Small               Tier 2  Supermarket Type1          1789.6704  \n",
              "4400      Medium               Tier 1  Supermarket Type1          1342.2528  \n",
              "7984       Small               Tier 2  Supermarket Type1          1245.0460  \n",
              "...          ...                  ...                ...                ...  \n",
              "43        Medium               Tier 3  Supermarket Type2          6768.5228  \n",
              "2802        High               Tier 3  Supermarket Type1          3644.5892  \n",
              "483        Small               Tier 3      Grocery Store           520.6556  \n",
              "2368       Small               Tier 2  Supermarket Type1          5206.5560  \n",
              "4468       Small               Tier 1  Supermarket Type1          7028.8506  \n",
              "\n",
              "[8523 rows x 12 columns]"
            ]
          },
          "execution_count": 52,
          "metadata": {},
          "output_type": "execute_result"
        }
      ],
      "source": [
        "df2.sort_values('Item_Weight')"
      ]
    },
    {
      "cell_type": "markdown",
      "metadata": {
        "id": "8xbyxWAG7JDw"
      },
      "source": [
        "No existe una relación entre si falta un punto de datos y cualquier valor en el conjunto de datos (faltante u observado). Los datos faltantes son solo un subconjunto aleatorio de los datos. La ausencia no tiene nada que ver con ninguna otra variable. Por lo que para generar los valores faltantes se utilizara el proceso de imputacion de la media por 'Item_Type'"
      ]
    },
    {
      "cell_type": "code",
      "execution_count": 53,
      "metadata": {
        "colab": {
          "base_uri": "https://localhost:8080/",
          "height": 661
        },
        "id": "R5rPq20a7bRt",
        "outputId": "a7cdd834-fbc3-4a14-e6d4-ca002f63f991"
      },
      "outputs": [
        {
          "data": {
            "text/html": [
              "<div>\n",
              "<style scoped>\n",
              "    .dataframe tbody tr th:only-of-type {\n",
              "        vertical-align: middle;\n",
              "    }\n",
              "\n",
              "    .dataframe tbody tr th {\n",
              "        vertical-align: top;\n",
              "    }\n",
              "\n",
              "    .dataframe thead th {\n",
              "        text-align: right;\n",
              "    }\n",
              "</style>\n",
              "<table border=\"1\" class=\"dataframe\">\n",
              "  <thead>\n",
              "    <tr style=\"text-align: right;\">\n",
              "      <th></th>\n",
              "      <th>Item_Identifier</th>\n",
              "      <th>Item_Weight</th>\n",
              "      <th>Item_Fat_Content</th>\n",
              "      <th>Item_Visibility</th>\n",
              "      <th>Item_Type</th>\n",
              "      <th>Item_MRP</th>\n",
              "      <th>Outlet_Identifier</th>\n",
              "      <th>Outlet_Establishment_Year</th>\n",
              "      <th>Outlet_Size</th>\n",
              "      <th>Outlet_Location_Type</th>\n",
              "      <th>Outlet_Type</th>\n",
              "      <th>Item_Outlet_Sales</th>\n",
              "    </tr>\n",
              "  </thead>\n",
              "  <tbody>\n",
              "    <tr>\n",
              "      <th>4261</th>\n",
              "      <td>FDY36</td>\n",
              "      <td>12.300000</td>\n",
              "      <td>Low Fat</td>\n",
              "      <td>0.009425</td>\n",
              "      <td>Baking Goods</td>\n",
              "      <td>74.8380</td>\n",
              "      <td>OUT049</td>\n",
              "      <td>1999</td>\n",
              "      <td>Medium</td>\n",
              "      <td>Tier 1</td>\n",
              "      <td>Supermarket Type1</td>\n",
              "      <td>1537.9980</td>\n",
              "    </tr>\n",
              "    <tr>\n",
              "      <th>5387</th>\n",
              "      <td>FDS60</td>\n",
              "      <td>20.850000</td>\n",
              "      <td>Low Fat</td>\n",
              "      <td>0.032581</td>\n",
              "      <td>Baking Goods</td>\n",
              "      <td>180.0660</td>\n",
              "      <td>OUT018</td>\n",
              "      <td>2009</td>\n",
              "      <td>Medium</td>\n",
              "      <td>Tier 3</td>\n",
              "      <td>Supermarket Type2</td>\n",
              "      <td>2157.1920</td>\n",
              "    </tr>\n",
              "    <tr>\n",
              "      <th>5363</th>\n",
              "      <td>FDY48</td>\n",
              "      <td>14.000000</td>\n",
              "      <td>Low Fat</td>\n",
              "      <td>0.023783</td>\n",
              "      <td>Baking Goods</td>\n",
              "      <td>104.0332</td>\n",
              "      <td>OUT045</td>\n",
              "      <td>2002</td>\n",
              "      <td>Small</td>\n",
              "      <td>Tier 2</td>\n",
              "      <td>Supermarket Type1</td>\n",
              "      <td>1435.4648</td>\n",
              "    </tr>\n",
              "    <tr>\n",
              "      <th>5362</th>\n",
              "      <td>FDZ48</td>\n",
              "      <td>17.750000</td>\n",
              "      <td>Low Fat</td>\n",
              "      <td>0.076114</td>\n",
              "      <td>Baking Goods</td>\n",
              "      <td>111.4544</td>\n",
              "      <td>OUT045</td>\n",
              "      <td>2002</td>\n",
              "      <td>Small</td>\n",
              "      <td>Tier 2</td>\n",
              "      <td>Supermarket Type1</td>\n",
              "      <td>1006.6896</td>\n",
              "    </tr>\n",
              "    <tr>\n",
              "      <th>5354</th>\n",
              "      <td>FDN24</td>\n",
              "      <td>12.277108</td>\n",
              "      <td>Low Fat</td>\n",
              "      <td>0.198317</td>\n",
              "      <td>Baking Goods</td>\n",
              "      <td>54.3956</td>\n",
              "      <td>OUT019</td>\n",
              "      <td>1985</td>\n",
              "      <td>Small</td>\n",
              "      <td>Tier 1</td>\n",
              "      <td>Grocery Store</td>\n",
              "      <td>272.9780</td>\n",
              "    </tr>\n",
              "    <tr>\n",
              "      <th>...</th>\n",
              "      <td>...</td>\n",
              "      <td>...</td>\n",
              "      <td>...</td>\n",
              "      <td>...</td>\n",
              "      <td>...</td>\n",
              "      <td>...</td>\n",
              "      <td>...</td>\n",
              "      <td>...</td>\n",
              "      <td>...</td>\n",
              "      <td>...</td>\n",
              "      <td>...</td>\n",
              "      <td>...</td>\n",
              "    </tr>\n",
              "    <tr>\n",
              "      <th>7353</th>\n",
              "      <td>FDC59</td>\n",
              "      <td>16.700000</td>\n",
              "      <td>reg</td>\n",
              "      <td>0.091438</td>\n",
              "      <td>Starchy Foods</td>\n",
              "      <td>64.3168</td>\n",
              "      <td>OUT010</td>\n",
              "      <td>1998</td>\n",
              "      <td>Small</td>\n",
              "      <td>Tier 3</td>\n",
              "      <td>Grocery Store</td>\n",
              "      <td>127.8336</td>\n",
              "    </tr>\n",
              "    <tr>\n",
              "      <th>7363</th>\n",
              "      <td>FDE23</td>\n",
              "      <td>17.600000</td>\n",
              "      <td>Regular</td>\n",
              "      <td>0.053482</td>\n",
              "      <td>Starchy Foods</td>\n",
              "      <td>47.8060</td>\n",
              "      <td>OUT017</td>\n",
              "      <td>2007</td>\n",
              "      <td>Small</td>\n",
              "      <td>Tier 2</td>\n",
              "      <td>Supermarket Type1</td>\n",
              "      <td>1071.9380</td>\n",
              "    </tr>\n",
              "    <tr>\n",
              "      <th>136</th>\n",
              "      <td>FDH35</td>\n",
              "      <td>13.690731</td>\n",
              "      <td>Low Fat</td>\n",
              "      <td>0.059957</td>\n",
              "      <td>Starchy Foods</td>\n",
              "      <td>165.4526</td>\n",
              "      <td>OUT027</td>\n",
              "      <td>1985</td>\n",
              "      <td>Medium</td>\n",
              "      <td>Tier 3</td>\n",
              "      <td>Supermarket Type3</td>\n",
              "      <td>5262.4832</td>\n",
              "    </tr>\n",
              "    <tr>\n",
              "      <th>6723</th>\n",
              "      <td>FDG47</td>\n",
              "      <td>12.800000</td>\n",
              "      <td>Low Fat</td>\n",
              "      <td>0.069606</td>\n",
              "      <td>Starchy Foods</td>\n",
              "      <td>261.9252</td>\n",
              "      <td>OUT035</td>\n",
              "      <td>2004</td>\n",
              "      <td>Small</td>\n",
              "      <td>Tier 2</td>\n",
              "      <td>Supermarket Type1</td>\n",
              "      <td>4984.1788</td>\n",
              "    </tr>\n",
              "    <tr>\n",
              "      <th>5237</th>\n",
              "      <td>FDB11</td>\n",
              "      <td>16.000000</td>\n",
              "      <td>Low Fat</td>\n",
              "      <td>0.060971</td>\n",
              "      <td>Starchy Foods</td>\n",
              "      <td>226.2404</td>\n",
              "      <td>OUT045</td>\n",
              "      <td>2002</td>\n",
              "      <td>Small</td>\n",
              "      <td>Tier 2</td>\n",
              "      <td>Supermarket Type1</td>\n",
              "      <td>4725.8484</td>\n",
              "    </tr>\n",
              "  </tbody>\n",
              "</table>\n",
              "<p>8523 rows × 12 columns</p>\n",
              "</div>"
            ],
            "text/plain": [
              "     Item_Identifier  Item_Weight Item_Fat_Content  Item_Visibility  \\\n",
              "4261           FDY36    12.300000          Low Fat         0.009425   \n",
              "5387           FDS60    20.850000          Low Fat         0.032581   \n",
              "5363           FDY48    14.000000          Low Fat         0.023783   \n",
              "5362           FDZ48    17.750000          Low Fat         0.076114   \n",
              "5354           FDN24    12.277108          Low Fat         0.198317   \n",
              "...              ...          ...              ...              ...   \n",
              "7353           FDC59    16.700000              reg         0.091438   \n",
              "7363           FDE23    17.600000          Regular         0.053482   \n",
              "136            FDH35    13.690731          Low Fat         0.059957   \n",
              "6723           FDG47    12.800000          Low Fat         0.069606   \n",
              "5237           FDB11    16.000000          Low Fat         0.060971   \n",
              "\n",
              "          Item_Type  Item_MRP Outlet_Identifier  Outlet_Establishment_Year  \\\n",
              "4261   Baking Goods   74.8380            OUT049                       1999   \n",
              "5387   Baking Goods  180.0660            OUT018                       2009   \n",
              "5363   Baking Goods  104.0332            OUT045                       2002   \n",
              "5362   Baking Goods  111.4544            OUT045                       2002   \n",
              "5354   Baking Goods   54.3956            OUT019                       1985   \n",
              "...             ...       ...               ...                        ...   \n",
              "7353  Starchy Foods   64.3168            OUT010                       1998   \n",
              "7363  Starchy Foods   47.8060            OUT017                       2007   \n",
              "136   Starchy Foods  165.4526            OUT027                       1985   \n",
              "6723  Starchy Foods  261.9252            OUT035                       2004   \n",
              "5237  Starchy Foods  226.2404            OUT045                       2002   \n",
              "\n",
              "     Outlet_Size Outlet_Location_Type        Outlet_Type  Item_Outlet_Sales  \n",
              "4261      Medium               Tier 1  Supermarket Type1          1537.9980  \n",
              "5387      Medium               Tier 3  Supermarket Type2          2157.1920  \n",
              "5363       Small               Tier 2  Supermarket Type1          1435.4648  \n",
              "5362       Small               Tier 2  Supermarket Type1          1006.6896  \n",
              "5354       Small               Tier 1      Grocery Store           272.9780  \n",
              "...          ...                  ...                ...                ...  \n",
              "7353       Small               Tier 3      Grocery Store           127.8336  \n",
              "7363       Small               Tier 2  Supermarket Type1          1071.9380  \n",
              "136       Medium               Tier 3  Supermarket Type3          5262.4832  \n",
              "6723       Small               Tier 2  Supermarket Type1          4984.1788  \n",
              "5237       Small               Tier 2  Supermarket Type1          4725.8484  \n",
              "\n",
              "[8523 rows x 12 columns]"
            ]
          },
          "execution_count": 53,
          "metadata": {},
          "output_type": "execute_result"
        }
      ],
      "source": [
        "df2.sort_values('Item_Type')"
      ]
    },
    {
      "cell_type": "code",
      "execution_count": 54,
      "metadata": {
        "id": "BPqFGqU078pi"
      },
      "outputs": [],
      "source": [
        "df2['Item_Weight'].fillna(df2.groupby('Item_Type')['Item_Weight'].transform('mean'), inplace = True)"
      ]
    },
    {
      "cell_type": "code",
      "execution_count": 55,
      "metadata": {
        "colab": {
          "base_uri": "https://localhost:8080/",
          "height": 661
        },
        "id": "5yk572KG86nH",
        "outputId": "73ca28f6-e344-4075-de2f-9f4360f3cdbf"
      },
      "outputs": [
        {
          "data": {
            "text/html": [
              "<div>\n",
              "<style scoped>\n",
              "    .dataframe tbody tr th:only-of-type {\n",
              "        vertical-align: middle;\n",
              "    }\n",
              "\n",
              "    .dataframe tbody tr th {\n",
              "        vertical-align: top;\n",
              "    }\n",
              "\n",
              "    .dataframe thead th {\n",
              "        text-align: right;\n",
              "    }\n",
              "</style>\n",
              "<table border=\"1\" class=\"dataframe\">\n",
              "  <thead>\n",
              "    <tr style=\"text-align: right;\">\n",
              "      <th></th>\n",
              "      <th>Item_Identifier</th>\n",
              "      <th>Item_Weight</th>\n",
              "      <th>Item_Fat_Content</th>\n",
              "      <th>Item_Visibility</th>\n",
              "      <th>Item_Type</th>\n",
              "      <th>Item_MRP</th>\n",
              "      <th>Outlet_Identifier</th>\n",
              "      <th>Outlet_Establishment_Year</th>\n",
              "      <th>Outlet_Size</th>\n",
              "      <th>Outlet_Location_Type</th>\n",
              "      <th>Outlet_Type</th>\n",
              "      <th>Item_Outlet_Sales</th>\n",
              "    </tr>\n",
              "  </thead>\n",
              "  <tbody>\n",
              "    <tr>\n",
              "      <th>4261</th>\n",
              "      <td>FDY36</td>\n",
              "      <td>12.300000</td>\n",
              "      <td>Low Fat</td>\n",
              "      <td>0.009425</td>\n",
              "      <td>Baking Goods</td>\n",
              "      <td>74.8380</td>\n",
              "      <td>OUT049</td>\n",
              "      <td>1999</td>\n",
              "      <td>Medium</td>\n",
              "      <td>Tier 1</td>\n",
              "      <td>Supermarket Type1</td>\n",
              "      <td>1537.9980</td>\n",
              "    </tr>\n",
              "    <tr>\n",
              "      <th>5387</th>\n",
              "      <td>FDS60</td>\n",
              "      <td>20.850000</td>\n",
              "      <td>Low Fat</td>\n",
              "      <td>0.032581</td>\n",
              "      <td>Baking Goods</td>\n",
              "      <td>180.0660</td>\n",
              "      <td>OUT018</td>\n",
              "      <td>2009</td>\n",
              "      <td>Medium</td>\n",
              "      <td>Tier 3</td>\n",
              "      <td>Supermarket Type2</td>\n",
              "      <td>2157.1920</td>\n",
              "    </tr>\n",
              "    <tr>\n",
              "      <th>5363</th>\n",
              "      <td>FDY48</td>\n",
              "      <td>14.000000</td>\n",
              "      <td>Low Fat</td>\n",
              "      <td>0.023783</td>\n",
              "      <td>Baking Goods</td>\n",
              "      <td>104.0332</td>\n",
              "      <td>OUT045</td>\n",
              "      <td>2002</td>\n",
              "      <td>Small</td>\n",
              "      <td>Tier 2</td>\n",
              "      <td>Supermarket Type1</td>\n",
              "      <td>1435.4648</td>\n",
              "    </tr>\n",
              "    <tr>\n",
              "      <th>5362</th>\n",
              "      <td>FDZ48</td>\n",
              "      <td>17.750000</td>\n",
              "      <td>Low Fat</td>\n",
              "      <td>0.076114</td>\n",
              "      <td>Baking Goods</td>\n",
              "      <td>111.4544</td>\n",
              "      <td>OUT045</td>\n",
              "      <td>2002</td>\n",
              "      <td>Small</td>\n",
              "      <td>Tier 2</td>\n",
              "      <td>Supermarket Type1</td>\n",
              "      <td>1006.6896</td>\n",
              "    </tr>\n",
              "    <tr>\n",
              "      <th>5354</th>\n",
              "      <td>FDN24</td>\n",
              "      <td>12.277108</td>\n",
              "      <td>Low Fat</td>\n",
              "      <td>0.198317</td>\n",
              "      <td>Baking Goods</td>\n",
              "      <td>54.3956</td>\n",
              "      <td>OUT019</td>\n",
              "      <td>1985</td>\n",
              "      <td>Small</td>\n",
              "      <td>Tier 1</td>\n",
              "      <td>Grocery Store</td>\n",
              "      <td>272.9780</td>\n",
              "    </tr>\n",
              "    <tr>\n",
              "      <th>...</th>\n",
              "      <td>...</td>\n",
              "      <td>...</td>\n",
              "      <td>...</td>\n",
              "      <td>...</td>\n",
              "      <td>...</td>\n",
              "      <td>...</td>\n",
              "      <td>...</td>\n",
              "      <td>...</td>\n",
              "      <td>...</td>\n",
              "      <td>...</td>\n",
              "      <td>...</td>\n",
              "      <td>...</td>\n",
              "    </tr>\n",
              "    <tr>\n",
              "      <th>7353</th>\n",
              "      <td>FDC59</td>\n",
              "      <td>16.700000</td>\n",
              "      <td>reg</td>\n",
              "      <td>0.091438</td>\n",
              "      <td>Starchy Foods</td>\n",
              "      <td>64.3168</td>\n",
              "      <td>OUT010</td>\n",
              "      <td>1998</td>\n",
              "      <td>Small</td>\n",
              "      <td>Tier 3</td>\n",
              "      <td>Grocery Store</td>\n",
              "      <td>127.8336</td>\n",
              "    </tr>\n",
              "    <tr>\n",
              "      <th>7363</th>\n",
              "      <td>FDE23</td>\n",
              "      <td>17.600000</td>\n",
              "      <td>Regular</td>\n",
              "      <td>0.053482</td>\n",
              "      <td>Starchy Foods</td>\n",
              "      <td>47.8060</td>\n",
              "      <td>OUT017</td>\n",
              "      <td>2007</td>\n",
              "      <td>Small</td>\n",
              "      <td>Tier 2</td>\n",
              "      <td>Supermarket Type1</td>\n",
              "      <td>1071.9380</td>\n",
              "    </tr>\n",
              "    <tr>\n",
              "      <th>136</th>\n",
              "      <td>FDH35</td>\n",
              "      <td>13.690731</td>\n",
              "      <td>Low Fat</td>\n",
              "      <td>0.059957</td>\n",
              "      <td>Starchy Foods</td>\n",
              "      <td>165.4526</td>\n",
              "      <td>OUT027</td>\n",
              "      <td>1985</td>\n",
              "      <td>Medium</td>\n",
              "      <td>Tier 3</td>\n",
              "      <td>Supermarket Type3</td>\n",
              "      <td>5262.4832</td>\n",
              "    </tr>\n",
              "    <tr>\n",
              "      <th>6723</th>\n",
              "      <td>FDG47</td>\n",
              "      <td>12.800000</td>\n",
              "      <td>Low Fat</td>\n",
              "      <td>0.069606</td>\n",
              "      <td>Starchy Foods</td>\n",
              "      <td>261.9252</td>\n",
              "      <td>OUT035</td>\n",
              "      <td>2004</td>\n",
              "      <td>Small</td>\n",
              "      <td>Tier 2</td>\n",
              "      <td>Supermarket Type1</td>\n",
              "      <td>4984.1788</td>\n",
              "    </tr>\n",
              "    <tr>\n",
              "      <th>5237</th>\n",
              "      <td>FDB11</td>\n",
              "      <td>16.000000</td>\n",
              "      <td>Low Fat</td>\n",
              "      <td>0.060971</td>\n",
              "      <td>Starchy Foods</td>\n",
              "      <td>226.2404</td>\n",
              "      <td>OUT045</td>\n",
              "      <td>2002</td>\n",
              "      <td>Small</td>\n",
              "      <td>Tier 2</td>\n",
              "      <td>Supermarket Type1</td>\n",
              "      <td>4725.8484</td>\n",
              "    </tr>\n",
              "  </tbody>\n",
              "</table>\n",
              "<p>8523 rows × 12 columns</p>\n",
              "</div>"
            ],
            "text/plain": [
              "     Item_Identifier  Item_Weight Item_Fat_Content  Item_Visibility  \\\n",
              "4261           FDY36    12.300000          Low Fat         0.009425   \n",
              "5387           FDS60    20.850000          Low Fat         0.032581   \n",
              "5363           FDY48    14.000000          Low Fat         0.023783   \n",
              "5362           FDZ48    17.750000          Low Fat         0.076114   \n",
              "5354           FDN24    12.277108          Low Fat         0.198317   \n",
              "...              ...          ...              ...              ...   \n",
              "7353           FDC59    16.700000              reg         0.091438   \n",
              "7363           FDE23    17.600000          Regular         0.053482   \n",
              "136            FDH35    13.690731          Low Fat         0.059957   \n",
              "6723           FDG47    12.800000          Low Fat         0.069606   \n",
              "5237           FDB11    16.000000          Low Fat         0.060971   \n",
              "\n",
              "          Item_Type  Item_MRP Outlet_Identifier  Outlet_Establishment_Year  \\\n",
              "4261   Baking Goods   74.8380            OUT049                       1999   \n",
              "5387   Baking Goods  180.0660            OUT018                       2009   \n",
              "5363   Baking Goods  104.0332            OUT045                       2002   \n",
              "5362   Baking Goods  111.4544            OUT045                       2002   \n",
              "5354   Baking Goods   54.3956            OUT019                       1985   \n",
              "...             ...       ...               ...                        ...   \n",
              "7353  Starchy Foods   64.3168            OUT010                       1998   \n",
              "7363  Starchy Foods   47.8060            OUT017                       2007   \n",
              "136   Starchy Foods  165.4526            OUT027                       1985   \n",
              "6723  Starchy Foods  261.9252            OUT035                       2004   \n",
              "5237  Starchy Foods  226.2404            OUT045                       2002   \n",
              "\n",
              "     Outlet_Size Outlet_Location_Type        Outlet_Type  Item_Outlet_Sales  \n",
              "4261      Medium               Tier 1  Supermarket Type1          1537.9980  \n",
              "5387      Medium               Tier 3  Supermarket Type2          2157.1920  \n",
              "5363       Small               Tier 2  Supermarket Type1          1435.4648  \n",
              "5362       Small               Tier 2  Supermarket Type1          1006.6896  \n",
              "5354       Small               Tier 1      Grocery Store           272.9780  \n",
              "...          ...                  ...                ...                ...  \n",
              "7353       Small               Tier 3      Grocery Store           127.8336  \n",
              "7363       Small               Tier 2  Supermarket Type1          1071.9380  \n",
              "136       Medium               Tier 3  Supermarket Type3          5262.4832  \n",
              "6723       Small               Tier 2  Supermarket Type1          4984.1788  \n",
              "5237       Small               Tier 2  Supermarket Type1          4725.8484  \n",
              "\n",
              "[8523 rows x 12 columns]"
            ]
          },
          "execution_count": 55,
          "metadata": {},
          "output_type": "execute_result"
        }
      ],
      "source": [
        "df2.sort_values('Item_Type')"
      ]
    },
    {
      "cell_type": "markdown",
      "metadata": {},
      "source": [
        "6) Confirmen que no hay valores faltantes después de abordarlos.\n",
        "\n"
      ]
    },
    {
      "cell_type": "code",
      "execution_count": 56,
      "metadata": {
        "colab": {
          "base_uri": "https://localhost:8080/"
        },
        "id": "nTYdC9FwCmPM",
        "outputId": "ffbfc67f-44f8-430d-b34b-ad3313084db2"
      },
      "outputs": [
        {
          "data": {
            "text/plain": [
              "Item_Identifier              0\n",
              "Item_Weight                  0\n",
              "Item_Fat_Content             0\n",
              "Item_Visibility              0\n",
              "Item_Type                    0\n",
              "Item_MRP                     0\n",
              "Outlet_Identifier            0\n",
              "Outlet_Establishment_Year    0\n",
              "Outlet_Size                  0\n",
              "Outlet_Location_Type         0\n",
              "Outlet_Type                  0\n",
              "Item_Outlet_Sales            0\n",
              "dtype: int64"
            ]
          },
          "execution_count": 56,
          "metadata": {},
          "output_type": "execute_result"
        }
      ],
      "source": [
        "df2.isna().sum()"
      ]
    },
    {
      "cell_type": "markdown",
      "metadata": {},
      "source": [
        "Encuentren y arreglen alguna categoría inconsistente de datos"
      ]
    },
    {
      "cell_type": "code",
      "execution_count": 67,
      "metadata": {},
      "outputs": [],
      "source": [
        "def unique_values (dataframe):\n",
        "    unive_values_r=''\n",
        "    for columns in range(dataframe):\n",
        "      unive_values_r= dataframe[columns].unique\n",
        "    return unive_values_r"
      ]
    },
    {
      "cell_type": "code",
      "execution_count": 69,
      "metadata": {},
      "outputs": [
        {
          "data": {
            "text/plain": [
              "array(['FDA15', 'DRC01', 'FDN15', ..., 'NCF55', 'NCW30', 'NCW05'],\n",
              "      dtype=object)"
            ]
          },
          "execution_count": 69,
          "metadata": {},
          "output_type": "execute_result"
        }
      ],
      "source": [
        "df2['Item_Identifier'].unique()"
      ]
    },
    {
      "cell_type": "code",
      "execution_count": 70,
      "metadata": {},
      "outputs": [
        {
          "data": {
            "text/plain": [
              "array([ 9.3       ,  5.92      , 17.5       , 19.2       ,  8.93      ,\n",
              "       10.395     , 13.65      , 12.98787955, 16.2       , 11.8       ,\n",
              "       18.5       , 15.1       , 17.6       , 16.35      ,  9.        ,\n",
              "       11.40032787, 13.35      , 18.85      , 12.27710821, 14.6       ,\n",
              "       13.85      , 13.        ,  7.645     , 11.65      ,  5.925     ,\n",
              "       12.30570501, 19.25      , 18.6       , 18.7       , 17.85      ,\n",
              "       10.        , 13.22476938,  8.85      ,  9.8       , 13.6       ,\n",
              "       21.35      , 12.15      ,  6.42      , 19.6       , 15.85      ,\n",
              "       13.4260689 ,  7.39      , 10.195     ,  9.895     , 10.895     ,\n",
              "        7.905     ,  9.195     ,  8.365     ,  7.97      , 12.86706128,\n",
              "       17.7       , 19.35      ,  8.645     , 15.6       , 18.25      ,\n",
              "        7.855     ,  7.825     ,  8.39      , 12.85      , 19.        ,\n",
              "        5.905     ,  7.76      , 16.75      , 13.3847365 , 15.5       ,\n",
              "        6.055     , 12.76820225,  6.305     , 20.85      , 20.75      ,\n",
              "        8.895     , 19.7       ,  8.75      , 13.3       ,  8.31      ,\n",
              "       19.75      , 17.1       , 10.5       ,  6.635     , 11.84745989,\n",
              "       14.15      ,  8.89      , 12.81734421,  9.1       ,  7.5       ,\n",
              "       16.85      ,  7.485     , 11.6       , 12.65      , 20.25      ,\n",
              "        8.6       , 12.6       ,  8.88      , 20.5       , 13.5       ,\n",
              "       13.14231395,  7.235     , 13.69073077,  6.92      ,  8.02      ,\n",
              "       12.8       , 16.6       , 14.        , 16.        , 21.25      ,\n",
              "        7.365     , 18.35      ,  5.465     ,  7.27      ,  6.155     ,\n",
              "       19.5       , 15.2       , 14.5       , 13.1       , 12.3       ,\n",
              "       11.1       , 11.3       ,  5.75      , 11.35      ,  6.525     ,\n",
              "       10.3       ,  5.78      , 11.85      , 18.75      ,  5.26      ,\n",
              "       16.1       ,  9.5       , 13.8       , 14.65      ,  6.67      ,\n",
              "        6.11      , 17.2       ,  6.32      ,  4.88      ,  5.425     ,\n",
              "       13.85328467, 12.55284314, 14.1       ,  7.55      , 17.25      ,\n",
              "       12.        , 10.1       ,  7.785     , 13.15      ,  8.5       ,\n",
              "        7.63      ,  9.285     ,  7.975     , 15.7       ,  8.985     ,\n",
              "       20.35      ,  6.59      , 19.85      ,  6.26      , 18.2       ,\n",
              "        8.695     ,  7.075     ,  8.195     ,  7.09      ,  6.095     ,\n",
              "        6.15      ,  9.395     , 15.75      ,  7.475     ,  6.445     ,\n",
              "       19.1       , 15.        , 16.7       ,  7.07      ,  6.48      ,\n",
              "        9.695     , 11.15      ,  9.6       , 20.7       ,  5.5       ,\n",
              "        7.895     , 17.35      ,  7.285     ,  6.17      , 11.395     ,\n",
              "        7.71      , 12.1       , 14.35      ,  8.1       ,  8.05      ,\n",
              "       16.5       ,  6.785     ,  7.575     ,  7.47      , 15.25      ,\n",
              "        7.605     , 18.        , 21.2       ,  8.97      , 10.6       ,\n",
              "        6.865     , 10.8       , 15.15      , 18.1       , 11.34693627,\n",
              "        6.655     , 20.1       ,  7.935     , 15.35      , 12.35      ,\n",
              "        6.85      ,  8.775     , 14.85      ,  7.84      , 12.5       ,\n",
              "        8.325     ,  5.765     ,  5.985     , 14.3       ,  6.135     ,\n",
              "        8.51      ,  6.65      ,  5.695     ,  6.36      ,  8.3       ,\n",
              "        7.56      ,  8.71      ,  6.695     , 14.8       , 17.75      ,\n",
              "        8.575     ,  6.57      ,  8.68      ,  5.63      ,  9.13      ,\n",
              "        6.715     ,  5.82      ,  7.93      ,  5.        ,  7.445     ,\n",
              "        6.675     ,  8.18      ,  6.98      ,  7.435     , 20.6       ,\n",
              "        8.355     ,  8.975     , 20.2       ,  5.655     ,  5.175     ,\n",
              "       20.        ,  7.67      ,  4.785     ,  8.395     ,  6.175     ,\n",
              "        8.21      ,  5.845     ,  7.17      ,  8.785     ,  7.89      ,\n",
              "        5.32      ,  5.03      ,  8.945     ,  6.28      ,  7.565     ,\n",
              "        9.31      ,  7.02      ,  5.46      ,  6.13      ,  6.55      ,\n",
              "       17.        , 16.25      ,  5.15      ,  7.865     ,  6.575     ,\n",
              "        7.06      ,  5.785     ,  7.42      ,  6.235     ,  6.75      ,\n",
              "        5.86      ,  5.035     ,  6.38      ,  5.675     , 11.5       ,\n",
              "       21.        , 21.1       ,  4.61      ,  7.        ,  6.405     ,\n",
              "       14.7       ,  7.68      ,  8.185     ,  8.655     , 10.85      ,\n",
              "        8.42      ,  7.85      ,  4.59      ,  7.51      , 11.        ,\n",
              "        6.71      , 14.75      ,  7.59      ,  5.155     ,  6.365     ,\n",
              "        8.235     ,  5.365     ,  8.485     ,  7.535     ,  4.92      ,\n",
              "        6.385     ,  8.26      ,  7.945     ,  8.63      ,  9.21      ,\n",
              "        6.965     ,  8.905     ,  7.21      ,  7.3       ,  9.27      ,\n",
              "       10.695     ,  6.215     ,  7.405     ,  7.72      ,  6.115     ,\n",
              "        6.035     ,  6.78      , 15.3       ,  7.105     ,  7.52      ,\n",
              "        4.805     ,  6.425     ,  7.6       ,  6.61      ,  7.325     ,\n",
              "        8.115     ,  5.94      ,  5.635     ,  7.35      ,  5.825     ,\n",
              "        6.63      ,  7.05      ,  8.315     ,  6.8       ,  7.035     ,\n",
              "        8.96      ,  5.51      ,  8.43      ,  8.27      ,  7.81      ,\n",
              "        6.885     ,  5.44      ,  5.405     ,  4.635     , 10.65      ,\n",
              "        5.735     ,  6.465     ,  8.84      ,  7.75      ,  6.765     ,\n",
              "        9.065     ,  7.655     ,  4.615     ,  8.76      ,  7.1       ,\n",
              "        6.195     ,  5.615     ,  8.52      ,  7.26      ,  6.825     ,\n",
              "        5.325     ,  5.59      ,  5.88      ,  5.19      ,  6.985     ,\n",
              "        9.06      ,  6.69      ,  8.615     ,  7.275     ,  6.96      ,\n",
              "        9.17      ,  8.155     ,  5.73      ,  8.935     ,  8.92      ,\n",
              "        7.36      ,  7.64      ,  5.34      ,  7.22      ,  6.615     ,\n",
              "        6.76      ,  6.3       ,  5.98      ,  8.06      ,  6.44      ,\n",
              "        5.095     ,  8.8       ,  6.325     ,  7.31      ,  9.035     ,\n",
              "        9.105     ,  7.145     ,  4.905     ,  4.555     ,  8.        ,\n",
              "        7.315     ,  6.89      ,  5.945     ,  6.86      ,  6.935     ,\n",
              "        6.03      ,  7.725     ,  5.885     ,  7.155     ,  6.46      ,\n",
              "        5.48      ,  8.01      ,  5.8       ,  5.305     ,  6.905     ,\n",
              "        7.96      ,  5.11      ,  8.77      ,  7.685     ,  8.275     ,\n",
              "        8.38      ,  8.35      ,  9.42      ,  6.775     ,  6.4       ,\n",
              "        6.895     ,  5.485     ,  6.52      ,  8.67      ,  5.21      ,\n",
              "        5.4       ])"
            ]
          },
          "execution_count": 70,
          "metadata": {},
          "output_type": "execute_result"
        }
      ],
      "source": [
        "df2['Item_Weight'].unique()"
      ]
    },
    {
      "cell_type": "code",
      "execution_count": 85,
      "metadata": {},
      "outputs": [
        {
          "data": {
            "text/plain": [
              "array(['Low Fat', 'Regular', 'low fat', 'LF', 'reg', nan], dtype=object)"
            ]
          },
          "execution_count": 85,
          "metadata": {},
          "output_type": "execute_result"
        }
      ],
      "source": [
        "df2['Item_Fat_Content'].unique()"
      ]
    },
    {
      "cell_type": "code",
      "execution_count": 108,
      "metadata": {},
      "outputs": [],
      "source": [
        "df2.Item_Fat_Content= df2.Item_Fat_Content.replace({\"low fat\": \"Low Fat\", \"LF\": \"Low Fat\", \"reg\": \"Regular\"})\n"
      ]
    },
    {
      "cell_type": "code",
      "execution_count": 110,
      "metadata": {},
      "outputs": [
        {
          "data": {
            "text/plain": [
              "array(['Low Fat', 'Regular', nan], dtype=object)"
            ]
          },
          "execution_count": 110,
          "metadata": {},
          "output_type": "execute_result"
        }
      ],
      "source": [
        "df2['Item_Fat_Content'].unique()"
      ]
    },
    {
      "cell_type": "code",
      "execution_count": 111,
      "metadata": {},
      "outputs": [
        {
          "data": {
            "text/plain": [
              "array(['Dairy', 'Soft Drinks', 'Meat', 'Fruits and Vegetables',\n",
              "       'Household', 'Baking Goods', 'Snack Foods', 'Frozen Foods',\n",
              "       'Breakfast', 'Health and Hygiene', 'Hard Drinks', 'Canned',\n",
              "       'Breads', 'Starchy Foods', 'Others', 'Seafood', nan], dtype=object)"
            ]
          },
          "execution_count": 111,
          "metadata": {},
          "output_type": "execute_result"
        }
      ],
      "source": [
        "df2['Item_Type'].unique()"
      ]
    },
    {
      "cell_type": "code",
      "execution_count": 112,
      "metadata": {},
      "outputs": [
        {
          "data": {
            "text/plain": [
              "array([1999., 2009., 1998., 1987., 1985., 2002., 2007., 1997., 2004.,\n",
              "         nan])"
            ]
          },
          "execution_count": 112,
          "metadata": {},
          "output_type": "execute_result"
        }
      ],
      "source": [
        "df2['Outlet_Establishment_Year'].unique()"
      ]
    },
    {
      "cell_type": "code",
      "execution_count": 113,
      "metadata": {},
      "outputs": [
        {
          "data": {
            "text/plain": [
              "array(['OUT049', 'OUT018', 'OUT010', 'OUT013', 'OUT027', 'OUT045',\n",
              "       'OUT017', 'OUT046', 'OUT035', 'OUT019', nan], dtype=object)"
            ]
          },
          "execution_count": 113,
          "metadata": {},
          "output_type": "execute_result"
        }
      ],
      "source": [
        "df2['Outlet_Identifier'].unique()"
      ]
    },
    {
      "cell_type": "markdown",
      "metadata": {},
      "source": [
        "Solo se identifico inconsistencia en la columna 'Item_Fat_Content'"
      ]
    },
    {
      "cell_type": "markdown",
      "metadata": {},
      "source": [
        "8) Para cualquier columna numérica, obtengan las estadísticas resumidas para cada uno (mínimo, máximo y media)"
      ]
    },
    {
      "cell_type": "code",
      "execution_count": 115,
      "metadata": {},
      "outputs": [
        {
          "data": {
            "text/html": [
              "<div>\n",
              "<style scoped>\n",
              "    .dataframe tbody tr th:only-of-type {\n",
              "        vertical-align: middle;\n",
              "    }\n",
              "\n",
              "    .dataframe tbody tr th {\n",
              "        vertical-align: top;\n",
              "    }\n",
              "\n",
              "    .dataframe thead th {\n",
              "        text-align: right;\n",
              "    }\n",
              "</style>\n",
              "<table border=\"1\" class=\"dataframe\">\n",
              "  <thead>\n",
              "    <tr style=\"text-align: right;\">\n",
              "      <th></th>\n",
              "      <th>Item_Weight</th>\n",
              "      <th>Item_Visibility</th>\n",
              "      <th>Item_MRP</th>\n",
              "      <th>Outlet_Establishment_Year</th>\n",
              "      <th>Item_Outlet_Sales</th>\n",
              "    </tr>\n",
              "  </thead>\n",
              "  <tbody>\n",
              "    <tr>\n",
              "      <th>count</th>\n",
              "      <td>8523.000000</td>\n",
              "      <td>8523.000000</td>\n",
              "      <td>8523.000000</td>\n",
              "      <td>8523.000000</td>\n",
              "      <td>8523.000000</td>\n",
              "    </tr>\n",
              "    <tr>\n",
              "      <th>mean</th>\n",
              "      <td>12.857890</td>\n",
              "      <td>0.066132</td>\n",
              "      <td>140.992782</td>\n",
              "      <td>1997.831867</td>\n",
              "      <td>2181.288914</td>\n",
              "    </tr>\n",
              "    <tr>\n",
              "      <th>std</th>\n",
              "      <td>4.232804</td>\n",
              "      <td>0.051598</td>\n",
              "      <td>62.275067</td>\n",
              "      <td>8.371760</td>\n",
              "      <td>1706.499616</td>\n",
              "    </tr>\n",
              "    <tr>\n",
              "      <th>min</th>\n",
              "      <td>4.555000</td>\n",
              "      <td>0.000000</td>\n",
              "      <td>31.290000</td>\n",
              "      <td>1985.000000</td>\n",
              "      <td>33.290000</td>\n",
              "    </tr>\n",
              "    <tr>\n",
              "      <th>25%</th>\n",
              "      <td>9.310000</td>\n",
              "      <td>0.026989</td>\n",
              "      <td>93.826500</td>\n",
              "      <td>1987.000000</td>\n",
              "      <td>834.247400</td>\n",
              "    </tr>\n",
              "    <tr>\n",
              "      <th>50%</th>\n",
              "      <td>12.867061</td>\n",
              "      <td>0.053931</td>\n",
              "      <td>143.012800</td>\n",
              "      <td>1999.000000</td>\n",
              "      <td>1794.331000</td>\n",
              "    </tr>\n",
              "    <tr>\n",
              "      <th>75%</th>\n",
              "      <td>16.000000</td>\n",
              "      <td>0.094585</td>\n",
              "      <td>185.643700</td>\n",
              "      <td>2004.000000</td>\n",
              "      <td>3101.296400</td>\n",
              "    </tr>\n",
              "    <tr>\n",
              "      <th>max</th>\n",
              "      <td>21.350000</td>\n",
              "      <td>0.328391</td>\n",
              "      <td>266.888400</td>\n",
              "      <td>2009.000000</td>\n",
              "      <td>13086.964800</td>\n",
              "    </tr>\n",
              "  </tbody>\n",
              "</table>\n",
              "</div>"
            ],
            "text/plain": [
              "       Item_Weight  Item_Visibility     Item_MRP  Outlet_Establishment_Year  \\\n",
              "count  8523.000000      8523.000000  8523.000000                8523.000000   \n",
              "mean     12.857890         0.066132   140.992782                1997.831867   \n",
              "std       4.232804         0.051598    62.275067                   8.371760   \n",
              "min       4.555000         0.000000    31.290000                1985.000000   \n",
              "25%       9.310000         0.026989    93.826500                1987.000000   \n",
              "50%      12.867061         0.053931   143.012800                1999.000000   \n",
              "75%      16.000000         0.094585   185.643700                2004.000000   \n",
              "max      21.350000         0.328391   266.888400                2009.000000   \n",
              "\n",
              "       Item_Outlet_Sales  \n",
              "count        8523.000000  \n",
              "mean         2181.288914  \n",
              "std          1706.499616  \n",
              "min            33.290000  \n",
              "25%           834.247400  \n",
              "50%          1794.331000  \n",
              "75%          3101.296400  \n",
              "max         13086.964800  "
            ]
          },
          "execution_count": 115,
          "metadata": {},
          "output_type": "execute_result"
        }
      ],
      "source": [
        "df2.describe()"
      ]
    }
  ],
  "metadata": {
    "colab": {
      "provenance": []
    },
    "kernelspec": {
      "display_name": "Python 3.6.4 64-bit",
      "language": "python",
      "name": "python3"
    },
    "language_info": {
      "codemirror_mode": {
        "name": "ipython",
        "version": 3
      },
      "file_extension": ".py",
      "mimetype": "text/x-python",
      "name": "python",
      "nbconvert_exporter": "python",
      "pygments_lexer": "ipython3",
      "version": "3.6.4"
    },
    "vscode": {
      "interpreter": {
        "hash": "b397f95bef55022d8a920d3324b066227adbc996278ad6fc93c42bc0fb1b33bd"
      }
    }
  },
  "nbformat": 4,
  "nbformat_minor": 0
}
